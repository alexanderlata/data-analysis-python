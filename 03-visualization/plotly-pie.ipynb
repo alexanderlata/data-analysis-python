{
 "cells": [
  {
   "cell_type": "markdown",
   "id": "1f5de02f-6be6-4693-9f3f-1d5d02499a18",
   "metadata": {},
   "source": [
    "# Визуализация с Plotly. Круговая диаграмма"
   ]
  },
  {
   "cell_type": "code",
   "execution_count": null,
   "id": "08a8a23d-62cd-495f-80c7-f782806718a7",
   "metadata": {},
   "outputs": [],
   "source": [
    "import numpy as np\n",
    "import pandas as pd\n",
    "\n",
    "import plotly.express as px\n",
    "\n",
    "# Не показывать FutureWarnings\n",
    "import warnings\n",
    "warnings.simplefilter(action='ignore', category=FutureWarning)"
   ]
  },
  {
   "cell_type": "code",
   "execution_count": null,
   "id": "8bcb0fd4-bf15-4e7f-a3ea-fbc4eea01e27",
   "metadata": {},
   "outputs": [],
   "source": [
    "# Создание DataFrame с долями рынка мобильных брендов\n",
    "mobile_market = pd.DataFrame({ 'Brand': [\"Samsung\",\"Huawei\",\"Apple\",\"Xiaomi\",\"OPPO\",\"Other\"], \n",
    "                               'Share':[.2090,.1580,.1210,.0930,.0870,.3320]})\n",
    "mobile_market"
   ]
  },
  {
   "cell_type": "code",
   "execution_count": null,
   "id": "7822ef56-d278-484a-9960-35d34097a18f",
   "metadata": {},
   "outputs": [],
   "source": [
    "# Построение круговой диаграммы\n",
    "fig = px.pie(data_frame=mobile_market, names='Brand', values='Share', title='Pie Chart')\n",
    "fig.show()"
   ]
  },
  {
   "cell_type": "code",
   "execution_count": null,
   "id": "608bd9f8",
   "metadata": {},
   "outputs": [],
   "source": [
    "# Загрузка данных\n",
    "df = pd.read_csv('../datasets/Diamond.csv')\n",
    "# Проверка количества уникальных значений в столбце 'clarity'\n",
    "df.value_counts('clarity')"
   ]
  },
  {
   "cell_type": "code",
   "execution_count": null,
   "id": "b92e35f1",
   "metadata": {},
   "outputs": [],
   "source": [
    "# Построение круговой диаграммы для столбца 'clarity'\n",
    "clarity = df.value_counts('clarity')\n",
    "\n",
    "fig = px.pie(names=clarity.index, values=clarity, title='Pie Chart')\n",
    "fig.update_traces(textposition='inside', textinfo='percent+label')\n",
    "fig.show()"
   ]
  },
  {
   "cell_type": "code",
   "execution_count": null,
   "id": "24fb6881",
   "metadata": {},
   "outputs": [],
   "source": [
    "# Подсчет значений\n",
    "colors_count = df['colour'].value_counts().reset_index()\n",
    "colors_count.columns = ['colour', 'count']\n",
    "\n",
    "# Круговая диаграмма\n",
    "fig = px.pie(colors_count, \n",
    "             values='count', \n",
    "             names='colour',\n",
    "             title='Круговая диаграмма: распределение цветов')\n",
    "\n",
    "fig.show()"
   ]
  },
  {
   "cell_type": "code",
   "execution_count": null,
   "id": "4d4eb6e3",
   "metadata": {},
   "outputs": [],
   "source": [
    "# Подсчет значений для столбца 'colour'\n",
    "colors_count = df['colour'].value_counts().reset_index()\n",
    "colors_count.columns = ['colour', 'count']\n",
    "\n",
    "# Круговая диаграмма с настройками\n",
    "fig = px.pie(colors_count, \n",
    "             values='count', \n",
    "             names='colour',\n",
    "             title='Распределение цветов алмазов',\n",
    "             color_discrete_sequence=px.colors.qualitative.Pastel,\n",
    "             hole=0.0)  # 0 = круговая, 0.3-0.6 = кольцевая\n",
    "\n",
    "# Дополнительные настройки\n",
    "fig.update_traces(textposition='inside', \n",
    "                  textinfo='percent+label',\n",
    "                  marker=dict(line=dict(color='white', width=2)))\n",
    "\n",
    "# Легенда сбоку\n",
    "fig.update_layout(showlegend=True,\n",
    "                  legend=dict(orientation=\"v\", \n",
    "                             yanchor=\"middle\", \n",
    "                             y=0.5,\n",
    "                             xanchor=\"left\", \n",
    "                             x=1.02))\n",
    "\n",
    "fig.show()"
   ]
  },
  {
   "cell_type": "markdown",
   "id": "da586946",
   "metadata": {},
   "source": [
    "# Кольцевая диаграмма (donut chart)"
   ]
  },
  {
   "cell_type": "code",
   "execution_count": null,
   "id": "3c2ca32b",
   "metadata": {},
   "outputs": [],
   "source": [
    "# Данные по доле рынка\n",
    "phone_df = pd.DataFrame({\n",
    "    'brand': ['Samsung', 'Huawei', 'Apple', 'Xiaomi', 'OPPO', 'Other'],\n",
    "    'share': [0.209, 0.158, 0.121, 0.093, 0.087, 0.332]\n",
    "})\n",
    "\n",
    "# Кольцевая диаграмма\n",
    "fig = px.pie(phone_df, \n",
    "             values='share', \n",
    "             names='brand',\n",
    "             title='Доли рынка мобильных телефонов',\n",
    "             hole=0.4)  # создает отверстие в центре (кольцевая)\n",
    "\n",
    "# Настройка отображения процентов\n",
    "fig.update_traces(textposition='outside', \n",
    "                  textinfo='percent+label')\n",
    "\n",
    "fig.show()"
   ]
  },
  {
   "cell_type": "code",
   "execution_count": null,
   "id": "f66899ad",
   "metadata": {},
   "outputs": [],
   "source": [
    "# Кольцевая диаграмма (donut chart)\n",
    "# Подсчет значений\n",
    "colors_count = df['colour'].value_counts().reset_index()\n",
    "colors_count.columns = ['colour', 'count']\n",
    "\n",
    "# Добавление процентов\n",
    "total = colors_count['count'].sum()\n",
    "colors_count['percent'] = (colors_count['count'] / total * 100).round(1)\n",
    "\n",
    "# Создание кольцевой диаграммы\n",
    "fig = px.pie(colors_count, \n",
    "             values='count', \n",
    "             names='colour',\n",
    "             title='Распределение цветов алмазов',\n",
    "             hole=0.5,\n",
    "             color_discrete_sequence=px.colors.qualitative.Set3)\n",
    "\n",
    "# Настройка текста: показать проценты и количество\n",
    "fig.update_traces(\n",
    "    textposition='inside',\n",
    "    texttemplate='%{label}<br>%{value} (%{percent})',\n",
    "    hovertemplate='<b>%{label}</b><br>Количество: %{value}<br>Процент: %{percent}<extra></extra>'\n",
    ")\n",
    "\n",
    "fig.show()"
   ]
  }
 ],
 "metadata": {
  "kernelspec": {
   "display_name": "courses",
   "language": "python",
   "name": "python3"
  },
  "language_info": {
   "codemirror_mode": {
    "name": "ipython",
    "version": 3
   },
   "file_extension": ".py",
   "mimetype": "text/x-python",
   "name": "python",
   "nbconvert_exporter": "python",
   "pygments_lexer": "ipython3",
   "version": "3.13.9"
  }
 },
 "nbformat": 4,
 "nbformat_minor": 5
}
