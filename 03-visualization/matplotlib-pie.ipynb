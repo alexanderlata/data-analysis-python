{
 "cells": [
  {
   "cell_type": "markdown",
   "metadata": {},
   "source": [
    "# Визуализация с Matplotlib. Круговая диаграмма"
   ]
  },
  {
   "cell_type": "code",
   "execution_count": null,
   "metadata": {},
   "outputs": [],
   "source": [
    "import pandas as pd\n",
    "\n",
    "import matplotlib.pyplot as plt"
   ]
  },
  {
   "cell_type": "code",
   "execution_count": null,
   "metadata": {},
   "outputs": [],
   "source": [
    "df = pd.read_csv('../datasets/Diamond.csv')\n",
    "df.head()"
   ]
  },
  {
   "cell_type": "code",
   "execution_count": null,
   "metadata": {},
   "outputs": [],
   "source": [
    "df.value_counts('colour')"
   ]
  },
  {
   "cell_type": "code",
   "execution_count": null,
   "metadata": {},
   "outputs": [],
   "source": [
    "colors = df.value_counts('colour')\n",
    "\n",
    "plt.pie(x=colors, labels = colors.index, autopct='%1.1f%%')\n",
    "plt.title(\"Круговая диаграмма: распределение цветов\")\n",
    "plt.show()"
   ]
  },
  {
   "cell_type": "code",
   "execution_count": null,
   "metadata": {},
   "outputs": [],
   "source": [
    "# Рассмотрим данные по доли рынка мобильных телефонов\n",
    "phone_df = pd.DataFrame({'brand': ['Samsung', 'Huawei', 'Apple', 'Xiaomi', 'OPPO', 'Other'],\n",
    "                         'share': [0.209, 0.158, 0.121, 0.093, 0.087, 0.332]})\n",
    "\n",
    "\n",
    "plt.pie(x='share', data=phone_df, labels = 'brand', autopct='%1.1f%%', wedgeprops=dict(width=0.6), pctdistance=0.7)\n",
    "plt.title(\"Кольцевая диаграмма: доли рынка\")\n",
    "plt.legend(loc=4)\n",
    "plt.show()"
   ]
  }
 ],
 "metadata": {
  "kernelspec": {
   "display_name": "Python 3 (ipykernel)",
   "language": "python",
   "name": "python3"
  },
  "language_info": {
   "codemirror_mode": {
    "name": "ipython",
    "version": 3
   },
   "file_extension": ".py",
   "mimetype": "text/x-python",
   "name": "python",
   "nbconvert_exporter": "python",
   "pygments_lexer": "ipython3",
   "version": "3.12.6"
  }
 },
 "nbformat": 4,
 "nbformat_minor": 4
}
