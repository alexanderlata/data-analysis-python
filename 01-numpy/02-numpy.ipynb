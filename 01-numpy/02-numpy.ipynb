{
 "cells": [
  {
   "cell_type": "markdown",
   "id": "e5d791fd",
   "metadata": {},
   "source": [
    "# Продвинутая работа с NumPy"
   ]
  },
  {
   "cell_type": "markdown",
   "id": "9f63ac2e",
   "metadata": {},
   "source": [
    "## 1. Генерация случайных чисел\n",
    "\n",
    "NumPy предоставляет мощную подсистему для генерации псевдослучайных чисел через модуль `numpy.random`. Современный подход использует `Generator` объекты."
   ]
  },
  {
   "cell_type": "markdown",
   "id": "7c63c07a",
   "metadata": {},
   "source": [
    "### Инициализация генератора"
   ]
  },
  {
   "cell_type": "code",
   "execution_count": null,
   "id": "f7ee4333",
   "metadata": {},
   "outputs": [],
   "source": [
    "import numpy as np\n",
    "from numpy.random import default_rng\n",
    "\n",
    "# Создание генератора с seed для воспроизводимости\n",
    "rng = default_rng(42)\n",
    "\n",
    "# Генератор без seed (каждый раз разные результаты)\n",
    "rng = default_rng()"
   ]
  },
  {
   "cell_type": "markdown",
   "id": "4f10ca7a",
   "metadata": {},
   "source": [
    "### Целые случайные числа"
   ]
  },
  {
   "cell_type": "code",
   "execution_count": null,
   "id": "181b6f64",
   "metadata": {},
   "outputs": [],
   "source": [
    "# Случайные целые числа в диапазоне [0, 10)\n",
    "rng.integers(0, 10, size=5)"
   ]
  },
  {
   "cell_type": "code",
   "execution_count": null,
   "id": "8d4942dd",
   "metadata": {},
   "outputs": [],
   "source": [
    "# Случайные целые числа в форме матрицы\n",
    "rng.integers(1, 100, size=(3, 4))"
   ]
  },
  {
   "cell_type": "code",
   "execution_count": null,
   "id": "06f686c4",
   "metadata": {},
   "outputs": [],
   "source": [
    "# Включая верхнюю границу\n",
    "rng.integers(1, 6, size=10, endpoint=True)  # Кубик 1-6"
   ]
  },
  {
   "cell_type": "markdown",
   "id": "dc730fe0",
   "metadata": {},
   "source": [
    "### Дробные случайные числа"
   ]
  },
  {
   "cell_type": "code",
   "execution_count": null,
   "id": "e6836962",
   "metadata": {},
   "outputs": [],
   "source": [
    "# Случайные дробные числа от 0 до 1\n",
    "rng.random(5)"
   ]
  },
  {
   "cell_type": "code",
   "execution_count": null,
   "id": "ac57c533",
   "metadata": {},
   "outputs": [],
   "source": [
    "# Случайные дробные числа от 0 до 1 в форме матрицы\n",
    "rng.random((2, 3))"
   ]
  },
  {
   "cell_type": "code",
   "execution_count": null,
   "id": "3de9d279",
   "metadata": {},
   "outputs": [],
   "source": [
    "# Случайные дробные числа от 1 до 5 включая 1, исключая 5\n",
    "rng.random(5) * 4 + 1  # Масштабирование и сдвиг"
   ]
  },
  {
   "cell_type": "code",
   "execution_count": null,
   "id": "40a9e443",
   "metadata": {},
   "outputs": [],
   "source": [
    "# Случайные дробные числа от -5 до 0 невключая 0\n",
    "rng.random((3, 2)) * 5 - 5"
   ]
  },
  {
   "cell_type": "code",
   "execution_count": null,
   "id": "8f24b379",
   "metadata": {},
   "outputs": [],
   "source": [
    "# Случайные дробные числа от 1 до 5 включая 1, исключая 5\n",
    "rng.uniform(1, 5, size=5)"
   ]
  },
  {
   "cell_type": "code",
   "execution_count": null,
   "id": "00900d55",
   "metadata": {},
   "outputs": [],
   "source": [
    "# Случайные числа в заданном диапазоне [10.0, 20.0) в форме матрицы\n",
    "rng.uniform(10.0, 20.0, size=(2, 3))"
   ]
  },
  {
   "cell_type": "markdown",
   "id": "0435acb2",
   "metadata": {},
   "source": [
    "### Выборки из нормального распределения"
   ]
  },
  {
   "cell_type": "code",
   "execution_count": null,
   "id": "1791abfd",
   "metadata": {},
   "outputs": [],
   "source": [
    "# Выборка из 10 элементов из стандартного нормального распределения (μ=0, σ=1)\n",
    "rng.standard_normal(10)"
   ]
  },
  {
   "cell_type": "code",
   "execution_count": null,
   "id": "0b6486d8",
   "metadata": {},
   "outputs": [],
   "source": [
    "# Нормальное распределение с заданными параметрами\n",
    "# μ=100, σ=15 (например, IQ тесты)\n",
    "rng.normal(100, 15, size=8)"
   ]
  },
  {
   "cell_type": "code",
   "execution_count": null,
   "id": "441b6274",
   "metadata": {},
   "outputs": [],
   "source": [
    "# Многомерное нормальное распределение\n",
    "mean = [0, 0]\n",
    "cov = [[1, 0.5], [0.5, 2]]\n",
    "rng.multivariate_normal(mean, cov, size=5)"
   ]
  },
  {
   "cell_type": "markdown",
   "id": "721cca4a",
   "metadata": {},
   "source": [
    "### Выборки из равномерного распределения"
   ]
  },
  {
   "cell_type": "code",
   "execution_count": null,
   "id": "e6a6e62d",
   "metadata": {},
   "outputs": [],
   "source": [
    "# Равномерное распределение на [0, 1)\n",
    "rng.uniform(size=5)"
   ]
  },
  {
   "cell_type": "code",
   "execution_count": null,
   "id": "2bd6a6af",
   "metadata": {},
   "outputs": [],
   "source": [
    "# Равномерное распределение на [a, b)\n",
    "rng.uniform(-5, 5, size=8)"
   ]
  },
  {
   "cell_type": "code",
   "execution_count": null,
   "id": "cf195eed",
   "metadata": {},
   "outputs": [],
   "source": [
    "# Равномерное распределение для матрицы\n",
    "rng.uniform(0, 100, size=(2, 3))"
   ]
  },
  {
   "cell_type": "markdown",
   "id": "b8d0a584",
   "metadata": {},
   "source": [
    "### Выбор элементов из массива"
   ]
  },
  {
   "cell_type": "code",
   "execution_count": null,
   "id": "7e3dba75",
   "metadata": {},
   "outputs": [],
   "source": [
    "# Исходный массив\n",
    "arr = np.array(['apple', 'banana', 'cherry', 'date', 'elderberry'])"
   ]
  },
  {
   "cell_type": "code",
   "execution_count": null,
   "id": "a3c596ba",
   "metadata": {},
   "outputs": [],
   "source": [
    "# Выбор одного случайного элемента\n",
    "rng.choice(arr)"
   ]
  },
  {
   "cell_type": "code",
   "execution_count": null,
   "id": "6eeba673",
   "metadata": {},
   "outputs": [],
   "source": [
    "# Выбор нескольких элементов с возвращением\n",
    "rng.choice(arr, size=3)"
   ]
  },
  {
   "cell_type": "code",
   "execution_count": null,
   "id": "1a2797fe",
   "metadata": {},
   "outputs": [],
   "source": [
    "# Выбор без возвращения\n",
    "rng.choice(arr, size=3, replace=False)"
   ]
  },
  {
   "cell_type": "code",
   "execution_count": null,
   "id": "b59bdc3b",
   "metadata": {},
   "outputs": [],
   "source": [
    "# Выбор с заданными вероятностями\n",
    "probabilities = [0.1, 0.2, 0.3, 0.3, 0.1]\n",
    "rng.choice(arr, size=10, p=probabilities)"
   ]
  },
  {
   "cell_type": "markdown",
   "id": "0749bdfc",
   "metadata": {},
   "source": [
    "### Перемешивание массивов"
   ]
  },
  {
   "cell_type": "code",
   "execution_count": null,
   "id": "57a034a0",
   "metadata": {},
   "outputs": [],
   "source": [
    "# Перемешивание существующего массива (изменяет исходный)\n",
    "arr = np.array([1, 2, 3, 4, 5, 6, 7, 8, 9, 10])\n",
    "rng.shuffle(arr) # Изменяет arr на месте\n",
    "print(arr)"
   ]
  },
  {
   "cell_type": "code",
   "execution_count": null,
   "id": "a7159b76",
   "metadata": {},
   "outputs": [],
   "source": [
    "# Создание перемешанной копии (не изменяет исходный)\n",
    "original = np.array([1, 2, 3, 4, 5])\n",
    "shuffled = rng.permutation(original)\n",
    "print(original)\n",
    "print(shuffled)"
   ]
  },
  {
   "cell_type": "code",
   "execution_count": null,
   "id": "54cc6d30",
   "metadata": {},
   "outputs": [],
   "source": [
    "# Случайная перестановка индексов\n",
    "indices = rng.permutation(len(arr))\n",
    "shuffled_arr = arr[indices]"
   ]
  },
  {
   "cell_type": "markdown",
   "id": "8b63279b",
   "metadata": {},
   "source": [
    "## 2. Статистические функции\n",
    "\n",
    "NumPy предоставляет обширный набор статистических функций для анализа данных."
   ]
  },
  {
   "cell_type": "markdown",
   "id": "5e010d9a",
   "metadata": {},
   "source": [
    "### Меры центральной тенденции"
   ]
  },
  {
   "cell_type": "code",
   "execution_count": null,
   "id": "cc0ad729",
   "metadata": {},
   "outputs": [],
   "source": [
    "# Для одномерных массивов\n",
    "data = np.array([1, 2, 3, 4, 5, 6, 7, 8, 9, 10])\n",
    "print(\"Data:\", data)\n",
    "\n",
    "# Среднее арифметическое\n",
    "mean = np.mean(data)\n",
    "print(\"Mean:\", mean)\n",
    "\n",
    "# Медиана\n",
    "median = np.median(data)\n",
    "print(\"Median:\", median)"
   ]
  },
  {
   "cell_type": "code",
   "execution_count": null,
   "id": "7bc8417e",
   "metadata": {},
   "outputs": [],
   "source": [
    "# Для многомерных массивов\n",
    "matrix = np.array([[1, 2, 3], [4, 5, 6], [7, 8, 9]])\n",
    "print(\"Matrix:\\n\", matrix)\n",
    "\n",
    "# Среднее по всем элементам\n",
    "mean_all= np.mean(matrix)  # 5.0\n",
    "print(\"Mean of all elements:\", mean_all)\n",
    "\n",
    "# Среднее по оси (axis=0 - по столбцам, axis=1 - по строкам)\n",
    "mean_col = np.mean(matrix, axis=0)\n",
    "print(\"Mean of each column:\", mean_col)\n",
    "\n",
    "mean_row = np.mean(matrix, axis=1)\n",
    "print(\"Mean of each row:\", mean_row)"
   ]
  },
  {
   "cell_type": "markdown",
   "id": "042b2a27",
   "metadata": {},
   "source": [
    "### Дисперсия и стандартное отклонение"
   ]
  },
  {
   "cell_type": "code",
   "execution_count": null,
   "id": "7069265e",
   "metadata": {},
   "outputs": [],
   "source": [
    "# Для одномерных массивов\n",
    "data = np.array([2, 4, 4, 4, 5, 5, 7, 9])\n",
    "print(\"Data:\", data)\n",
    "\n",
    "# Смещенная дисперсия (делитель n)\n",
    "var_biased = np.var(data)  # ddof=0 по умолчанию\n",
    "print(\"Biased Variance:\", var_biased)\n",
    "\n",
    "# Несмещенная дисперсия (делитель n-1)\n",
    "var_unbiased = np.var(data, ddof=1)\n",
    "print(\"Unbiased Variance:\", var_unbiased)\n",
    "\n",
    "# Смещенное стандартное отклонение (делитель n)\n",
    "std_dev_biased = np.std(data)  # ddof=0 по умолчанию\n",
    "print(\"Biased Standard Deviation:\", std_dev_biased)\n",
    "\n",
    "# Несмещенное стандартное отклонение (делитель n-1)\n",
    "std_dev_unbiased = np.std(data, ddof=1)\n",
    "print(\"Unbiased Standard Deviation:\", std_dev_unbiased)"
   ]
  },
  {
   "cell_type": "code",
   "execution_count": null,
   "id": "52fc08cd",
   "metadata": {},
   "outputs": [],
   "source": [
    "# Для многомерных массивов\n",
    "matrix = rng.normal(10, 2, size=(5, 4))\n",
    "print(\"Matrix:\\n\", matrix)\n",
    "\n",
    "# Смещенная дисперсия по оси (axis=0 - по столбцам, axis=1 - по строкам)\n",
    "var_biased = np.var(matrix, ddof=0, axis=0)   # Дисперсия по столбцам\n",
    "print(\"Biased Variance of each column:\", var_biased)\n",
    "\n",
    "# Смещенное стандартное отклонение по оси (axis=0 - по столбцам, axis=1 - по строкам)\n",
    "std_dev_biased = np.std(matrix, ddof=1, axis=1)   # Стд. откл. по строкам\n",
    "print(\"Biased Standard Deviation of each row:\", std_dev_biased)"
   ]
  },
  {
   "cell_type": "markdown",
   "id": "f5c68910",
   "metadata": {},
   "source": [
    "### Квантили и перцентили"
   ]
  },
  {
   "cell_type": "code",
   "execution_count": null,
   "id": "730195ea",
   "metadata": {},
   "outputs": [],
   "source": [
    "# Для одномерных массивов\n",
    "data = np.array([1, 2, 3, 4, 5, 6, 7, 8, 9, 10])\n",
    "print(\"Data:\", data)\n",
    "# Перцентили\n",
    "np.percentile(data, 25)   # 1-й квартиль: 3.25\n",
    "np.percentile(data, 50)   # Медиана: 5.5\n",
    "np.percentile(data, 75)   # 3-й квартиль: 7.75\n",
    "np.percentile(data, 90)   # 90-й перцентиль: 9.1"
   ]
  },
  {
   "cell_type": "code",
   "execution_count": null,
   "id": "0e7e8187",
   "metadata": {},
   "outputs": [],
   "source": [
    "# Несколько перцентилей одновременно\n",
    "np.percentile(data, [25, 50, 75])"
   ]
  },
  {
   "cell_type": "code",
   "execution_count": null,
   "id": "837d08c0",
   "metadata": {},
   "outputs": [],
   "source": [
    "# Квантили (более общая функция)\n",
    "np.quantile(data, 0.25)   # То же что 25-й перцентиль"
   ]
  },
  {
   "cell_type": "code",
   "execution_count": null,
   "id": "f029bf78",
   "metadata": {},
   "outputs": [],
   "source": [
    "# несколько квантилей\n",
    "np.quantile(data, [0.1, 0.5, 0.9])"
   ]
  },
  {
   "cell_type": "code",
   "execution_count": null,
   "id": "7d9fc6a7",
   "metadata": {},
   "outputs": [],
   "source": [
    "# Для многомерных массивов\n",
    "matrix = rng.integers(1, 100, size=(6, 4))\n",
    "np.percentile(matrix, 50, axis=0)  # Медиана по столбцам"
   ]
  },
  {
   "cell_type": "markdown",
   "id": "a2b59494",
   "metadata": {},
   "source": [
    "### Минимальные и максимальные значения"
   ]
  },
  {
   "cell_type": "code",
   "execution_count": null,
   "id": "98a75e83",
   "metadata": {},
   "outputs": [],
   "source": [
    "# Для одномерных массивов\n",
    "data = np.array([1, 2, 3, 4, 5, 6, 7, 8, 9, 10])\n",
    "print(\"Data:\", data)\n",
    "\n",
    "# Минимум (Наименьшее значение)\n",
    "minimum = np.min(data)\n",
    "print(\"Minimum:\", minimum)\n",
    "\n",
    "# Максимум (Наибольшее значение)\n",
    "maximum = np.max(data)\n",
    "print(\"Maximum:\", maximum)\n",
    "\n",
    "# Размах (разность между max и min)\n",
    "sample_range= np.ptp(data)\n",
    "print(\"Range of data:\", sample_range)"
   ]
  },
  {
   "cell_type": "code",
   "execution_count": null,
   "id": "e99867e7",
   "metadata": {},
   "outputs": [],
   "source": [
    "# Для многомерных массивов\n",
    "matrix = np.array([[1, 8, 3], [4, 2, 6], [7, 5, 9]])\n",
    "\n",
    "np.min(matrix)           # 1 - общий минимум\n",
    "np.min(matrix, axis=0)   # array([1, 2, 3]) - минимум по столбцам\n",
    "np.min(matrix, axis=1)   # array([1, 2, 5]) - минимум по строкам\n",
    "\n",
    "np.max(matrix, axis=0)   # array([7, 8, 9]) - максимум по столбцам"
   ]
  },
  {
   "cell_type": "markdown",
   "id": "ea447ada",
   "metadata": {},
   "source": [
    "### Дополнительные статистики"
   ]
  },
  {
   "cell_type": "code",
   "execution_count": null,
   "id": "61b3a27d",
   "metadata": {},
   "outputs": [],
   "source": [
    "# Размах межквартильный\n",
    "q75, q25 = np.percentile(data, [75, 25])\n",
    "iqr = q75 - q25\n",
    "print(f\"Межквартильный размах: {iqr}\")"
   ]
  },
  {
   "cell_type": "code",
   "execution_count": null,
   "id": "d4a89020",
   "metadata": {},
   "outputs": [],
   "source": [
    "# Ковариация между массивами\n",
    "x = np.array([1, 2, 3, 4, 5])\n",
    "y = np.array([2, 4, 1, 3, 5])\n",
    "covariance_matrix = np.cov(x, y)\n",
    "covariance = covariance_matrix[0, 1]\n",
    "print(f\"Ковариация: {covariance}\")"
   ]
  },
  {
   "cell_type": "code",
   "execution_count": null,
   "id": "af7e63f1",
   "metadata": {},
   "outputs": [],
   "source": [
    "# Корреляция между массивами\n",
    "x = np.array([1, 2, 3, 4, 5])\n",
    "y = np.array([2, 4, 1, 3, 5])\n",
    "correlation_matrix = np.corrcoef(x, y)\n",
    "correlation = correlation_matrix[0, 1]\n",
    "print(f\"Корреляция: {correlation}\")"
   ]
  },
  {
   "cell_type": "markdown",
   "id": "d075446e",
   "metadata": {},
   "source": [
    "## 3. Обработка пропусков и NaN\n",
    "\n",
    "NumPy предоставляет специальные функции для работы с пропущенными значениями (NaN - Not a Number)."
   ]
  },
  {
   "cell_type": "markdown",
   "id": "fff93783",
   "metadata": {},
   "source": [
    "### Создание и обнаружение NaN"
   ]
  },
  {
   "cell_type": "code",
   "execution_count": null,
   "id": "d4a9c47b",
   "metadata": {},
   "outputs": [],
   "source": [
    "# Создание массива с NaN\n",
    "data = np.array([1.0, 2.0, np.nan, 4.0, 5.0, np.nan, 7.0])\n",
    "\n",
    "# Проверка на NaN\n",
    "np.isnan(data)"
   ]
  },
  {
   "cell_type": "code",
   "execution_count": null,
   "id": "e57c10b8",
   "metadata": {},
   "outputs": [],
   "source": [
    "# Количество NaN значений\n",
    "np.sum(np.isnan(data))"
   ]
  },
  {
   "cell_type": "code",
   "execution_count": null,
   "id": "936f9c11",
   "metadata": {},
   "outputs": [],
   "source": [
    "# Проверка наличия хотя бы одного NaN\n",
    "np.any(np.isnan(data))"
   ]
  },
  {
   "cell_type": "code",
   "execution_count": null,
   "id": "6d2a8ed3",
   "metadata": {},
   "outputs": [],
   "source": [
    "# Проверка, что все значения не NaN\n",
    "np.all(~np.isnan(data))"
   ]
  },
  {
   "cell_type": "markdown",
   "id": "dc0a77c4",
   "metadata": {},
   "source": [
    "### Статистические функции с NaN\n",
    "NumPy предоставляет версии статистических функций, которые игнорируют NaN значения:"
   ]
  },
  {
   "cell_type": "code",
   "execution_count": null,
   "id": "445df67a",
   "metadata": {},
   "outputs": [],
   "source": [
    "data = np.array([1.0, 2.0, np.nan, 4.0, 5.0, np.nan, 7.0])\n",
    "\n",
    "# Обычные функции возвращают NaN при наличии NaN в данных\n",
    "np.mean(data)    # nan\n",
    "np.sum(data)     # nan\n",
    "\n",
    "# Функции с префиксом \"nan\" игнорируют NaN\n",
    "np.nanmean(data)    # 3.8\n",
    "np.nansum(data)     # 19.0\n",
    "np.nanstd(data)     # 2.23606797749979\n",
    "np.nanvar(data)     # 5.0\n",
    "np.nanmin(data)     # 1.0\n",
    "np.nanmax(data)     # 7.0\n",
    "np.nanmedian(data)  # 4.0\n",
    "\n",
    "# Квантили с NaN\n",
    "np.nanpercentile(data, [25, 50, 75])\n",
    "# array([2. , 4. , 5.5])"
   ]
  },
  {
   "cell_type": "markdown",
   "id": "22eb4b26",
   "metadata": {},
   "source": [
    "### Обработка NaN в многомерных массивах"
   ]
  },
  {
   "cell_type": "code",
   "execution_count": null,
   "id": "5c5f54c9",
   "metadata": {},
   "outputs": [],
   "source": [
    "# Создание матрицы с NaN\n",
    "matrix = np.array([[1.0, 2.0, np.nan],\n",
    "                   [4.0, np.nan, 6.0],\n",
    "                   [7.0, 8.0, 9.0]])\n",
    "print(matrix)\n",
    "\n",
    "# Статистики по осям\n",
    "np.nanmean(matrix, axis=0)  # array([4. , 5. , 7.5])\n",
    "np.nanmean(matrix, axis=1)  # array([1.5, 5. , 8. ])\n",
    "\n",
    "# Подсчет не-NaN элементов по осям\n",
    "np.sum(~np.isnan(matrix), axis=0)  # array([3, 2, 2])\n",
    "np.sum(~np.isnan(matrix), axis=1)  # array([2, 2, 3])"
   ]
  },
  {
   "cell_type": "markdown",
   "id": "eb706968",
   "metadata": {},
   "source": [
    "### Удаление и замена NaN"
   ]
  },
  {
   "cell_type": "code",
   "execution_count": null,
   "id": "0e3701c7",
   "metadata": {},
   "outputs": [],
   "source": [
    "data = np.array([1.0, 2.0, np.nan, 4.0, 5.0, np.nan, 7.0])\n",
    "print(data)\n",
    "# Фильтрация NaN (удаление)\n",
    "clean_data = data[~np.isnan(data)]\n",
    "clean_data"
   ]
  },
  {
   "cell_type": "code",
   "execution_count": null,
   "id": "8f1d7989",
   "metadata": {},
   "outputs": [],
   "source": [
    "# Замена NaN на конкретное значение\n",
    "filled_data = np.nan_to_num(data, nan=0.0)\n",
    "filled_data"
   ]
  },
  {
   "cell_type": "code",
   "execution_count": null,
   "id": "bfc22e28",
   "metadata": {},
   "outputs": [],
   "source": [
    "# Замена NaN на среднее значение\n",
    "mean_value = np.nanmean(data)\n",
    "data_filled = np.where(np.isnan(data), mean_value, data)\n",
    "data_filled"
   ]
  },
  {
   "cell_type": "markdown",
   "id": "8c44a7c2",
   "metadata": {},
   "source": [
    "### Обработка бесконечности"
   ]
  },
  {
   "cell_type": "code",
   "execution_count": null,
   "id": "3da293c5",
   "metadata": {},
   "outputs": [],
   "source": [
    "# Создание массива с бесконечными значениями\n",
    "data = np.array([1.0, np.inf, -np.inf, 4.0, 5.0])\n",
    "print(data)\n",
    "# Проверка на бесконечность\n",
    "np.isinf(data)"
   ]
  },
  {
   "cell_type": "code",
   "execution_count": null,
   "id": "add30b26",
   "metadata": {},
   "outputs": [],
   "source": [
    "# Проверка на положительную бесконечность\n",
    "np.isposinf(data)        # array([False,  True, False, False, False])"
   ]
  },
  {
   "cell_type": "code",
   "execution_count": null,
   "id": "6471c0ae",
   "metadata": {},
   "outputs": [],
   "source": [
    "# Проверка на отрицательную бесконечность\n",
    "np.isneginf(data)        # array([False,  True, False, False, False])"
   ]
  },
  {
   "cell_type": "code",
   "execution_count": null,
   "id": "12133140",
   "metadata": {},
   "outputs": [],
   "source": [
    "# Проверка на конечность\n",
    "np.isfinite(data)        # array([ True, False, False,  True,  True])"
   ]
  },
  {
   "cell_type": "code",
   "execution_count": null,
   "id": "4a4c0fcf",
   "metadata": {},
   "outputs": [],
   "source": [
    "# Замена бесконечных значений\n",
    "np.nan_to_num(data, posinf=999, neginf=-999)"
   ]
  },
  {
   "cell_type": "markdown",
   "id": "83e0a223",
   "metadata": {},
   "source": [
    "## 4. Функции поиска\n",
    "NumPy предоставляет мощные функции для поиска элементов и индексов в массивах"
   ]
  },
  {
   "cell_type": "markdown",
   "id": "234c2417",
   "metadata": {},
   "source": [
    "### Функция where()"
   ]
  },
  {
   "cell_type": "code",
   "execution_count": null,
   "id": "7f6cd0ca",
   "metadata": {},
   "outputs": [],
   "source": [
    "# Базовое использование where для условной фильтрации\n",
    "data = np.array([1, 5, 3, 8, 2, 9, 4])\n",
    "print(data)\n",
    "\n",
    "# Поиск индексов элементов, удовлетворяющих условию\n",
    "indices = np.where(data > 5)\n",
    "print(indices)\n",
    "print(data[indices])"
   ]
  },
  {
   "cell_type": "code",
   "execution_count": null,
   "id": "5d08918a",
   "metadata": {},
   "outputs": [],
   "source": [
    "# Условная замена значений\n",
    "result = np.where(data > 5, data, 0)  # Если > 5, оставить, иначе 0\n",
    "result"
   ]
  },
  {
   "cell_type": "code",
   "execution_count": null,
   "id": "bda68460",
   "metadata": {},
   "outputs": [],
   "source": [
    "# Сложные условия\n",
    "conditions = ((data > 3) & \n",
    "              (data < 7)\n",
    "              )\n",
    "result = np.where(conditions, data, -1)\n",
    "result"
   ]
  },
  {
   "cell_type": "code",
   "execution_count": null,
   "id": "2f2c1e23",
   "metadata": {},
   "outputs": [],
   "source": [
    "# Многомерные массивы\n",
    "matrix = np.array([[1, 8, 3], [4, 2, 9], [7, 5, 6]])\n",
    "print(matrix)\n",
    "\n",
    "row_indices, col_indices = np.where(matrix > 5)\n",
    "print(f\"Строки: {row_indices}, Столбцы: {col_indices}\")"
   ]
  },
  {
   "cell_type": "code",
   "execution_count": null,
   "id": "18ee9e44",
   "metadata": {},
   "outputs": [],
   "source": [
    "# Значения, удовлетворяющие условию\n",
    "values = matrix[row_indices, col_indices]\n",
    "print(values)"
   ]
  },
  {
   "cell_type": "markdown",
   "id": "967d3355",
   "metadata": {},
   "source": [
    "### argmin() и argmax()"
   ]
  },
  {
   "cell_type": "code",
   "execution_count": null,
   "id": "1a27d217",
   "metadata": {},
   "outputs": [],
   "source": [
    "data = np.array([3, 1, 4, 1, 5, 9, 2, 6])\n",
    "print(data)\n",
    "\n",
    "# Индекс минимального элемента\n",
    "min_index = np.argmin(data)\n",
    "print(f\"Минимальный элемент: {data[min_index]} в позиции {min_index}\")\n",
    "\n",
    "# Индекс максимального элемента\n",
    "max_index = np.argmax(data)\n",
    "print(f\"Максимальный элемент: {data[max_index]} в позиции {max_index}\")"
   ]
  },
  {
   "cell_type": "code",
   "execution_count": null,
   "id": "ea53b76f",
   "metadata": {},
   "outputs": [],
   "source": [
    "# Для многомерных массивов\n",
    "matrix = np.array([[1, 8, 3], [4, 2, 9], [7, 5, 6]])\n",
    "print(matrix)\n",
    "\n",
    "# индексы минимумов по столбцам\n",
    "np.argmin(matrix, axis=0)"
   ]
  },
  {
   "cell_type": "code",
   "execution_count": null,
   "id": "f3fb34b3",
   "metadata": {},
   "outputs": [],
   "source": [
    "# индексы минимумов по строкам\n",
    "np.argmin(matrix, axis=1) "
   ]
  },
  {
   "cell_type": "markdown",
   "id": "11ca914b",
   "metadata": {},
   "source": [
    "### Функции поиска с NaN"
   ]
  },
  {
   "cell_type": "code",
   "execution_count": null,
   "id": "f46d16ff",
   "metadata": {},
   "outputs": [],
   "source": [
    "data = np.array([3.0, np.nan, 4.0, 1.0, 5.0, np.nan, 2.0])\n",
    "\n",
    "# Обычные функции могут работать некорректно с NaN\n",
    "np.argmin(data)  # 1 (находит NaN как минимум)\n",
    "np.argmax(data)  # 1 (находит NaN как максимум)\n",
    "\n",
    "# Функции, игнорирующие NaN\n",
    "np.nanargmin(data)  # 3 (индекс значения 1.0)\n",
    "np.nanargmax(data)  # 4 (индекс значения 5.0)\n",
    "\n",
    "# Для многомерных массивов\n",
    "matrix = np.array([[1.0, np.nan, 3.0], \n",
    "                   [4.0, 2.0, np.nan], \n",
    "                   [np.nan, 5.0, 6.0]])\n",
    "\n",
    "# Поиск с игнорированием NaN\n",
    "np.nanargmin(matrix, axis=0)  # array([0, 1, 0])\n",
    "np.nanargmax(matrix, axis=1)  # array([2, 0, 2])"
   ]
  },
  {
   "cell_type": "markdown",
   "id": "d98c2d6c",
   "metadata": {},
   "source": [
    "## 5. Продвинутая индексация\n",
    "\n",
    "NumPy поддерживает два типа продвинутой индексации: булевую и fancy индексацию."
   ]
  },
  {
   "cell_type": "markdown",
   "id": "dc404d7e",
   "metadata": {},
   "source": [
    "### Булевая индексация"
   ]
  },
  {
   "cell_type": "code",
   "execution_count": null,
   "id": "4a2bbd04",
   "metadata": {},
   "outputs": [],
   "source": [
    "# Создание данных\n",
    "data = np.array([1, 5, 3, 8, 2, 9, 4, 6])\n",
    "print(data)\n",
    "\n",
    "# Создание булевой маски\n",
    "mask = data > 5\n",
    "print(mask)"
   ]
  },
  {
   "cell_type": "code",
   "execution_count": null,
   "id": "cc861c62",
   "metadata": {},
   "outputs": [],
   "source": [
    "# Создание данных\n",
    "data = np.array([1, 5, 3, 8, 2, 9, 4, 6])\n",
    "print(data)\n",
    "\n",
    "# Использование маски для фильтрации\n",
    "filtered_data = data[mask]\n",
    "print(filtered_data)"
   ]
  },
  {
   "cell_type": "code",
   "execution_count": null,
   "id": "f88b26ad",
   "metadata": {},
   "outputs": [],
   "source": [
    "# Создание данных\n",
    "data = np.array([1, 5, 3, 8, 2, 9, 4, 6])\n",
    "print(data)\n",
    "\n",
    "# Комбинированные условия\n",
    "complex_mask = (data > 3) & (data < 7)\n",
    "print(data[complex_mask])"
   ]
  },
  {
   "cell_type": "code",
   "execution_count": null,
   "id": "1dc143fb",
   "metadata": {},
   "outputs": [],
   "source": [
    "# Создание данных\n",
    "data = np.array([1, 5, 3, 8, 2, 9, 4, 6])\n",
    "print(data)\n",
    "\n",
    "# Логические операторы для масок\n",
    "mask1 = data > 5\n",
    "mask2 = data % 2 == 0  # четные числа\n",
    "print(data[mask1 | mask2])  # ИЛИ\n",
    "print(data[mask1 & mask2])  # И\n",
    "print(data[~mask1])         # НЕ"
   ]
  },
  {
   "cell_type": "code",
   "execution_count": null,
   "id": "9d218692",
   "metadata": {},
   "outputs": [],
   "source": [
    "# Булевая индексация для многомерных массивов\n",
    "matrix = np.array([[1, 8, 3], [4, 2, 9], [7, 5, 6]])\n",
    "print(matrix)\n",
    "\n",
    "# Фильтрация элементов, удовлетворяющих условию\n",
    "print(matrix[matrix > 5])\n",
    "\n",
    "# Построчная фильтрация\n",
    "row_sums = np.sum(matrix, axis=1)\n",
    "row_mask = row_sums > 15\n",
    "print(matrix[row_mask])  # Строки с суммой > 15\n",
    "\n",
    "# Изменение значений через булевую индексацию\n",
    "data_copy = data.copy()\n",
    "data_copy[data_copy > 5] = 99\n",
    "print(data_copy)"
   ]
  },
  {
   "cell_type": "markdown",
   "id": "030ddf4f",
   "metadata": {},
   "source": [
    "### Fancy индексация (индексация массивами)"
   ]
  },
  {
   "cell_type": "code",
   "execution_count": null,
   "id": "82e01ce6",
   "metadata": {},
   "outputs": [],
   "source": [
    "# Индексация массивом индексов\n",
    "data = np.array([10, 20, 30, 40, 50, 60, 70, 80])\n",
    "print(data)\n",
    "\n",
    "# Выбор элементов по списку индексов\n",
    "indices = [1, 3, 5, 7]\n",
    "selected = data[indices]\n",
    "print(selected)"
   ]
  },
  {
   "cell_type": "code",
   "execution_count": null,
   "id": "6804bceb",
   "metadata": {},
   "outputs": [],
   "source": [
    "# Индексация массивом индексов\n",
    "data = np.array([10, 20, 30, 40, 50, 60, 70, 80])\n",
    "print(data)\n",
    "\n",
    "# Индексы могут повторяться\n",
    "indices = [0, 0, 2, 2, 4]\n",
    "print(data[indices])"
   ]
  },
  {
   "cell_type": "code",
   "execution_count": null,
   "id": "74721426",
   "metadata": {},
   "outputs": [],
   "source": [
    "# Fancy индексация для многомерных массивов\n",
    "matrix = np.array([[1, 2, 3], [4, 5, 6], [7, 8, 9], [10, 11, 12]])\n",
    "\n",
    "# Выбор строк\n",
    "row_indices = [0, 2, 3]\n",
    "print(matrix[row_indices])"
   ]
  },
  {
   "cell_type": "markdown",
   "id": "ffbe31ec",
   "metadata": {},
   "source": [
    "### Расширенная индексация с условиями"
   ]
  },
  {
   "cell_type": "code",
   "execution_count": null,
   "id": "5027689f",
   "metadata": {},
   "outputs": [],
   "source": [
    "# Создание данных\n",
    "scores = np.array([[85, 92, 78], [76, 88, 95], [91, 83, 87], [69, 79, 84]])\n",
    "names = np.array(['Alice', 'Bob', 'Charlie', 'David'])\n",
    "\n",
    "# Поиск студентов со средним баллом > 85\n",
    "avg_scores = np.mean(scores, axis=1)\n",
    "high_achievers_mask = avg_scores > 85\n",
    "high_achievers = names[high_achievers_mask]\n",
    "high_scores = scores[high_achievers_mask]\n",
    "\n",
    "print(\"Студенты с высокими оценками:\")\n",
    "for name, score_row in zip(high_achievers, high_scores):\n",
    "    print(f\"{name}: {score_row}, среднее: {np.mean(score_row):.1f}\")\n",
    "\n",
    "# Индексация по нескольким условиям\n",
    "math_scores = scores[:, 0]\n",
    "english_scores = scores[:, 1] \n",
    "science_scores = scores[:, 2]\n",
    "\n",
    "# Студенты с математикой > 80 И английским > 85\n",
    "mask = (math_scores > 80) & (english_scores > 85)\n",
    "selected_students = names[mask]\n",
    "print(f\"Студенты с математикой > 80 И английским > 85: {selected_students}\")\n",
    "\n",
    "# Сортировка по индексам\n",
    "sort_indices = np.argsort(avg_scores)[::-1]  # По убыванию\n",
    "sorted_names = names[sort_indices]\n",
    "sorted_scores = scores[sort_indices]\n",
    "print(f\"Рейтинг: {sorted_names}\")"
   ]
  },
  {
   "cell_type": "markdown",
   "id": "e2341573",
   "metadata": {},
   "source": [
    "### Изменение значений через продвинутую индексацию"
   ]
  },
  {
   "cell_type": "code",
   "execution_count": null,
   "id": "fefd520b",
   "metadata": {},
   "outputs": [],
   "source": [
    "# Исходные данные\n",
    "data = np.array([10, 20, 30, 40, 50])\n",
    "print(data)\n",
    "\n",
    "# Изменение через булевую индексацию\n",
    "data[data > 30] *= 2  # Удваиваем значения > 30\n",
    "print(data)\n",
    "\n",
    "# Изменение через fancy индексацию\n",
    "data[[0, 2, 4]] = 999\n",
    "print(data)\n",
    "\n",
    "# Многомерные массивы\n",
    "matrix = np.arange(12).reshape(3, 4)\n",
    "print(\"Исходная матрица:\")\n",
    "print(matrix)\n",
    "\n",
    "# Изменение целых строк\n",
    "matrix[[0, 2]] = 0\n",
    "print(\"После изменения строк 0 и 2:\")\n",
    "print(matrix)\n",
    "\n",
    "# Условное изменение\n",
    "matrix[matrix < 5] = -1\n",
    "print(\"После условного изменения:\")\n",
    "print(matrix)"
   ]
  },
  {
   "cell_type": "markdown",
   "id": "0b09b494",
   "metadata": {},
   "source": [
    "## 6. Линейная алгебра\n",
    "NumPy предоставляет обширные возможности для работы с линейной алгеброй через модуль `numpy.linalg`."
   ]
  },
  {
   "cell_type": "markdown",
   "id": "ca60bdc7",
   "metadata": {},
   "source": [
    "### Основные операции с векторами"
   ]
  },
  {
   "cell_type": "code",
   "execution_count": null,
   "id": "e7591d06",
   "metadata": {},
   "outputs": [],
   "source": [
    "# Создание векторов\n",
    "u = np.array([1, 2, 3])\n",
    "v = np.array([4, 5, 6])\n",
    "\n",
    "# Скалярное произведение\n",
    "dot_product = np.dot(u, v)\n",
    "# или\n",
    "dot_product = u @ v  # Оператор матричного умножения\n",
    "print(f\"Скалярное произведение: {dot_product}\")"
   ]
  },
  {
   "cell_type": "code",
   "execution_count": null,
   "id": "2eb8e9e2",
   "metadata": {},
   "outputs": [],
   "source": [
    "# Норма вектора (длина)\n",
    "norm_u = np.linalg.norm(u)\n",
    "print(f\"Норма вектора u: {norm_u:.3f}\")  # 3.742\n",
    "\n",
    "# Различные типы норм\n",
    "l1_norm = np.linalg.norm(u, ord=1)        # L1 норма (сумма абс. значений)\n",
    "l2_norm = np.linalg.norm(u, ord=2)        # L2 норма (евклидова)\n",
    "inf_norm = np.linalg.norm(u, ord=np.inf)  # Максимальная норма"
   ]
  },
  {
   "cell_type": "code",
   "execution_count": null,
   "id": "0533d023",
   "metadata": {},
   "outputs": [],
   "source": [
    "# Нормализация вектора\n",
    "u_normalized = u / np.linalg.norm(u)\n",
    "print(f\"Нормализованный вектор: {u_normalized}\")"
   ]
  },
  {
   "cell_type": "code",
   "execution_count": null,
   "id": "e1982486",
   "metadata": {},
   "outputs": [],
   "source": [
    "# Векторное произведение (для 3D векторов)\n",
    "cross_product = np.cross(u, v)\n",
    "print(f\"Векторное произведение: {cross_product}\")"
   ]
  },
  {
   "cell_type": "markdown",
   "id": "14ded412",
   "metadata": {},
   "source": [
    "### Матричные операции"
   ]
  },
  {
   "cell_type": "code",
   "execution_count": null,
   "id": "dfa2f30d",
   "metadata": {},
   "outputs": [],
   "source": [
    "# Создание матриц\n",
    "A = np.array([[1, 2], [3, 4]])\n",
    "B = np.array([[5, 6], [7, 8]])\n",
    "\n",
    "# Матричное умножение\n",
    "C = np.dot(A, B)  # или A @ B\n",
    "print(\"A @ B =\")\n",
    "print(C)"
   ]
  },
  {
   "cell_type": "code",
   "execution_count": null,
   "id": "3768ff9e",
   "metadata": {},
   "outputs": [],
   "source": [
    "# Транспонирование\n",
    "A_T = A.T  # или np.transpose(A)\n",
    "print(\"Транспонированная матрица A:\")\n",
    "print(A_T)"
   ]
  },
  {
   "cell_type": "code",
   "execution_count": null,
   "id": "c7dd98ea",
   "metadata": {},
   "outputs": [],
   "source": [
    "# Определитель\n",
    "det_A = np.linalg.det(A)\n",
    "print(f\"Определитель A: {det_A}\")"
   ]
  },
  {
   "cell_type": "code",
   "execution_count": null,
   "id": "f93338b6",
   "metadata": {},
   "outputs": [],
   "source": [
    "# Обратная матрица\n",
    "A_inv = np.linalg.inv(A)\n",
    "print(\"Обратная матрица A:\")\n",
    "print(A_inv)\n",
    "\n",
    "# Проверка: A * A^(-1) = I\n",
    "identity_check = A @ A_inv\n",
    "print(\"A @ A^(-1) =\")\n",
    "print(identity_check)"
   ]
  },
  {
   "cell_type": "code",
   "execution_count": null,
   "id": "d12847ee",
   "metadata": {},
   "outputs": [],
   "source": [
    "# След матрицы (сумма диагональных элементов)\n",
    "trace_A = np.trace(A)\n",
    "print(f\"След матрицы A: {trace_A}\")"
   ]
  },
  {
   "cell_type": "markdown",
   "id": "3b163d95",
   "metadata": {},
   "source": [
    "### Системы линейных уравнений"
   ]
  },
  {
   "cell_type": "code",
   "execution_count": null,
   "id": "ea453a68",
   "metadata": {},
   "outputs": [],
   "source": [
    "# Система уравнений Ax = b\n",
    "# 2x + y = 3\n",
    "# x + 3y = 4\n",
    "A = np.array([[2, 1], [1, 3]])\n",
    "print(\"A:\", A)\n",
    "b = np.array([3, 4])\n",
    "print(\"b:\", b)"
   ]
  },
  {
   "cell_type": "code",
   "execution_count": null,
   "id": "b33356b4",
   "metadata": {},
   "outputs": [],
   "source": [
    "# Решение системы\n",
    "x = np.linalg.solve(A, b)\n",
    "print(f\"Решение системы: x = {x}\")"
   ]
  },
  {
   "cell_type": "code",
   "execution_count": null,
   "id": "bbf1d035",
   "metadata": {},
   "outputs": [],
   "source": [
    "# Проверка решения\n",
    "check = A @ x\n",
    "print(f\"Проверка: A @ x = {check}\")"
   ]
  }
 ],
 "metadata": {
  "kernelspec": {
   "display_name": "courses",
   "language": "python",
   "name": "python3"
  },
  "language_info": {
   "codemirror_mode": {
    "name": "ipython",
    "version": 3
   },
   "file_extension": ".py",
   "mimetype": "text/x-python",
   "name": "python",
   "nbconvert_exporter": "python",
   "pygments_lexer": "ipython3",
   "version": "3.13.5"
  }
 },
 "nbformat": 4,
 "nbformat_minor": 5
}
