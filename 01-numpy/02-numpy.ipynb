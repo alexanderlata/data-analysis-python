{
 "cells": [
  {
   "cell_type": "markdown",
   "id": "e5d791fd",
   "metadata": {},
   "source": [
    "# Продвинутая работа с NumPy"
   ]
  },
  {
   "cell_type": "markdown",
   "id": "9f63ac2e",
   "metadata": {},
   "source": [
    "## 1. Генерация случайных чисел\n",
    "\n",
    "NumPy предоставляет мощную подсистему для генерации псевдослучайных чисел через модуль `numpy.random`. Современный подход использует `Generator` объекты."
   ]
  },
  {
   "cell_type": "markdown",
   "id": "7c63c07a",
   "metadata": {},
   "source": [
    "### Инициализация генератора"
   ]
  },
  {
   "cell_type": "code",
   "execution_count": 121,
   "id": "f7ee4333",
   "metadata": {},
   "outputs": [],
   "source": [
    "import numpy as np\n",
    "from numpy.random import default_rng\n",
    "\n",
    "# Создание генератора с seed для воспроизводимости\n",
    "rng = default_rng(42)\n",
    "\n",
    "# Генератор без seed (каждый раз разные результаты)\n",
    "rng = default_rng()"
   ]
  },
  {
   "cell_type": "markdown",
   "id": "4f10ca7a",
   "metadata": {},
   "source": [
    "### Целые случайные числа"
   ]
  },
  {
   "cell_type": "code",
   "execution_count": 122,
   "id": "181b6f64",
   "metadata": {},
   "outputs": [
    {
     "data": {
      "text/plain": [
       "array([7, 4, 7, 4, 5])"
      ]
     },
     "execution_count": 122,
     "metadata": {},
     "output_type": "execute_result"
    }
   ],
   "source": [
    "# Случайные целые числа в диапазоне [0, 10)\n",
    "rng.integers(0, 10, size=5)"
   ]
  },
  {
   "cell_type": "code",
   "execution_count": 123,
   "id": "8d4942dd",
   "metadata": {},
   "outputs": [
    {
     "data": {
      "text/plain": [
       "array([[89, 85, 87, 70],\n",
       "       [98, 91, 83, 30],\n",
       "       [31, 50,  4, 44]])"
      ]
     },
     "execution_count": 123,
     "metadata": {},
     "output_type": "execute_result"
    }
   ],
   "source": [
    "# Случайные целые числа в форме матрицы\n",
    "rng.integers(1, 100, size=(3, 4))"
   ]
  },
  {
   "cell_type": "code",
   "execution_count": 124,
   "id": "06f686c4",
   "metadata": {},
   "outputs": [
    {
     "data": {
      "text/plain": [
       "array([4, 5, 4, 5, 6, 6, 2, 1, 6, 2])"
      ]
     },
     "execution_count": 124,
     "metadata": {},
     "output_type": "execute_result"
    }
   ],
   "source": [
    "# Включая верхнюю границу\n",
    "rng.integers(1, 6, size=10, endpoint=True)  # Кубик 1-6"
   ]
  },
  {
   "cell_type": "markdown",
   "id": "dc730fe0",
   "metadata": {},
   "source": [
    "### Дробные случайные числа"
   ]
  },
  {
   "cell_type": "code",
   "execution_count": 125,
   "id": "e6836962",
   "metadata": {},
   "outputs": [
    {
     "data": {
      "text/plain": [
       "array([0.26587329, 0.23740847, 0.77552564, 0.65064398, 0.34007572])"
      ]
     },
     "execution_count": 125,
     "metadata": {},
     "output_type": "execute_result"
    }
   ],
   "source": [
    "# Случайные дробные числа от 0 до 1\n",
    "rng.random(5)"
   ]
  },
  {
   "cell_type": "code",
   "execution_count": 126,
   "id": "ac57c533",
   "metadata": {},
   "outputs": [
    {
     "data": {
      "text/plain": [
       "array([[0.20928755, 0.37761648, 0.73793297],\n",
       "       [0.38747505, 0.88130636, 0.78161035]])"
      ]
     },
     "execution_count": 126,
     "metadata": {},
     "output_type": "execute_result"
    }
   ],
   "source": [
    "# Случайные дробные числа от 0 до 1 в форме матрицы\n",
    "rng.random((2, 3))"
   ]
  },
  {
   "cell_type": "code",
   "execution_count": 127,
   "id": "3de9d279",
   "metadata": {},
   "outputs": [
    {
     "data": {
      "text/plain": [
       "array([1.40027964, 2.77829496, 2.06875899, 3.20922167, 3.22082456])"
      ]
     },
     "execution_count": 127,
     "metadata": {},
     "output_type": "execute_result"
    }
   ],
   "source": [
    "# Случайные дробные числа от 1 до 5 включая 1, исключая 5\n",
    "rng.random(5) * 4 + 1  # Масштабирование и сдвиг"
   ]
  },
  {
   "cell_type": "code",
   "execution_count": 128,
   "id": "40a9e443",
   "metadata": {},
   "outputs": [
    {
     "data": {
      "text/plain": [
       "array([[-2.08112466, -2.80673317],\n",
       "       [-1.06037015, -1.16286682],\n",
       "       [-1.89332613, -3.43628479]])"
      ]
     },
     "execution_count": 128,
     "metadata": {},
     "output_type": "execute_result"
    }
   ],
   "source": [
    "# Случайные дробные числа от -5 до 0 невключая 0\n",
    "rng.random((3, 2)) * 5 - 5"
   ]
  },
  {
   "cell_type": "code",
   "execution_count": 129,
   "id": "8f24b379",
   "metadata": {},
   "outputs": [
    {
     "data": {
      "text/plain": [
       "array([1.85708792, 4.16582884, 1.74337624, 3.36022803, 2.63944364])"
      ]
     },
     "execution_count": 129,
     "metadata": {},
     "output_type": "execute_result"
    }
   ],
   "source": [
    "# Случайные дробные числа от 1 до 5 включая 1, исключая 5\n",
    "rng.uniform(1, 5, size=5)"
   ]
  },
  {
   "cell_type": "code",
   "execution_count": 130,
   "id": "00900d55",
   "metadata": {},
   "outputs": [
    {
     "data": {
      "text/plain": [
       "array([[14.45660359, 16.94350687, 13.61377441],\n",
       "       [18.61589676, 10.17139837, 18.70254619]])"
      ]
     },
     "execution_count": 130,
     "metadata": {},
     "output_type": "execute_result"
    }
   ],
   "source": [
    "# Случайные числа в заданном диапазоне [10.0, 20.0) в форме матрицы\n",
    "rng.uniform(10.0, 20.0, size=(2, 3))"
   ]
  },
  {
   "cell_type": "markdown",
   "id": "0435acb2",
   "metadata": {},
   "source": [
    "### Выборки из нормального распределения"
   ]
  },
  {
   "cell_type": "code",
   "execution_count": 131,
   "id": "1791abfd",
   "metadata": {},
   "outputs": [
    {
     "data": {
      "text/plain": [
       "array([-0.83904797, -0.96781498,  0.46563058,  1.27614902, -0.80745661,\n",
       "       -0.08335098,  0.05871729,  0.6493748 ,  2.11247686, -1.53755742])"
      ]
     },
     "execution_count": 131,
     "metadata": {},
     "output_type": "execute_result"
    }
   ],
   "source": [
    "# Выборка из 10 элементов из стандартного нормального распределения (μ=0, σ=1)\n",
    "rng.standard_normal(10)"
   ]
  },
  {
   "cell_type": "code",
   "execution_count": 132,
   "id": "0b6486d8",
   "metadata": {},
   "outputs": [
    {
     "data": {
      "text/plain": [
       "array([ 97.70037594, 120.07494777, 109.21270734,  85.79852162,\n",
       "       107.81570492, 108.87959189, 116.12075252, 123.98753021])"
      ]
     },
     "execution_count": 132,
     "metadata": {},
     "output_type": "execute_result"
    }
   ],
   "source": [
    "# Нормальное распределение с заданными параметрами\n",
    "# μ=100, σ=15 (например, IQ тесты)\n",
    "rng.normal(100, 15, size=8)"
   ]
  },
  {
   "cell_type": "code",
   "execution_count": 133,
   "id": "441b6274",
   "metadata": {},
   "outputs": [
    {
     "data": {
      "text/plain": [
       "array([[ 2.14557356, -0.17696184],\n",
       "       [-2.15653129, -1.04533876],\n",
       "       [ 0.9782958 , -0.01778011],\n",
       "       [-0.70693695, -1.23452177],\n",
       "       [-0.77250879,  0.07349149]])"
      ]
     },
     "execution_count": 133,
     "metadata": {},
     "output_type": "execute_result"
    }
   ],
   "source": [
    "# Многомерное нормальное распределение\n",
    "mean = [0, 0]\n",
    "cov = [[1, 0.5], [0.5, 2]]\n",
    "rng.multivariate_normal(mean, cov, size=5)"
   ]
  },
  {
   "cell_type": "markdown",
   "id": "721cca4a",
   "metadata": {},
   "source": [
    "### Выборки из равномерного распределения"
   ]
  },
  {
   "cell_type": "code",
   "execution_count": 134,
   "id": "e6a6e62d",
   "metadata": {},
   "outputs": [
    {
     "data": {
      "text/plain": [
       "array([0.15369632, 0.81470596, 0.82597946, 0.48502534, 0.38353812])"
      ]
     },
     "execution_count": 134,
     "metadata": {},
     "output_type": "execute_result"
    }
   ],
   "source": [
    "# Равномерное распределение на [0, 1)\n",
    "rng.uniform(size=5)"
   ]
  },
  {
   "cell_type": "code",
   "execution_count": 135,
   "id": "2bd6a6af",
   "metadata": {},
   "outputs": [
    {
     "data": {
      "text/plain": [
       "array([-0.67767026,  4.77924922, -2.56671741, -2.67142352, -2.83799981,\n",
       "       -1.47571878, -0.42968255,  2.04009751])"
      ]
     },
     "execution_count": 135,
     "metadata": {},
     "output_type": "execute_result"
    }
   ],
   "source": [
    "# Равномерное распределение на [a, b)\n",
    "rng.uniform(-5, 5, size=8)"
   ]
  },
  {
   "cell_type": "code",
   "execution_count": 136,
   "id": "cf195eed",
   "metadata": {},
   "outputs": [
    {
     "data": {
      "text/plain": [
       "array([[18.21206711, 67.2253633 , 23.82359877],\n",
       "       [89.17490462, 40.15754605, 11.46163045]])"
      ]
     },
     "execution_count": 136,
     "metadata": {},
     "output_type": "execute_result"
    }
   ],
   "source": [
    "# Равномерное распределение для матрицы\n",
    "rng.uniform(0, 100, size=(2, 3))"
   ]
  },
  {
   "cell_type": "markdown",
   "id": "b8d0a584",
   "metadata": {},
   "source": [
    "### Выбор элементов из массива"
   ]
  },
  {
   "cell_type": "code",
   "execution_count": 137,
   "id": "7e3dba75",
   "metadata": {},
   "outputs": [],
   "source": [
    "# Исходный массив\n",
    "arr = np.array(['apple', 'banana', 'cherry', 'date', 'elderberry'])"
   ]
  },
  {
   "cell_type": "code",
   "execution_count": 138,
   "id": "a3c596ba",
   "metadata": {},
   "outputs": [
    {
     "data": {
      "text/plain": [
       "np.str_('cherry')"
      ]
     },
     "execution_count": 138,
     "metadata": {},
     "output_type": "execute_result"
    }
   ],
   "source": [
    "# Выбор одного случайного элемента\n",
    "rng.choice(arr)"
   ]
  },
  {
   "cell_type": "code",
   "execution_count": 139,
   "id": "6eeba673",
   "metadata": {},
   "outputs": [
    {
     "data": {
      "text/plain": [
       "array(['cherry', 'elderberry', 'date'], dtype='<U10')"
      ]
     },
     "execution_count": 139,
     "metadata": {},
     "output_type": "execute_result"
    }
   ],
   "source": [
    "# Выбор нескольких элементов с возвращением\n",
    "rng.choice(arr, size=3)"
   ]
  },
  {
   "cell_type": "code",
   "execution_count": 140,
   "id": "1a2797fe",
   "metadata": {},
   "outputs": [
    {
     "data": {
      "text/plain": [
       "array(['cherry', 'banana', 'date'], dtype='<U10')"
      ]
     },
     "execution_count": 140,
     "metadata": {},
     "output_type": "execute_result"
    }
   ],
   "source": [
    "# Выбор без возвращения\n",
    "rng.choice(arr, size=3, replace=False)"
   ]
  },
  {
   "cell_type": "code",
   "execution_count": 141,
   "id": "b59bdc3b",
   "metadata": {},
   "outputs": [
    {
     "data": {
      "text/plain": [
       "array(['date', 'cherry', 'banana', 'date', 'banana', 'cherry', 'date',\n",
       "       'date', 'banana', 'banana'], dtype='<U10')"
      ]
     },
     "execution_count": 141,
     "metadata": {},
     "output_type": "execute_result"
    }
   ],
   "source": [
    "# Выбор с заданными вероятностями\n",
    "probabilities = [0.1, 0.2, 0.3, 0.3, 0.1]\n",
    "rng.choice(arr, size=10, p=probabilities)"
   ]
  },
  {
   "cell_type": "markdown",
   "id": "0749bdfc",
   "metadata": {},
   "source": [
    "### Перемешивание массивов"
   ]
  },
  {
   "cell_type": "code",
   "execution_count": 142,
   "id": "57a034a0",
   "metadata": {},
   "outputs": [
    {
     "name": "stdout",
     "output_type": "stream",
     "text": [
      "[ 9  6  4  2  5  1 10  7  3  8]\n"
     ]
    }
   ],
   "source": [
    "# Перемешивание существующего массива (изменяет исходный)\n",
    "arr = np.array([1, 2, 3, 4, 5, 6, 7, 8, 9, 10])\n",
    "rng.shuffle(arr) # Изменяет arr на месте\n",
    "print(arr)"
   ]
  },
  {
   "cell_type": "code",
   "execution_count": 143,
   "id": "a7159b76",
   "metadata": {},
   "outputs": [
    {
     "name": "stdout",
     "output_type": "stream",
     "text": [
      "[1 2 3 4 5]\n",
      "[4 5 3 2 1]\n"
     ]
    }
   ],
   "source": [
    "# Создание перемешанной копии (не изменяет исходный)\n",
    "original = np.array([1, 2, 3, 4, 5])\n",
    "shuffled = rng.permutation(original)\n",
    "print(original)\n",
    "print(shuffled)"
   ]
  },
  {
   "cell_type": "code",
   "execution_count": 144,
   "id": "54cc6d30",
   "metadata": {},
   "outputs": [],
   "source": [
    "# Случайная перестановка индексов\n",
    "indices = rng.permutation(len(arr))\n",
    "shuffled_arr = arr[indices]"
   ]
  },
  {
   "cell_type": "markdown",
   "id": "8b63279b",
   "metadata": {},
   "source": [
    "## 2. Статистические функции\n",
    "\n",
    "NumPy предоставляет обширный набор статистических функций для анализа данных."
   ]
  },
  {
   "cell_type": "markdown",
   "id": "5e010d9a",
   "metadata": {},
   "source": [
    "### Меры центральной тенденции"
   ]
  },
  {
   "cell_type": "code",
   "execution_count": 145,
   "id": "cc0ad729",
   "metadata": {},
   "outputs": [
    {
     "name": "stdout",
     "output_type": "stream",
     "text": [
      "Data: [ 1  2  3  4  5  6  7  8  9 10]\n",
      "Mean: 5.5\n",
      "Median: 5.5\n"
     ]
    }
   ],
   "source": [
    "# Для одномерных массивов\n",
    "data = np.array([1, 2, 3, 4, 5, 6, 7, 8, 9, 10])\n",
    "print(\"Data:\", data)\n",
    "\n",
    "# Среднее арифметическое\n",
    "mean = np.mean(data)\n",
    "print(\"Mean:\", mean)\n",
    "\n",
    "# Медиана\n",
    "median = np.median(data)\n",
    "print(\"Median:\", median)"
   ]
  },
  {
   "cell_type": "code",
   "execution_count": 146,
   "id": "7bc8417e",
   "metadata": {},
   "outputs": [
    {
     "name": "stdout",
     "output_type": "stream",
     "text": [
      "Matrix:\n",
      " [[1 2 3]\n",
      " [4 5 6]\n",
      " [7 8 9]]\n",
      "Mean of all elements: 5.0\n",
      "Mean of each column: [4. 5. 6.]\n",
      "Mean of each row: [2. 5. 8.]\n"
     ]
    }
   ],
   "source": [
    "# Для многомерных массивов\n",
    "matrix = np.array([[1, 2, 3], [4, 5, 6], [7, 8, 9]])\n",
    "print(\"Matrix:\\n\", matrix)\n",
    "\n",
    "# Среднее по всем элементам\n",
    "mean_all= np.mean(matrix)  # 5.0\n",
    "print(\"Mean of all elements:\", mean_all)\n",
    "\n",
    "# Среднее по оси (axis=0 - по столбцам, axis=1 - по строкам)\n",
    "mean_col = np.mean(matrix, axis=0)\n",
    "print(\"Mean of each column:\", mean_col)\n",
    "\n",
    "mean_row = np.mean(matrix, axis=1)\n",
    "print(\"Mean of each row:\", mean_row)"
   ]
  },
  {
   "cell_type": "markdown",
   "id": "042b2a27",
   "metadata": {},
   "source": [
    "### Дисперсия и стандартное отклонение"
   ]
  },
  {
   "cell_type": "code",
   "execution_count": 147,
   "id": "7069265e",
   "metadata": {},
   "outputs": [
    {
     "name": "stdout",
     "output_type": "stream",
     "text": [
      "Data: [2 4 4 4 5 5 7 9]\n",
      "Biased Variance: 4.0\n",
      "Unbiased Variance: 4.571428571428571\n",
      "Biased Standard Deviation: 2.0\n",
      "Unbiased Standard Deviation: 2.138089935299395\n"
     ]
    }
   ],
   "source": [
    "# Для одномерных массивов\n",
    "data = np.array([2, 4, 4, 4, 5, 5, 7, 9])\n",
    "print(\"Data:\", data)\n",
    "\n",
    "# Смещенная дисперсия (делитель n)\n",
    "var_biased = np.var(data)  # ddof=0 по умолчанию\n",
    "print(\"Biased Variance:\", var_biased)\n",
    "\n",
    "# Несмещенная дисперсия (делитель n-1)\n",
    "var_unbiased = np.var(data, ddof=1)\n",
    "print(\"Unbiased Variance:\", var_unbiased)\n",
    "\n",
    "# Смещенное стандартное отклонение (делитель n)\n",
    "std_dev_biased = np.std(data)  # ddof=0 по умолчанию\n",
    "print(\"Biased Standard Deviation:\", std_dev_biased)\n",
    "\n",
    "# Несмещенное стандартное отклонение (делитель n-1)\n",
    "std_dev_unbiased = np.std(data, ddof=1)\n",
    "print(\"Unbiased Standard Deviation:\", std_dev_unbiased)"
   ]
  },
  {
   "cell_type": "code",
   "execution_count": 148,
   "id": "52fc08cd",
   "metadata": {},
   "outputs": [
    {
     "name": "stdout",
     "output_type": "stream",
     "text": [
      "Matrix:\n",
      " [[ 9.53443975  8.55655595  9.60935605  9.2546551 ]\n",
      " [10.66646229  9.89282444 12.32386731  9.44800146]\n",
      " [10.54555055 10.33855863 10.23000614  6.11989338]\n",
      " [ 7.61378277  9.1176857  10.41495481  9.95394356]\n",
      " [12.83710107 10.48488084  9.43653     8.25032808]]\n",
      "Biased Variance of each column: [2.8829992  0.54102655 1.05674719 1.85077967]\n",
      "Biased Standard Deviation of each row: [0.47973012 1.26519416 2.12976529 1.23083329 1.95009937]\n"
     ]
    }
   ],
   "source": [
    "# Для многомерных массивов\n",
    "matrix = rng.normal(10, 2, size=(5, 4))\n",
    "print(\"Matrix:\\n\", matrix)\n",
    "\n",
    "# Смещенная дисперсия по оси (axis=0 - по столбцам, axis=1 - по строкам)\n",
    "var_biased = np.var(matrix, ddof=0, axis=0)   # Дисперсия по столбцам\n",
    "print(\"Biased Variance of each column:\", var_biased)\n",
    "\n",
    "# Смещенное стандартное отклонение по оси (axis=0 - по столбцам, axis=1 - по строкам)\n",
    "std_dev_biased = np.std(matrix, ddof=1, axis=1)   # Стд. откл. по строкам\n",
    "print(\"Biased Standard Deviation of each row:\", std_dev_biased)"
   ]
  },
  {
   "cell_type": "markdown",
   "id": "f5c68910",
   "metadata": {},
   "source": [
    "### Квантили и перцентили"
   ]
  },
  {
   "cell_type": "code",
   "execution_count": 149,
   "id": "730195ea",
   "metadata": {},
   "outputs": [
    {
     "name": "stdout",
     "output_type": "stream",
     "text": [
      "Data: [ 1  2  3  4  5  6  7  8  9 10]\n"
     ]
    },
    {
     "data": {
      "text/plain": [
       "np.float64(9.1)"
      ]
     },
     "execution_count": 149,
     "metadata": {},
     "output_type": "execute_result"
    }
   ],
   "source": [
    "# Для одномерных массивов\n",
    "data = np.array([1, 2, 3, 4, 5, 6, 7, 8, 9, 10])\n",
    "print(\"Data:\", data)\n",
    "# Перцентили\n",
    "np.percentile(data, 25)   # 1-й квартиль: 3.25\n",
    "np.percentile(data, 50)   # Медиана: 5.5\n",
    "np.percentile(data, 75)   # 3-й квартиль: 7.75\n",
    "np.percentile(data, 90)   # 90-й перцентиль: 9.1"
   ]
  },
  {
   "cell_type": "code",
   "execution_count": 150,
   "id": "0e7e8187",
   "metadata": {},
   "outputs": [
    {
     "data": {
      "text/plain": [
       "array([3.25, 5.5 , 7.75])"
      ]
     },
     "execution_count": 150,
     "metadata": {},
     "output_type": "execute_result"
    }
   ],
   "source": [
    "# Несколько перцентилей одновременно\n",
    "np.percentile(data, [25, 50, 75])"
   ]
  },
  {
   "cell_type": "code",
   "execution_count": 151,
   "id": "837d08c0",
   "metadata": {},
   "outputs": [
    {
     "data": {
      "text/plain": [
       "np.float64(3.25)"
      ]
     },
     "execution_count": 151,
     "metadata": {},
     "output_type": "execute_result"
    }
   ],
   "source": [
    "# Квантили (более общая функция)\n",
    "np.quantile(data, 0.25)   # То же что 25-й перцентиль"
   ]
  },
  {
   "cell_type": "code",
   "execution_count": 152,
   "id": "f029bf78",
   "metadata": {},
   "outputs": [
    {
     "data": {
      "text/plain": [
       "array([1.9, 5.5, 9.1])"
      ]
     },
     "execution_count": 152,
     "metadata": {},
     "output_type": "execute_result"
    }
   ],
   "source": [
    "# несколько квантилей\n",
    "np.quantile(data, [0.1, 0.5, 0.9])"
   ]
  },
  {
   "cell_type": "code",
   "execution_count": 153,
   "id": "7d9fc6a7",
   "metadata": {},
   "outputs": [
    {
     "data": {
      "text/plain": [
       "array([35. , 53. , 75. , 24.5])"
      ]
     },
     "execution_count": 153,
     "metadata": {},
     "output_type": "execute_result"
    }
   ],
   "source": [
    "# Для многомерных массивов\n",
    "matrix = rng.integers(1, 100, size=(6, 4))\n",
    "np.percentile(matrix, 50, axis=0)  # Медиана по столбцам"
   ]
  },
  {
   "cell_type": "markdown",
   "id": "a2b59494",
   "metadata": {},
   "source": [
    "### Минимальные и максимальные значения"
   ]
  },
  {
   "cell_type": "code",
   "execution_count": 154,
   "id": "98a75e83",
   "metadata": {},
   "outputs": [
    {
     "name": "stdout",
     "output_type": "stream",
     "text": [
      "Data: [ 1  2  3  4  5  6  7  8  9 10]\n",
      "Minimum: 1\n",
      "Maximum: 10\n",
      "Range of data: 9\n"
     ]
    }
   ],
   "source": [
    "# Для одномерных массивов\n",
    "data = np.array([1, 2, 3, 4, 5, 6, 7, 8, 9, 10])\n",
    "print(\"Data:\", data)\n",
    "\n",
    "# Минимум (Наименьшее значение)\n",
    "minimum = np.min(data)\n",
    "print(\"Minimum:\", minimum)\n",
    "\n",
    "# Максимум (Наибольшее значение)\n",
    "maximum = np.max(data)\n",
    "print(\"Maximum:\", maximum)\n",
    "\n",
    "# Размах (разность между max и min)\n",
    "sample_range= np.ptp(data)\n",
    "print(\"Range of data:\", sample_range)"
   ]
  },
  {
   "cell_type": "code",
   "execution_count": 155,
   "id": "e99867e7",
   "metadata": {},
   "outputs": [
    {
     "data": {
      "text/plain": [
       "array([7, 8, 9])"
      ]
     },
     "execution_count": 155,
     "metadata": {},
     "output_type": "execute_result"
    }
   ],
   "source": [
    "# Для многомерных массивов\n",
    "matrix = np.array([[1, 8, 3], [4, 2, 6], [7, 5, 9]])\n",
    "\n",
    "np.min(matrix)           # 1 - общий минимум\n",
    "np.min(matrix, axis=0)   # array([1, 2, 3]) - минимум по столбцам\n",
    "np.min(matrix, axis=1)   # array([1, 2, 5]) - минимум по строкам\n",
    "\n",
    "np.max(matrix, axis=0)   # array([7, 8, 9]) - максимум по столбцам"
   ]
  },
  {
   "cell_type": "markdown",
   "id": "ea447ada",
   "metadata": {},
   "source": [
    "### Дополнительные статистики"
   ]
  },
  {
   "cell_type": "code",
   "execution_count": 156,
   "id": "61b3a27d",
   "metadata": {},
   "outputs": [
    {
     "name": "stdout",
     "output_type": "stream",
     "text": [
      "Межквартильный размах: 4.5\n"
     ]
    }
   ],
   "source": [
    "# Размах межквартильный\n",
    "q75, q25 = np.percentile(data, [75, 25])\n",
    "iqr = q75 - q25\n",
    "print(f\"Межквартильный размах: {iqr}\")"
   ]
  },
  {
   "cell_type": "code",
   "execution_count": 157,
   "id": "d4a89020",
   "metadata": {},
   "outputs": [
    {
     "name": "stdout",
     "output_type": "stream",
     "text": [
      "Ковариация: 1.25\n"
     ]
    }
   ],
   "source": [
    "# Ковариация между массивами\n",
    "x = np.array([1, 2, 3, 4, 5])\n",
    "y = np.array([2, 4, 1, 3, 5])\n",
    "covariance_matrix = np.cov(x, y)\n",
    "covariance = covariance_matrix[0, 1]\n",
    "print(f\"Ковариация: {covariance}\")"
   ]
  },
  {
   "cell_type": "code",
   "execution_count": 158,
   "id": "af7e63f1",
   "metadata": {},
   "outputs": [
    {
     "name": "stdout",
     "output_type": "stream",
     "text": [
      "Корреляция: 0.49999999999999994\n"
     ]
    }
   ],
   "source": [
    "# Корреляция между массивами\n",
    "x = np.array([1, 2, 3, 4, 5])\n",
    "y = np.array([2, 4, 1, 3, 5])\n",
    "correlation_matrix = np.corrcoef(x, y)\n",
    "correlation = correlation_matrix[0, 1]\n",
    "print(f\"Корреляция: {correlation}\")"
   ]
  },
  {
   "cell_type": "markdown",
   "id": "d075446e",
   "metadata": {},
   "source": [
    "## 3. Обработка пропусков и NaN\n",
    "\n",
    "NumPy предоставляет специальные функции для работы с пропущенными значениями (NaN - Not a Number)."
   ]
  },
  {
   "cell_type": "markdown",
   "id": "fff93783",
   "metadata": {},
   "source": [
    "### Создание и обнаружение NaN"
   ]
  },
  {
   "cell_type": "code",
   "execution_count": 159,
   "id": "d4a9c47b",
   "metadata": {},
   "outputs": [
    {
     "data": {
      "text/plain": [
       "array([False, False,  True, False, False,  True, False])"
      ]
     },
     "execution_count": 159,
     "metadata": {},
     "output_type": "execute_result"
    }
   ],
   "source": [
    "# Создание массива с NaN\n",
    "data = np.array([1.0, 2.0, np.nan, 4.0, 5.0, np.nan, 7.0])\n",
    "\n",
    "# Проверка на NaN\n",
    "np.isnan(data)"
   ]
  },
  {
   "cell_type": "code",
   "execution_count": 160,
   "id": "e57c10b8",
   "metadata": {},
   "outputs": [
    {
     "data": {
      "text/plain": [
       "np.int64(2)"
      ]
     },
     "execution_count": 160,
     "metadata": {},
     "output_type": "execute_result"
    }
   ],
   "source": [
    "# Количество NaN значений\n",
    "np.sum(np.isnan(data))"
   ]
  },
  {
   "cell_type": "code",
   "execution_count": 161,
   "id": "936f9c11",
   "metadata": {},
   "outputs": [
    {
     "data": {
      "text/plain": [
       "np.True_"
      ]
     },
     "execution_count": 161,
     "metadata": {},
     "output_type": "execute_result"
    }
   ],
   "source": [
    "# Проверка наличия хотя бы одного NaN\n",
    "np.any(np.isnan(data))"
   ]
  },
  {
   "cell_type": "code",
   "execution_count": 162,
   "id": "6d2a8ed3",
   "metadata": {},
   "outputs": [
    {
     "data": {
      "text/plain": [
       "np.False_"
      ]
     },
     "execution_count": 162,
     "metadata": {},
     "output_type": "execute_result"
    }
   ],
   "source": [
    "# Проверка, что все значения не NaN\n",
    "np.all(~np.isnan(data))"
   ]
  },
  {
   "cell_type": "markdown",
   "id": "dc0a77c4",
   "metadata": {},
   "source": [
    "### Статистические функции с NaN\n",
    "NumPy предоставляет версии статистических функций, которые игнорируют NaN значения:"
   ]
  },
  {
   "cell_type": "code",
   "execution_count": 163,
   "id": "445df67a",
   "metadata": {},
   "outputs": [
    {
     "data": {
      "text/plain": [
       "array([2., 4., 5.])"
      ]
     },
     "execution_count": 163,
     "metadata": {},
     "output_type": "execute_result"
    }
   ],
   "source": [
    "data = np.array([1.0, 2.0, np.nan, 4.0, 5.0, np.nan, 7.0])\n",
    "\n",
    "# Обычные функции возвращают NaN при наличии NaN в данных\n",
    "np.mean(data)    # nan\n",
    "np.sum(data)     # nan\n",
    "\n",
    "# Функции с префиксом \"nan\" игнорируют NaN\n",
    "np.nanmean(data)    # 3.8\n",
    "np.nansum(data)     # 19.0\n",
    "np.nanstd(data)     # 2.23606797749979\n",
    "np.nanvar(data)     # 5.0\n",
    "np.nanmin(data)     # 1.0\n",
    "np.nanmax(data)     # 7.0\n",
    "np.nanmedian(data)  # 4.0\n",
    "\n",
    "# Квантили с NaN\n",
    "np.nanpercentile(data, [25, 50, 75])\n",
    "# array([2. , 4. , 5.5])"
   ]
  },
  {
   "cell_type": "markdown",
   "id": "22eb4b26",
   "metadata": {},
   "source": [
    "### Обработка NaN в многомерных массивах"
   ]
  },
  {
   "cell_type": "code",
   "execution_count": 191,
   "id": "5c5f54c9",
   "metadata": {},
   "outputs": [
    {
     "name": "stdout",
     "output_type": "stream",
     "text": [
      "[[ 1.  2. nan]\n",
      " [ 4. nan  6.]\n",
      " [ 7.  8.  9.]]\n"
     ]
    },
    {
     "data": {
      "text/plain": [
       "array([2, 2, 3])"
      ]
     },
     "execution_count": 191,
     "metadata": {},
     "output_type": "execute_result"
    }
   ],
   "source": [
    "# Создание матрицы с NaN\n",
    "matrix = np.array([[1.0, 2.0, np.nan],\n",
    "                   [4.0, np.nan, 6.0],\n",
    "                   [7.0, 8.0, 9.0]])\n",
    "print(matrix)\n",
    "\n",
    "# Статистики по осям\n",
    "np.nanmean(matrix, axis=0)  # array([4. , 5. , 7.5])\n",
    "np.nanmean(matrix, axis=1)  # array([1.5, 5. , 8. ])\n",
    "\n",
    "# Подсчет не-NaN элементов по осям\n",
    "np.sum(~np.isnan(matrix), axis=0)  # array([3, 2, 2])\n",
    "np.sum(~np.isnan(matrix), axis=1)  # array([2, 2, 3])"
   ]
  },
  {
   "cell_type": "markdown",
   "id": "eb706968",
   "metadata": {},
   "source": [
    "### Удаление и замена NaN"
   ]
  },
  {
   "cell_type": "code",
   "execution_count": 190,
   "id": "0e3701c7",
   "metadata": {},
   "outputs": [
    {
     "name": "stdout",
     "output_type": "stream",
     "text": [
      "[ 1.  2. nan  4.  5. nan  7.]\n"
     ]
    },
    {
     "data": {
      "text/plain": [
       "array([1., 2., 4., 5., 7.])"
      ]
     },
     "execution_count": 190,
     "metadata": {},
     "output_type": "execute_result"
    }
   ],
   "source": [
    "data = np.array([1.0, 2.0, np.nan, 4.0, 5.0, np.nan, 7.0])\n",
    "print(data)\n",
    "# Фильтрация NaN (удаление)\n",
    "clean_data = data[~np.isnan(data)]\n",
    "clean_data"
   ]
  },
  {
   "cell_type": "code",
   "execution_count": 166,
   "id": "8f1d7989",
   "metadata": {},
   "outputs": [
    {
     "data": {
      "text/plain": [
       "array([1., 2., 0., 4., 5., 0., 7.])"
      ]
     },
     "execution_count": 166,
     "metadata": {},
     "output_type": "execute_result"
    }
   ],
   "source": [
    "# Замена NaN на конкретное значение\n",
    "filled_data = np.nan_to_num(data, nan=0.0)\n",
    "filled_data"
   ]
  },
  {
   "cell_type": "code",
   "execution_count": 167,
   "id": "bfc22e28",
   "metadata": {},
   "outputs": [
    {
     "data": {
      "text/plain": [
       "array([1. , 2. , 3.8, 4. , 5. , 3.8, 7. ])"
      ]
     },
     "execution_count": 167,
     "metadata": {},
     "output_type": "execute_result"
    }
   ],
   "source": [
    "# Замена NaN на среднее значение\n",
    "mean_value = np.nanmean(data)\n",
    "data_filled = np.where(np.isnan(data), mean_value, data)\n",
    "data_filled"
   ]
  },
  {
   "cell_type": "markdown",
   "id": "8c44a7c2",
   "metadata": {},
   "source": [
    "### Обработка бесконечности"
   ]
  },
  {
   "cell_type": "code",
   "execution_count": null,
   "id": "3da293c5",
   "metadata": {},
   "outputs": [
    {
     "data": {
      "text/plain": [
       "array([False,  True,  True, False, False])"
      ]
     },
     "execution_count": 171,
     "metadata": {},
     "output_type": "execute_result"
    }
   ],
   "source": [
    "# Создание массива с бесконечными значениями\n",
    "data = np.array([1.0, np.inf, -np.inf, 4.0, 5.0])\n",
    "print(data)\n",
    "# Проверка на бесконечность\n",
    "np.isinf(data)"
   ]
  },
  {
   "cell_type": "code",
   "execution_count": 172,
   "id": "add30b26",
   "metadata": {},
   "outputs": [
    {
     "data": {
      "text/plain": [
       "array([False,  True, False, False, False])"
      ]
     },
     "execution_count": 172,
     "metadata": {},
     "output_type": "execute_result"
    }
   ],
   "source": [
    "# Проверка на положительную бесконечность\n",
    "np.isposinf(data)        # array([False,  True, False, False, False])"
   ]
  },
  {
   "cell_type": "code",
   "execution_count": 173,
   "id": "6471c0ae",
   "metadata": {},
   "outputs": [
    {
     "data": {
      "text/plain": [
       "array([False, False,  True, False, False])"
      ]
     },
     "execution_count": 173,
     "metadata": {},
     "output_type": "execute_result"
    }
   ],
   "source": [
    "# Проверка на отрицательную бесконечность\n",
    "np.isneginf(data)        # array([False,  True, False, False, False])"
   ]
  },
  {
   "cell_type": "code",
   "execution_count": 169,
   "id": "12133140",
   "metadata": {},
   "outputs": [
    {
     "data": {
      "text/plain": [
       "array([ True, False, False,  True,  True])"
      ]
     },
     "execution_count": 169,
     "metadata": {},
     "output_type": "execute_result"
    }
   ],
   "source": [
    "# Проверка на конечность\n",
    "np.isfinite(data)        # array([ True, False, False,  True,  True])"
   ]
  },
  {
   "cell_type": "code",
   "execution_count": 170,
   "id": "4a4c0fcf",
   "metadata": {},
   "outputs": [
    {
     "data": {
      "text/plain": [
       "array([   1.,  999., -999.,    4.,    5.])"
      ]
     },
     "execution_count": 170,
     "metadata": {},
     "output_type": "execute_result"
    }
   ],
   "source": [
    "# Замена бесконечных значений\n",
    "np.nan_to_num(data, posinf=999, neginf=-999)"
   ]
  },
  {
   "cell_type": "markdown",
   "id": "83e0a223",
   "metadata": {},
   "source": [
    "## 4. Функции поиска\n",
    "NumPy предоставляет мощные функции для поиска элементов и индексов в массивах"
   ]
  },
  {
   "cell_type": "markdown",
   "id": "234c2417",
   "metadata": {},
   "source": [
    "### Функция where()"
   ]
  },
  {
   "cell_type": "code",
   "execution_count": null,
   "id": "7f6cd0ca",
   "metadata": {},
   "outputs": [
    {
     "name": "stdout",
     "output_type": "stream",
     "text": [
      "[1 5 3 8 2 9 4]\n",
      "(array([3, 5]),)\n",
      "[8 9]\n"
     ]
    }
   ],
   "source": [
    "# Базовое использование where для условной фильтрации\n",
    "data = np.array([1, 5, 3, 8, 2, 9, 4])\n",
    "print(data)\n",
    "\n",
    "# Поиск индексов элементов, удовлетворяющих условию\n",
    "indices = np.where(data > 5)\n",
    "print(indices)\n",
    "print(data[indices])"
   ]
  },
  {
   "cell_type": "code",
   "execution_count": 175,
   "id": "5d08918a",
   "metadata": {},
   "outputs": [
    {
     "data": {
      "text/plain": [
       "array([0, 0, 0, 8, 0, 9, 0])"
      ]
     },
     "execution_count": 175,
     "metadata": {},
     "output_type": "execute_result"
    }
   ],
   "source": [
    "# Условная замена значений\n",
    "result = np.where(data > 5, data, 0)  # Если > 5, оставить, иначе 0\n",
    "result"
   ]
  },
  {
   "cell_type": "code",
   "execution_count": 182,
   "id": "bda68460",
   "metadata": {},
   "outputs": [
    {
     "data": {
      "text/plain": [
       "array([-1,  5, -1, -1, -1, -1,  4])"
      ]
     },
     "execution_count": 182,
     "metadata": {},
     "output_type": "execute_result"
    }
   ],
   "source": [
    "# Сложные условия\n",
    "conditions = ((data > 3) & \n",
    "              (data < 7)\n",
    "              )\n",
    "result = np.where(conditions, data, -1)\n",
    "result"
   ]
  },
  {
   "cell_type": "code",
   "execution_count": 193,
   "id": "2f2c1e23",
   "metadata": {},
   "outputs": [
    {
     "name": "stdout",
     "output_type": "stream",
     "text": [
      "[[1 8 3]\n",
      " [4 2 9]\n",
      " [7 5 6]]\n",
      "Строки: [0 1 2 2], Столбцы: [1 2 0 2]\n"
     ]
    }
   ],
   "source": [
    "# Многомерные массивы\n",
    "matrix = np.array([[1, 8, 3], [4, 2, 9], [7, 5, 6]])\n",
    "print(matrix)\n",
    "\n",
    "row_indices, col_indices = np.where(matrix > 5)\n",
    "print(f\"Строки: {row_indices}, Столбцы: {col_indices}\")"
   ]
  },
  {
   "cell_type": "code",
   "execution_count": 183,
   "id": "18ee9e44",
   "metadata": {},
   "outputs": [
    {
     "name": "stdout",
     "output_type": "stream",
     "text": [
      "[8 9 7 6]\n"
     ]
    }
   ],
   "source": [
    "# Значения, удовлетворяющие условию\n",
    "values = matrix[row_indices, col_indices]\n",
    "print(values)"
   ]
  },
  {
   "cell_type": "markdown",
   "id": "967d3355",
   "metadata": {},
   "source": [
    "### argmin() и argmax()"
   ]
  },
  {
   "cell_type": "code",
   "execution_count": 194,
   "id": "1a27d217",
   "metadata": {},
   "outputs": [
    {
     "name": "stdout",
     "output_type": "stream",
     "text": [
      "[3 1 4 1 5 9 2 6]\n",
      "Минимальный элемент: 1 в позиции 1\n",
      "Максимальный элемент: 9 в позиции 5\n"
     ]
    }
   ],
   "source": [
    "data = np.array([3, 1, 4, 1, 5, 9, 2, 6])\n",
    "print(data)\n",
    "\n",
    "# Индекс минимального элемента\n",
    "min_index = np.argmin(data)\n",
    "print(f\"Минимальный элемент: {data[min_index]} в позиции {min_index}\")\n",
    "\n",
    "# Индекс максимального элемента\n",
    "max_index = np.argmax(data)\n",
    "print(f\"Максимальный элемент: {data[max_index]} в позиции {max_index}\")"
   ]
  },
  {
   "cell_type": "code",
   "execution_count": 197,
   "id": "ea53b76f",
   "metadata": {},
   "outputs": [
    {
     "name": "stdout",
     "output_type": "stream",
     "text": [
      "[[1 8 3]\n",
      " [4 2 9]\n",
      " [7 5 6]]\n"
     ]
    },
    {
     "data": {
      "text/plain": [
       "array([0, 1, 0])"
      ]
     },
     "execution_count": 197,
     "metadata": {},
     "output_type": "execute_result"
    }
   ],
   "source": [
    "# Для многомерных массивов\n",
    "matrix = np.array([[1, 8, 3], [4, 2, 9], [7, 5, 6]])\n",
    "print(matrix)\n",
    "\n",
    "# индексы минимумов по столбцам\n",
    "np.argmin(matrix, axis=0)"
   ]
  },
  {
   "cell_type": "code",
   "execution_count": null,
   "id": "f3fb34b3",
   "metadata": {},
   "outputs": [
    {
     "data": {
      "text/plain": [
       "array([0, 1, 1])"
      ]
     },
     "execution_count": 196,
     "metadata": {},
     "output_type": "execute_result"
    }
   ],
   "source": [
    "# индексы минимумов по строкам\n",
    "np.argmin(matrix, axis=1) "
   ]
  },
  {
   "cell_type": "markdown",
   "id": "11ca914b",
   "metadata": {},
   "source": [
    "### Функции поиска с NaN"
   ]
  },
  {
   "cell_type": "code",
   "execution_count": null,
   "id": "f46d16ff",
   "metadata": {},
   "outputs": [],
   "source": [
    "data = np.array([3.0, np.nan, 4.0, 1.0, 5.0, np.nan, 2.0])\n",
    "\n",
    "# Обычные функции могут работать некорректно с NaN\n",
    "np.argmin(data)  # 1 (находит NaN как минимум)\n",
    "np.argmax(data)  # 1 (находит NaN как максимум)\n",
    "\n",
    "# Функции, игнорирующие NaN\n",
    "np.nanargmin(data)  # 3 (индекс значения 1.0)\n",
    "np.nanargmax(data)  # 4 (индекс значения 5.0)\n",
    "\n",
    "# Для многомерных массивов\n",
    "matrix = np.array([[1.0, np.nan, 3.0], \n",
    "                   [4.0, 2.0, np.nan], \n",
    "                   [np.nan, 5.0, 6.0]])\n",
    "\n",
    "# Поиск с игнорированием NaN\n",
    "np.nanargmin(matrix, axis=0)  # array([0, 1, 0])\n",
    "np.nanargmax(matrix, axis=1)  # array([2, 0, 2])"
   ]
  },
  {
   "cell_type": "markdown",
   "id": "d98c2d6c",
   "metadata": {},
   "source": [
    "## 5. Продвинутая индексация\n",
    "\n",
    "NumPy поддерживает два типа продвинутой индексации: булевую и fancy индексацию."
   ]
  },
  {
   "cell_type": "markdown",
   "id": "dc404d7e",
   "metadata": {},
   "source": [
    "### Булевая индексация"
   ]
  },
  {
   "cell_type": "code",
   "execution_count": 199,
   "id": "4a2bbd04",
   "metadata": {},
   "outputs": [
    {
     "name": "stdout",
     "output_type": "stream",
     "text": [
      "[1 5 3 8 2 9 4 6]\n",
      "[False False False  True False  True False  True]\n"
     ]
    }
   ],
   "source": [
    "# Создание данных\n",
    "data = np.array([1, 5, 3, 8, 2, 9, 4, 6])\n",
    "print(data)\n",
    "\n",
    "# Создание булевой маски\n",
    "mask = data > 5\n",
    "print(mask)"
   ]
  },
  {
   "cell_type": "code",
   "execution_count": 200,
   "id": "cc861c62",
   "metadata": {},
   "outputs": [
    {
     "name": "stdout",
     "output_type": "stream",
     "text": [
      "[1 5 3 8 2 9 4 6]\n",
      "[8 9 6]\n"
     ]
    }
   ],
   "source": [
    "# Создание данных\n",
    "data = np.array([1, 5, 3, 8, 2, 9, 4, 6])\n",
    "print(data)\n",
    "\n",
    "# Использование маски для фильтрации\n",
    "filtered_data = data[mask]\n",
    "print(filtered_data)"
   ]
  },
  {
   "cell_type": "code",
   "execution_count": 202,
   "id": "f88b26ad",
   "metadata": {},
   "outputs": [
    {
     "name": "stdout",
     "output_type": "stream",
     "text": [
      "[1 5 3 8 2 9 4 6]\n",
      "[5 4 6]\n"
     ]
    }
   ],
   "source": [
    "# Создание данных\n",
    "data = np.array([1, 5, 3, 8, 2, 9, 4, 6])\n",
    "print(data)\n",
    "\n",
    "# Комбинированные условия\n",
    "complex_mask = (data > 3) & (data < 7)\n",
    "print(data[complex_mask])"
   ]
  },
  {
   "cell_type": "code",
   "execution_count": 203,
   "id": "1dc143fb",
   "metadata": {},
   "outputs": [
    {
     "name": "stdout",
     "output_type": "stream",
     "text": [
      "[1 5 3 8 2 9 4 6]\n",
      "[8 2 9 4 6]\n",
      "[8 6]\n",
      "[1 5 3 2 4]\n"
     ]
    }
   ],
   "source": [
    "# Создание данных\n",
    "data = np.array([1, 5, 3, 8, 2, 9, 4, 6])\n",
    "print(data)\n",
    "\n",
    "# Логические операторы для масок\n",
    "mask1 = data > 5\n",
    "mask2 = data % 2 == 0  # четные числа\n",
    "print(data[mask1 | mask2])  # ИЛИ\n",
    "print(data[mask1 & mask2])  # И\n",
    "print(data[~mask1])         # НЕ"
   ]
  },
  {
   "cell_type": "code",
   "execution_count": null,
   "id": "9d218692",
   "metadata": {},
   "outputs": [
    {
     "name": "stdout",
     "output_type": "stream",
     "text": [
      "[[1 8 3]\n",
      " [4 2 9]\n",
      " [7 5 6]]\n",
      "[8 9 7 6]\n",
      "[[7 5 6]]\n",
      "[99 99 99 99 99 99 99 99]\n"
     ]
    }
   ],
   "source": [
    "# Булевая индексация для многомерных массивов\n",
    "matrix = np.array([[1, 8, 3], [4, 2, 9], [7, 5, 6]])\n",
    "print(matrix)\n",
    "\n",
    "# Фильтрация элементов, удовлетворяющих условию\n",
    "print(matrix[matrix > 5])\n",
    "\n",
    "# Построчная фильтрация\n",
    "row_sums = np.sum(matrix, axis=1)\n",
    "row_mask = row_sums > 15\n",
    "print(matrix[row_mask])  # Строки с суммой > 15\n",
    "\n",
    "# Изменение значений через булевую индексацию\n",
    "data_copy = data.copy()\n",
    "data_copy[data_copy > 5] = 99\n",
    "print(data_copy)"
   ]
  },
  {
   "cell_type": "markdown",
   "id": "030ddf4f",
   "metadata": {},
   "source": [
    "### Fancy индексация (индексация массивами)"
   ]
  },
  {
   "cell_type": "code",
   "execution_count": 204,
   "id": "82e01ce6",
   "metadata": {},
   "outputs": [
    {
     "name": "stdout",
     "output_type": "stream",
     "text": [
      "[10 20 30 40 50 60 70 80]\n",
      "[20 40 60 80]\n"
     ]
    }
   ],
   "source": [
    "# Индексация массивом индексов\n",
    "data = np.array([10, 20, 30, 40, 50, 60, 70, 80])\n",
    "print(data)\n",
    "\n",
    "# Выбор элементов по списку индексов\n",
    "indices = [1, 3, 5, 7]\n",
    "selected = data[indices]\n",
    "print(selected)"
   ]
  },
  {
   "cell_type": "code",
   "execution_count": 206,
   "id": "6804bceb",
   "metadata": {},
   "outputs": [
    {
     "name": "stdout",
     "output_type": "stream",
     "text": [
      "[10 20 30 40 50 60 70 80]\n",
      "[10 10 30 30 50]\n"
     ]
    }
   ],
   "source": [
    "# Индексация массивом индексов\n",
    "data = np.array([10, 20, 30, 40, 50, 60, 70, 80])\n",
    "print(data)\n",
    "\n",
    "# Индексы могут повторяться\n",
    "indices = [0, 0, 2, 2, 4]\n",
    "print(data[indices])"
   ]
  },
  {
   "cell_type": "code",
   "execution_count": null,
   "id": "74721426",
   "metadata": {},
   "outputs": [],
   "source": [
    "# Fancy индексация для многомерных массивов\n",
    "matrix = np.array([[1, 2, 3], [4, 5, 6], [7, 8, 9], [10, 11, 12]])\n",
    "\n",
    "# Выбор строк\n",
    "row_indices = [0, 2, 3]\n",
    "print(matrix[row_indices])"
   ]
  },
  {
   "cell_type": "markdown",
   "id": "ffbe31ec",
   "metadata": {},
   "source": [
    "### Расширенная индексация с условиями"
   ]
  },
  {
   "cell_type": "code",
   "execution_count": 208,
   "id": "5027689f",
   "metadata": {},
   "outputs": [
    {
     "name": "stdout",
     "output_type": "stream",
     "text": [
      "Студенты с высокими оценками:\n",
      "Bob: [76 88 95], среднее: 86.3\n",
      "Charlie: [91 83 87], среднее: 87.0\n",
      "Студенты с математикой > 80 И английским > 85: ['Alice']\n",
      "Рейтинг: ['Charlie' 'Bob' 'Alice' 'David']\n"
     ]
    }
   ],
   "source": [
    "# Создание данных\n",
    "scores = np.array([[85, 92, 78], [76, 88, 95], [91, 83, 87], [69, 79, 84]])\n",
    "names = np.array(['Alice', 'Bob', 'Charlie', 'David'])\n",
    "\n",
    "# Поиск студентов со средним баллом > 85\n",
    "avg_scores = np.mean(scores, axis=1)\n",
    "high_achievers_mask = avg_scores > 85\n",
    "high_achievers = names[high_achievers_mask]\n",
    "high_scores = scores[high_achievers_mask]\n",
    "\n",
    "print(\"Студенты с высокими оценками:\")\n",
    "for name, score_row in zip(high_achievers, high_scores):\n",
    "    print(f\"{name}: {score_row}, среднее: {np.mean(score_row):.1f}\")\n",
    "\n",
    "# Индексация по нескольким условиям\n",
    "math_scores = scores[:, 0]\n",
    "english_scores = scores[:, 1] \n",
    "science_scores = scores[:, 2]\n",
    "\n",
    "# Студенты с математикой > 80 И английским > 85\n",
    "mask = (math_scores > 80) & (english_scores > 85)\n",
    "selected_students = names[mask]\n",
    "print(f\"Студенты с математикой > 80 И английским > 85: {selected_students}\")\n",
    "\n",
    "# Сортировка по индексам\n",
    "sort_indices = np.argsort(avg_scores)[::-1]  # По убыванию\n",
    "sorted_names = names[sort_indices]\n",
    "sorted_scores = scores[sort_indices]\n",
    "print(f\"Рейтинг: {sorted_names}\")"
   ]
  },
  {
   "cell_type": "markdown",
   "id": "e2341573",
   "metadata": {},
   "source": [
    "### Изменение значений через продвинутую индексацию"
   ]
  },
  {
   "cell_type": "code",
   "execution_count": 210,
   "id": "fefd520b",
   "metadata": {},
   "outputs": [
    {
     "name": "stdout",
     "output_type": "stream",
     "text": [
      "[10 20 30 40 50]\n",
      "[ 10  20  30  80 100]\n",
      "[999  20 999  80 999]\n",
      "Исходная матрица:\n",
      "[[ 0  1  2  3]\n",
      " [ 4  5  6  7]\n",
      " [ 8  9 10 11]]\n",
      "После изменения строк 0 и 2:\n",
      "[[0 0 0 0]\n",
      " [4 5 6 7]\n",
      " [0 0 0 0]]\n",
      "После условного изменения:\n",
      "[[-1 -1 -1 -1]\n",
      " [-1  5  6  7]\n",
      " [-1 -1 -1 -1]]\n"
     ]
    }
   ],
   "source": [
    "# Исходные данные\n",
    "data = np.array([10, 20, 30, 40, 50])\n",
    "print(data)\n",
    "\n",
    "# Изменение через булевую индексацию\n",
    "data[data > 30] *= 2  # Удваиваем значения > 30\n",
    "print(data)\n",
    "\n",
    "# Изменение через fancy индексацию\n",
    "data[[0, 2, 4]] = 999\n",
    "print(data)\n",
    "\n",
    "# Многомерные массивы\n",
    "matrix = np.arange(12).reshape(3, 4)\n",
    "print(\"Исходная матрица:\")\n",
    "print(matrix)\n",
    "\n",
    "# Изменение целых строк\n",
    "matrix[[0, 2]] = 0\n",
    "print(\"После изменения строк 0 и 2:\")\n",
    "print(matrix)\n",
    "\n",
    "# Условное изменение\n",
    "matrix[matrix < 5] = -1\n",
    "print(\"После условного изменения:\")\n",
    "print(matrix)"
   ]
  },
  {
   "cell_type": "markdown",
   "id": "0b09b494",
   "metadata": {},
   "source": [
    "## 6. Линейная алгебра\n",
    "NumPy предоставляет обширные возможности для работы с линейной алгеброй через модуль `numpy.linalg`."
   ]
  },
  {
   "cell_type": "markdown",
   "id": "ca60bdc7",
   "metadata": {},
   "source": [
    "### Основные операции с векторами"
   ]
  },
  {
   "cell_type": "code",
   "execution_count": 211,
   "id": "e7591d06",
   "metadata": {},
   "outputs": [
    {
     "name": "stdout",
     "output_type": "stream",
     "text": [
      "Скалярное произведение: 32\n"
     ]
    }
   ],
   "source": [
    "# Создание векторов\n",
    "u = np.array([1, 2, 3])\n",
    "v = np.array([4, 5, 6])\n",
    "\n",
    "# Скалярное произведение\n",
    "dot_product = np.dot(u, v)\n",
    "# или\n",
    "dot_product = u @ v  # Оператор матричного умножения\n",
    "print(f\"Скалярное произведение: {dot_product}\")"
   ]
  },
  {
   "cell_type": "code",
   "execution_count": 212,
   "id": "2eb8e9e2",
   "metadata": {},
   "outputs": [
    {
     "name": "stdout",
     "output_type": "stream",
     "text": [
      "Норма вектора u: 3.742\n"
     ]
    }
   ],
   "source": [
    "# Норма вектора (длина)\n",
    "norm_u = np.linalg.norm(u)\n",
    "print(f\"Норма вектора u: {norm_u:.3f}\")  # 3.742\n",
    "\n",
    "# Различные типы норм\n",
    "l1_norm = np.linalg.norm(u, ord=1)        # L1 норма (сумма абс. значений)\n",
    "l2_norm = np.linalg.norm(u, ord=2)        # L2 норма (евклидова)\n",
    "inf_norm = np.linalg.norm(u, ord=np.inf)  # Максимальная норма"
   ]
  },
  {
   "cell_type": "code",
   "execution_count": 213,
   "id": "0533d023",
   "metadata": {},
   "outputs": [
    {
     "name": "stdout",
     "output_type": "stream",
     "text": [
      "Нормализованный вектор: [0.26726124 0.53452248 0.80178373]\n"
     ]
    }
   ],
   "source": [
    "# Нормализация вектора\n",
    "u_normalized = u / np.linalg.norm(u)\n",
    "print(f\"Нормализованный вектор: {u_normalized}\")"
   ]
  },
  {
   "cell_type": "code",
   "execution_count": 214,
   "id": "e1982486",
   "metadata": {},
   "outputs": [
    {
     "name": "stdout",
     "output_type": "stream",
     "text": [
      "Векторное произведение: [-3  6 -3]\n"
     ]
    }
   ],
   "source": [
    "# Векторное произведение (для 3D векторов)\n",
    "cross_product = np.cross(u, v)\n",
    "print(f\"Векторное произведение: {cross_product}\")"
   ]
  },
  {
   "cell_type": "markdown",
   "id": "14ded412",
   "metadata": {},
   "source": [
    "### Матричные операции"
   ]
  },
  {
   "cell_type": "code",
   "execution_count": 215,
   "id": "dfa2f30d",
   "metadata": {},
   "outputs": [
    {
     "name": "stdout",
     "output_type": "stream",
     "text": [
      "A @ B =\n",
      "[[19 22]\n",
      " [43 50]]\n"
     ]
    }
   ],
   "source": [
    "# Создание матриц\n",
    "A = np.array([[1, 2], [3, 4]])\n",
    "B = np.array([[5, 6], [7, 8]])\n",
    "\n",
    "# Матричное умножение\n",
    "C = np.dot(A, B)  # или A @ B\n",
    "print(\"A @ B =\")\n",
    "print(C)"
   ]
  },
  {
   "cell_type": "code",
   "execution_count": 216,
   "id": "3768ff9e",
   "metadata": {},
   "outputs": [
    {
     "name": "stdout",
     "output_type": "stream",
     "text": [
      "Транспонированная матрица A:\n",
      "[[1 3]\n",
      " [2 4]]\n"
     ]
    }
   ],
   "source": [
    "# Транспонирование\n",
    "A_T = A.T  # или np.transpose(A)\n",
    "print(\"Транспонированная матрица A:\")\n",
    "print(A_T)"
   ]
  },
  {
   "cell_type": "code",
   "execution_count": 217,
   "id": "c7dd98ea",
   "metadata": {},
   "outputs": [
    {
     "name": "stdout",
     "output_type": "stream",
     "text": [
      "Определитель A: -2.0000000000000004\n"
     ]
    }
   ],
   "source": [
    "# Определитель\n",
    "det_A = np.linalg.det(A)\n",
    "print(f\"Определитель A: {det_A}\")"
   ]
  },
  {
   "cell_type": "code",
   "execution_count": 218,
   "id": "f93338b6",
   "metadata": {},
   "outputs": [
    {
     "name": "stdout",
     "output_type": "stream",
     "text": [
      "Обратная матрица A:\n",
      "[[-2.   1. ]\n",
      " [ 1.5 -0.5]]\n",
      "A @ A^(-1) =\n",
      "[[1.0000000e+00 0.0000000e+00]\n",
      " [8.8817842e-16 1.0000000e+00]]\n"
     ]
    }
   ],
   "source": [
    "# Обратная матрица\n",
    "A_inv = np.linalg.inv(A)\n",
    "print(\"Обратная матрица A:\")\n",
    "print(A_inv)\n",
    "\n",
    "# Проверка: A * A^(-1) = I\n",
    "identity_check = A @ A_inv\n",
    "print(\"A @ A^(-1) =\")\n",
    "print(identity_check)"
   ]
  },
  {
   "cell_type": "code",
   "execution_count": 220,
   "id": "d12847ee",
   "metadata": {},
   "outputs": [
    {
     "name": "stdout",
     "output_type": "stream",
     "text": [
      "След матрицы A: 5\n"
     ]
    }
   ],
   "source": [
    "# След матрицы (сумма диагональных элементов)\n",
    "trace_A = np.trace(A)\n",
    "print(f\"След матрицы A: {trace_A}\")"
   ]
  },
  {
   "cell_type": "markdown",
   "id": "3b163d95",
   "metadata": {},
   "source": [
    "### Системы линейных уравнений"
   ]
  },
  {
   "cell_type": "code",
   "execution_count": 221,
   "id": "ea453a68",
   "metadata": {},
   "outputs": [
    {
     "name": "stdout",
     "output_type": "stream",
     "text": [
      "A: [[2 1]\n",
      " [1 3]]\n",
      "b: [3 4]\n"
     ]
    }
   ],
   "source": [
    "# Система уравнений Ax = b\n",
    "# 2x + y = 3\n",
    "# x + 3y = 4\n",
    "A = np.array([[2, 1], [1, 3]])\n",
    "print(\"A:\", A)\n",
    "b = np.array([3, 4])\n",
    "print(\"b:\", b)"
   ]
  },
  {
   "cell_type": "code",
   "execution_count": 222,
   "id": "b33356b4",
   "metadata": {},
   "outputs": [
    {
     "name": "stdout",
     "output_type": "stream",
     "text": [
      "Решение системы: x = [1. 1.]\n"
     ]
    }
   ],
   "source": [
    "# Решение системы\n",
    "x = np.linalg.solve(A, b)\n",
    "print(f\"Решение системы: x = {x}\")"
   ]
  },
  {
   "cell_type": "code",
   "execution_count": 223,
   "id": "bbf1d035",
   "metadata": {},
   "outputs": [
    {
     "name": "stdout",
     "output_type": "stream",
     "text": [
      "Проверка: A @ x = [3. 4.]\n"
     ]
    }
   ],
   "source": [
    "# Проверка решения\n",
    "check = A @ x\n",
    "print(f\"Проверка: A @ x = {check}\")"
   ]
  }
 ],
 "metadata": {
  "kernelspec": {
   "display_name": "courses",
   "language": "python",
   "name": "python3"
  },
  "language_info": {
   "codemirror_mode": {
    "name": "ipython",
    "version": 3
   },
   "file_extension": ".py",
   "mimetype": "text/x-python",
   "name": "python",
   "nbconvert_exporter": "python",
   "pygments_lexer": "ipython3",
   "version": "3.13.5"
  }
 },
 "nbformat": 4,
 "nbformat_minor": 5
}
