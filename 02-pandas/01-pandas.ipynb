{
 "cells": [
  {
   "cell_type": "markdown",
   "id": "842b89be",
   "metadata": {},
   "source": [
    "# Основы Pandas и работа с данными"
   ]
  },
  {
   "cell_type": "markdown",
   "id": "03595b75",
   "metadata": {},
   "source": [
    "## 1. Импорт библиотеки"
   ]
  },
  {
   "cell_type": "code",
   "execution_count": 1,
   "id": "b756252d",
   "metadata": {},
   "outputs": [
    {
     "name": "stdout",
     "output_type": "stream",
     "text": [
      "Версия pandas: 2.3.1\n",
      "Версия numpy: 2.3.1\n"
     ]
    }
   ],
   "source": [
    "import pandas as pd\n",
    "import numpy as np\n",
    "\n",
    "# Проверка версии\n",
    "print(f\"Версия pandas: {pd.__version__}\")\n",
    "print(f\"Версия numpy: {np.__version__}\")"
   ]
  },
  {
   "cell_type": "markdown",
   "id": "8079133a",
   "metadata": {},
   "source": [
    "## 2. Основные структуры данных"
   ]
  },
  {
   "cell_type": "markdown",
   "id": "15c84159",
   "metadata": {},
   "source": [
    "### 2.1 Series - одномерный массив с метками\n",
    "\n",
    "Series — это одномерный массив с индексами. Можно думать о нём как о столбце Excel или словаре Python."
   ]
  },
  {
   "cell_type": "code",
   "execution_count": 3,
   "id": "e5b6f4ff",
   "metadata": {},
   "outputs": [
    {
     "name": "stdout",
     "output_type": "stream",
     "text": [
      "Series из списка:\n",
      "0    10\n",
      "1    20\n",
      "2    30\n",
      "3    40\n",
      "4    50\n",
      "dtype: int64\n",
      "Тип: <class 'pandas.core.series.Series'>\n"
     ]
    }
   ],
   "source": [
    "# Создание Series из списка\n",
    "simple_series = pd.Series([10, 20, 30, 40, 50])\n",
    "print(\"Series из списка:\")\n",
    "print(simple_series)\n",
    "print(f\"Тип: {type(simple_series)}\")"
   ]
  },
  {
   "cell_type": "code",
   "execution_count": 4,
   "id": "d4d40a8c",
   "metadata": {},
   "outputs": [
    {
     "name": "stdout",
     "output_type": "stream",
     "text": [
      "\n",
      "Series с индексами:\n",
      "a    10\n",
      "b    20\n",
      "c    30\n",
      "d    40\n",
      "e    50\n",
      "dtype: int64\n"
     ]
    }
   ],
   "source": [
    "# Создание Series с явными индексами\n",
    "indexed_series = pd.Series([10, 20, 30, 40, 50], \n",
    "                           index=['a', 'b', 'c', 'd', 'e'])\n",
    "print(\"\\nSeries с индексами:\")\n",
    "print(indexed_series)"
   ]
  },
  {
   "cell_type": "code",
   "execution_count": 5,
   "id": "c86444d4",
   "metadata": {},
   "outputs": [
    {
     "name": "stdout",
     "output_type": "stream",
     "text": [
      "\n",
      "Series из словаря (население городов):\n",
      "Москва             12000000\n",
      "Санкт-Петербург     5000000\n",
      "Новосибирск         1500000\n",
      "Екатеринбург        1400000\n",
      "dtype: int64\n"
     ]
    }
   ],
   "source": [
    "# Создание Series из словаря\n",
    "dict_data = {'Москва': 12_000_000, 'Санкт-Петербург': 5_000_000, \n",
    "             'Новосибирск': 1_500_000, 'Екатеринбург': 1_400_000}\n",
    "city_population = pd.Series(dict_data)\n",
    "print(\"\\nSeries из словаря (население городов):\")\n",
    "print(city_population)"
   ]
  },
  {
   "cell_type": "code",
   "execution_count": 6,
   "id": "53181e77",
   "metadata": {},
   "outputs": [
    {
     "name": "stdout",
     "output_type": "stream",
     "text": [
      "\n",
      "Series из NumPy массива:\n",
      "Jan    1.5\n",
      "Feb    2.3\n",
      "Mar    3.7\n",
      "Apr    4.1\n",
      "May    5.9\n",
      "dtype: float64\n"
     ]
    }
   ],
   "source": [
    "# Создание Series из NumPy массива\n",
    "np_array = np.array([1.5, 2.3, 3.7, 4.1, 5.9])\n",
    "np_series = pd.Series(np_array, index=['Jan', 'Feb', 'Mar', 'Apr', 'May'])\n",
    "print(\"\\nSeries из NumPy массива:\")\n",
    "print(np_series)"
   ]
  },
  {
   "cell_type": "markdown",
   "id": "36eab150",
   "metadata": {},
   "source": [
    "### 2.2 Свойства и методы Series"
   ]
  },
  {
   "cell_type": "code",
   "execution_count": 7,
   "id": "b95048ec",
   "metadata": {},
   "outputs": [
    {
     "name": "stdout",
     "output_type": "stream",
     "text": [
      "=== СВОЙСТВА SERIES ===\n",
      "Значения (values): [12000000  5000000  1500000  1400000]\n",
      "Индекс (index): Index(['Москва', 'Санкт-Петербург', 'Новосибирск', 'Екатеринбург'], dtype='object')\n",
      "Тип данных (dtype): int64\n",
      "Форма (shape): (4,)\n",
      "Размер (size): 4\n",
      "Имя Series: None\n"
     ]
    }
   ],
   "source": [
    "# Основные свойства\n",
    "print(\"=== СВОЙСТВА SERIES ===\")\n",
    "print(f\"Значения (values): {city_population.values}\")\n",
    "print(f\"Индекс (index): {city_population.index}\")\n",
    "print(f\"Тип данных (dtype): {city_population.dtype}\")\n",
    "print(f\"Форма (shape): {city_population.shape}\")\n",
    "print(f\"Размер (size): {city_population.size}\")\n",
    "print(f\"Имя Series: {city_population.name}\")"
   ]
  },
  {
   "cell_type": "code",
   "execution_count": 8,
   "id": "53bb01ad",
   "metadata": {},
   "outputs": [
    {
     "name": "stdout",
     "output_type": "stream",
     "text": [
      "\n",
      "Series с именами:\n",
      "Город\n",
      "Москва             12000000\n",
      "Санкт-Петербург     5000000\n",
      "Новосибирск         1500000\n",
      "Екатеринбург        1400000\n",
      "Name: Население, dtype: int64\n"
     ]
    }
   ],
   "source": [
    "# Установка имени\n",
    "city_population.name = 'Население'\n",
    "city_population.index.name = 'Город'\n",
    "print(f\"\\nSeries с именами:\")\n",
    "print(city_population)"
   ]
  },
  {
   "cell_type": "code",
   "execution_count": 9,
   "id": "1eb33872",
   "metadata": {},
   "outputs": [
    {
     "name": "stdout",
     "output_type": "stream",
     "text": [
      "\n",
      "=== ДОСТУП К ЭЛЕМЕНТАМ ===\n",
      "По индексу: 12,000,000\n",
      "По позиции: 12,000,000\n",
      "Первые 2 элемента:\n",
      "Город\n",
      "Москва             12000000\n",
      "Санкт-Петербург     5000000\n",
      "Name: Население, dtype: int64\n"
     ]
    }
   ],
   "source": [
    "# Доступ к элементам\n",
    "print(\"\\n=== ДОСТУП К ЭЛЕМЕНТАМ ===\")\n",
    "print(f\"По индексу: {city_population['Москва']:,}\")\n",
    "print(f\"По позиции: {city_population.iloc[0]:,}\")\n",
    "print(f\"Первые 2 элемента:\\n{city_population.head(2)}\")"
   ]
  },
  {
   "cell_type": "code",
   "execution_count": 10,
   "id": "363743f9",
   "metadata": {},
   "outputs": [
    {
     "name": "stdout",
     "output_type": "stream",
     "text": [
      "\n",
      "=== ОПЕРАЦИИ ===\n",
      "Сумма: 19,900,000\n",
      "Среднее: 4,975,000\n",
      "Максимум: 12,000,000\n",
      "Минимум: 1,400,000\n",
      "Индекс максимального значения: Москва\n"
     ]
    }
   ],
   "source": [
    "# Операции с Series\n",
    "print(\"\\n=== ОПЕРАЦИИ ===\")\n",
    "print(f\"Сумма: {city_population.sum():,}\")\n",
    "print(f\"Среднее: {city_population.mean():,.0f}\")\n",
    "print(f\"Максимум: {city_population.max():,}\")\n",
    "print(f\"Минимум: {city_population.min():,}\")\n",
    "print(f\"Индекс максимального значения: {city_population.idxmax()}\")"
   ]
  },
  {
   "cell_type": "code",
   "execution_count": 11,
   "id": "4f823256",
   "metadata": {},
   "outputs": [
    {
     "name": "stdout",
     "output_type": "stream",
     "text": [
      "\n",
      "Население в тысячах:\n",
      "Город\n",
      "Москва             12000.0\n",
      "Санкт-Петербург     5000.0\n",
      "Новосибирск         1500.0\n",
      "Екатеринбург        1400.0\n",
      "Name: Население, dtype: float64\n"
     ]
    }
   ],
   "source": [
    "# Арифметические операции\n",
    "population_thousands = city_population / 1000\n",
    "print(f\"\\nНаселение в тысячах:\\n{population_thousands}\")"
   ]
  },
  {
   "cell_type": "code",
   "execution_count": 12,
   "id": "93b37b03",
   "metadata": {},
   "outputs": [
    {
     "name": "stdout",
     "output_type": "stream",
     "text": [
      "\n",
      "Города с населением > 2 млн:\n",
      "Город\n",
      "Москва             12000000\n",
      "Санкт-Петербург     5000000\n",
      "Name: Население, dtype: int64\n"
     ]
    }
   ],
   "source": [
    "# Фильтрация\n",
    "big_cities = city_population[city_population > 2_000_000]\n",
    "print(f\"\\nГорода с населением > 2 млн:\\n{big_cities}\")"
   ]
  },
  {
   "cell_type": "markdown",
   "id": "8d3d3be9",
   "metadata": {},
   "source": [
    "### 2.3 DataFrame - двумерная таблица\n",
    "DataFrame — это основная структура данных pandas. Это таблица с именованными столбцами и индексами строк."
   ]
  },
  {
   "cell_type": "code",
   "execution_count": 13,
   "id": "95c6d1b5",
   "metadata": {},
   "outputs": [
    {
     "name": "stdout",
     "output_type": "stream",
     "text": [
      "DataFrame из словаря:\n",
      "       name  age    city  salary\n",
      "0     Алиса   25  Москва   50000\n",
      "1       Боб   30     СПб   60000\n",
      "2      Вера   22  Москва   45000\n",
      "3  Григорий   35  Казань   75000\n",
      "4     Дарья   28     СПб   55000\n"
     ]
    }
   ],
   "source": [
    "# Создание DataFrame из словаря списков\n",
    "data = {\n",
    "    'name': ['Алиса', 'Боб', 'Вера', 'Григорий', 'Дарья'],\n",
    "    'age': [25, 30, 22, 35, 28],\n",
    "    'city': ['Москва', 'СПб', 'Москва', 'Казань', 'СПб'],\n",
    "    'salary': [50000, 60000, 45000, 75000, 55000]\n",
    "}\n",
    "\n",
    "df = pd.DataFrame(data)\n",
    "print(\"DataFrame из словаря:\")\n",
    "print(df)"
   ]
  },
  {
   "cell_type": "code",
   "execution_count": null,
   "id": "cc74a5bf",
   "metadata": {},
   "outputs": [
    {
     "name": "stdout",
     "output_type": "stream",
     "text": [
      "\n",
      "DataFrame из списка словарей:\n",
      "    product  price  quantity\n",
      "0    Laptop  50000        10\n",
      "1     Mouse    500        50\n",
      "2  Keyboard   1500        30\n"
     ]
    }
   ],
   "source": [
    "# Создание DataFrame из списка словарей\n",
    "list_of_dicts = [\n",
    "    {'product': 'Laptop', 'price': 50000, 'quantity': 10},\n",
    "    {'product': 'Mouse', 'price': 500, 'quantity': 50},\n",
    "    {'product': 'Keyboard', 'price': 1500, 'quantity': 30}\n",
    "]\n",
    "\n",
    "df_products = pd.DataFrame(list_of_dicts)\n",
    "print(\"DataFrame из списка словарей:\")\n",
    "print(df_products)"
   ]
  },
  {
   "cell_type": "code",
   "execution_count": null,
   "id": "9c971978",
   "metadata": {},
   "outputs": [
    {
     "name": "stdout",
     "output_type": "stream",
     "text": [
      "\n",
      "DataFrame из NumPy массива:\n",
      "       A   B   C\n",
      "row1  18  16  46\n",
      "row2  31  77  68\n",
      "row3  41  61  97\n",
      "row4  37  38  59\n",
      "row5  26  92   8\n"
     ]
    }
   ],
   "source": [
    "# Создание DataFrame из NumPy массива\n",
    "np_data = np.random.randint(1, 100, (5, 3))\n",
    "df_numpy = pd.DataFrame(np_data, \n",
    "                        columns=['A', 'B', 'C'],\n",
    "                        index=['row1', 'row2', 'row3', 'row4', 'row5'])\n",
    "print(\"DataFrame из NumPy массива:\")\n",
    "print(df_numpy)"
   ]
  },
  {
   "cell_type": "code",
   "execution_count": null,
   "id": "71b8d920",
   "metadata": {},
   "outputs": [
    {
     "name": "stdout",
     "output_type": "stream",
     "text": [
      "\n",
      "DataFrame из Series:\n",
      "   col1  col2\n",
      "0     1     4\n",
      "1     2     5\n",
      "2     3     6\n"
     ]
    }
   ],
   "source": [
    "# Создание DataFrame из Series\n",
    "series1 = pd.Series([1, 2, 3], name='col1')\n",
    "series2 = pd.Series([4, 5, 6], name='col2')\n",
    "df_from_series = pd.concat([series1, series2], axis=1)\n",
    "print(\"DataFrame из Series:\")\n",
    "print(df_from_series)"
   ]
  },
  {
   "cell_type": "code",
   "execution_count": null,
   "id": "0fb80145",
   "metadata": {},
   "outputs": [
    {
     "name": "stdout",
     "output_type": "stream",
     "text": [
      "\n",
      "DataFrame с пользовательским индексом:\n",
      "            name  age    city  salary\n",
      "emp001     Алиса   25  Москва   50000\n",
      "emp002       Боб   30     СПб   60000\n",
      "emp003      Вера   22  Москва   45000\n",
      "emp004  Григорий   35  Казань   75000\n",
      "emp005     Дарья   28     СПб   55000\n"
     ]
    }
   ],
   "source": [
    "# Создание DataFrame с указанием индекса\n",
    "df_indexed = pd.DataFrame(\n",
    "    data,\n",
    "    index=['emp001', 'emp002', 'emp003', 'emp004', 'emp005']\n",
    ")\n",
    "print(\"DataFrame с пользовательским индексом:\")\n",
    "print(df_indexed)"
   ]
  },
  {
   "cell_type": "markdown",
   "id": "f3a1d42f",
   "metadata": {},
   "source": [
    "### 2.4 Свойства и атрибуты DataFrame"
   ]
  },
  {
   "cell_type": "code",
   "execution_count": 19,
   "id": "82a73115",
   "metadata": {},
   "outputs": [
    {
     "name": "stdout",
     "output_type": "stream",
     "text": [
      "=== ОСНОВНЫЕ СВОЙСТВА ===\n",
      "Форма (rows, columns): (5, 4)\n",
      "Размер (total elements): 20\n",
      "Количество измерений: 2\n",
      "Типы данных:\n",
      "name      object\n",
      "age        int64\n",
      "city      object\n",
      "salary     int64\n",
      "dtype: object\n",
      "\n",
      "Индекс:\n",
      "RangeIndex(start=0, stop=5, step=1)\n",
      "\n",
      "Столбцы:\n",
      "Index(['name', 'age', 'city', 'salary'], dtype='object')\n",
      "\n",
      "Значения (как NumPy массив):\n",
      "[['Алиса' 25 'Москва' 50000]\n",
      " ['Боб' 30 'СПб' 60000]\n",
      " ['Вера' 22 'Москва' 45000]\n",
      " ['Григорий' 35 'Казань' 75000]\n",
      " ['Дарья' 28 'СПб' 55000]]\n"
     ]
    }
   ],
   "source": [
    "# Используем ранее созданный DataFrame\n",
    "print(\"=== ОСНОВНЫЕ СВОЙСТВА ===\")\n",
    "print(f\"Форма (rows, columns): {df.shape}\")\n",
    "print(f\"Размер (total elements): {df.size}\")\n",
    "print(f\"Количество измерений: {df.ndim}\")\n",
    "print(f\"Типы данных:\\n{df.dtypes}\")\n",
    "print(f\"\\nИндекс:\\n{df.index}\")\n",
    "print(f\"\\nСтолбцы:\\n{df.columns}\")\n",
    "print(f\"\\nЗначения (как NumPy массив):\\n{df.values}\")"
   ]
  },
  {
   "cell_type": "code",
   "execution_count": null,
   "id": "0251a118",
   "metadata": {},
   "outputs": [
    {
     "name": "stdout",
     "output_type": "stream",
     "text": [
      "\n",
      "=== ДОСТУП К СТОЛБЦАМ ===\n",
      "Имена: 0       Алиса\n",
      "1         Боб\n",
      "2        Вера\n",
      "3    Григорий\n",
      "4       Дарья\n",
      "Name: name, dtype: object\n",
      "\n",
      "Возраст: \n",
      "0    25\n",
      "1    30\n",
      "2    22\n",
      "3    35\n",
      "4    28\n",
      "Name: age, dtype: int64\n"
     ]
    }
   ],
   "source": [
    "# Быстрый доступ к столбцам\n",
    "print(\"=== ДОСТУП К СТОЛБЦАМ ===\")\n",
    "print(f\"Имена: {df['name']}\\n\")  # как словарь\n",
    "print(f\"Возраст: \\n{df.age}\")     # как атрибут (только если имя столбца валидно)\n"
   ]
  },
  {
   "cell_type": "code",
   "execution_count": null,
   "id": "9e071c08",
   "metadata": {},
   "outputs": [
    {
     "name": "stdout",
     "output_type": "stream",
     "text": [
      "\n",
      "Подмножество столбцов:\n",
      "       name  salary\n",
      "0     Алиса   50000\n",
      "1       Боб   60000\n",
      "2      Вера   45000\n",
      "3  Григорий   75000\n",
      "4     Дарья   55000\n"
     ]
    }
   ],
   "source": [
    "# Выбор нескольких столбцов\n",
    "subset = df[['name', 'salary']]\n",
    "print(f\"Подмножество столбцов:\\n{subset}\")"
   ]
  },
  {
   "cell_type": "code",
   "execution_count": null,
   "id": "c865dcb9",
   "metadata": {},
   "outputs": [
    {
     "name": "stdout",
     "output_type": "stream",
     "text": [
      "\n",
      "С новым столбцом:\n",
      "       name  age    city  salary  salary_usd\n",
      "0     Алиса   25  Москва   50000  555.555556\n",
      "1       Боб   30     СПб   60000  666.666667\n",
      "2      Вера   22  Москва   45000  500.000000\n",
      "3  Григорий   35  Казань   75000  833.333333\n",
      "4     Дарья   28     СПб   55000  611.111111\n"
     ]
    }
   ],
   "source": [
    "# Добавление нового столбца\n",
    "df['salary_usd'] = df['salary'] / 90  # курс условный\n",
    "print(f\"С новым столбцом:\\n{df}\")"
   ]
  },
  {
   "cell_type": "code",
   "execution_count": null,
   "id": "4a9cfb18",
   "metadata": {},
   "outputs": [
    {
     "name": "stdout",
     "output_type": "stream",
     "text": [
      "\n",
      "Без столбца salary_usd:\n",
      "       name  age    city  salary\n",
      "0     Алиса   25  Москва   50000\n",
      "1       Боб   30     СПб   60000\n",
      "2      Вера   22  Москва   45000\n",
      "3  Григорий   35  Казань   75000\n",
      "4     Дарья   28     СПб   55000\n",
      "\n",
      "Исходный DataFrame не изменился:\n",
      "       name  age    city  salary  salary_usd\n",
      "0     Алиса   25  Москва   50000  555.555556\n",
      "1       Боб   30     СПб   60000  666.666667\n",
      "2      Вера   22  Москва   45000  500.000000\n",
      "3  Григорий   35  Казань   75000  833.333333\n",
      "4     Дарья   28     СПб   55000  611.111111\n"
     ]
    }
   ],
   "source": [
    "# Удаление столбца (не изменяет исходный DataFrame)\n",
    "df_dropped = df.drop('salary_usd', axis=1)\n",
    "print(f\"Без столбца salary_usd:\\n{df_dropped}\")\n",
    "print(f\"\\nИсходный DataFrame не изменился:\\n{df}\")"
   ]
  },
  {
   "cell_type": "code",
   "execution_count": null,
   "id": "dd67318d",
   "metadata": {},
   "outputs": [
    {
     "name": "stdout",
     "output_type": "stream",
     "text": [
      "\n",
      "Переименованные столбцы:\n",
      "        Имя  Возраст    city  salary  salary_usd\n",
      "0     Алиса       25  Москва   50000  555.555556\n",
      "1       Боб       30     СПб   60000  666.666667\n",
      "2      Вера       22  Москва   45000  500.000000\n",
      "3  Григорий       35  Казань   75000  833.333333\n",
      "4     Дарья       28     СПб   55000  611.111111\n"
     ]
    }
   ],
   "source": [
    "# Переименование столбцов\n",
    "df_renamed = df.rename(columns={'name': 'Имя', 'age': 'Возраст'})\n",
    "print(f\"Переименованные столбцы:\\n{df_renamed}\")"
   ]
  },
  {
   "cell_type": "markdown",
   "id": "3927e68c",
   "metadata": {},
   "source": [
    "### 2.5 Index - объект индекса"
   ]
  },
  {
   "cell_type": "code",
   "execution_count": 28,
   "id": "88b34bf4",
   "metadata": {},
   "outputs": [
    {
     "name": "stdout",
     "output_type": "stream",
     "text": [
      "=== ТИПЫ ИНДЕКСОВ ===\n",
      "RangeIndex:\n",
      "RangeIndex(start=0, stop=3, step=1)\n",
      "\n",
      "Int64Index:\n",
      "Index([10, 20, 30], dtype='int64')\n",
      "\n",
      "DatetimeIndex:\n",
      "            value\n",
      "2024-01-01     10\n",
      "2024-01-02     20\n",
      "2024-01-03     15\n",
      "2024-01-04     25\n",
      "2024-01-05     30\n",
      "\n",
      "MultiIndex:\n",
      "               value\n",
      "letter number       \n",
      "A      1          10\n",
      "       2          20\n",
      "B      1          30\n",
      "       2          40\n"
     ]
    }
   ],
   "source": [
    "# Различные типы индексов\n",
    "print(\"=== ТИПЫ ИНДЕКСОВ ===\")\n",
    "\n",
    "# RangeIndex (по умолчанию)\n",
    "df_default = pd.DataFrame({'A': [1, 2, 3]})\n",
    "print(f\"RangeIndex:\\n{df_default.index}\")\n",
    "\n",
    "# Int64Index\n",
    "df_int_idx = pd.DataFrame({'A': [1, 2, 3]}, index=[10, 20, 30])\n",
    "print(f\"\\nInt64Index:\\n{df_int_idx.index}\")\n",
    "\n",
    "# DatetimeIndex\n",
    "dates = pd.date_range('2024-01-01', periods=5, freq='D')\n",
    "df_dates = pd.DataFrame({'value': [10, 20, 15, 25, 30]}, index=dates)\n",
    "print(f\"\\nDatetimeIndex:\\n{df_dates}\")\n",
    "\n",
    "# MultiIndex (иерархический индекс)\n",
    "arrays = [\n",
    "    ['A', 'A', 'B', 'B'],\n",
    "    [1, 2, 1, 2]\n",
    "]\n",
    "multi_idx = pd.MultiIndex.from_arrays(arrays, names=['letter', 'number'])\n",
    "df_multi = pd.DataFrame({'value': [10, 20, 30, 40]}, index=multi_idx)\n",
    "print(f\"\\nMultiIndex:\\n{df_multi}\")"
   ]
  },
  {
   "cell_type": "code",
   "execution_count": null,
   "id": "6743e8c2",
   "metadata": {},
   "outputs": [
    {
     "name": "stdout",
     "output_type": "stream",
     "text": [
      "\n",
      "=== ОПЕРАЦИИ С ИНДЕКСОМ ===\n",
      "Исходный DataFrame:\n",
      "   value\n",
      "a     10\n",
      "b     20\n",
      "c     30\n",
      "d     40\n",
      "e     50\n"
     ]
    }
   ],
   "source": [
    "# Операции с индексом\n",
    "print(\"=== ОПЕРАЦИИ С ИНДЕКСОМ ===\")\n",
    "df_indexed = pd.DataFrame(\n",
    "    {'value': [10, 20, 30, 40, 50]},\n",
    "    index=['a', 'b', 'c', 'd', 'e']\n",
    ")\n",
    "print(f\"Исходный DataFrame:\\n{df_indexed}\")"
   ]
  },
  {
   "cell_type": "code",
   "execution_count": null,
   "id": "1d92ee7a",
   "metadata": {},
   "outputs": [
    {
     "name": "stdout",
     "output_type": "stream",
     "text": [
      "\n",
      "После reset_index():\n",
      "  index  value\n",
      "0     a     10\n",
      "1     b     20\n",
      "2     c     30\n",
      "3     d     40\n",
      "4     e     50\n"
     ]
    }
   ],
   "source": [
    "# Сброс индекса\n",
    "df_reset = df_indexed.reset_index()\n",
    "print(f\"После reset_index():\\n{df_reset}\")"
   ]
  },
  {
   "cell_type": "code",
   "execution_count": null,
   "id": "bada1fec",
   "metadata": {},
   "outputs": [
    {
     "name": "stdout",
     "output_type": "stream",
     "text": [
      "\n",
      "После set_index('index'):\n",
      "       value\n",
      "index       \n",
      "a         10\n",
      "b         20\n",
      "c         30\n",
      "d         40\n",
      "e         50\n"
     ]
    }
   ],
   "source": [
    "# Установка столбца как индекса\n",
    "df_set = df_reset.set_index('index')\n",
    "print(f\"После set_index('index'):\\n{df_set}\")"
   ]
  },
  {
   "cell_type": "code",
   "execution_count": null,
   "id": "9b840f5f",
   "metadata": {},
   "outputs": [
    {
     "name": "stdout",
     "output_type": "stream",
     "text": [
      "\n",
      "Отсортированный по индексу:\n",
      "   value\n",
      "e     50\n",
      "d     40\n",
      "c     30\n",
      "b     20\n",
      "a     10\n"
     ]
    }
   ],
   "source": [
    "# Сортировка по индексу\n",
    "df_sorted = df_indexed.sort_index(ascending=False)\n",
    "print(f\"Отсортированный по индексу:\\n{df_sorted}\")"
   ]
  },
  {
   "cell_type": "markdown",
   "id": "9e3f0cec",
   "metadata": {},
   "source": [
    "## 3. Загрузка и сохранение данных"
   ]
  },
  {
   "cell_type": "markdown",
   "id": "b2645a15",
   "metadata": {},
   "source": [
    "### 3.1 Создание тестовых файлов"
   ]
  },
  {
   "cell_type": "code",
   "execution_count": 33,
   "id": "37166bb4",
   "metadata": {},
   "outputs": [
    {
     "name": "stdout",
     "output_type": "stream",
     "text": [
      "Создан файл: students.csv\n",
      "Создан файл: students_semicolon.csv\n"
     ]
    }
   ],
   "source": [
    "# Создание тестового CSV файла\n",
    "test_data = {\n",
    "    'student_id': range(1, 11),\n",
    "    'name': ['Алиса', 'Боб', 'Вера', 'Григорий', 'Дарья', \n",
    "             'Евгений', 'Жанна', 'Игорь', 'Ксения', 'Леонид'],\n",
    "    'faculty': ['ИТ', 'Математика', 'ИТ', 'Физика', 'Математика',\n",
    "                'ИТ', 'Физика', 'Математика', 'ИТ', 'Физика'],\n",
    "    'age': [20, 22, 19, 23, 21, 20, 22, 24, 19, 23],\n",
    "    'gpa': [3.8, 3.5, 4.0, 3.2, 3.9, 3.7, 3.4, 3.6, 3.9, 3.3]\n",
    "}\n",
    "\n",
    "df_test = pd.DataFrame(test_data)\n",
    "df_test.to_csv('students.csv', index=False, encoding='utf-8')\n",
    "print(\"Создан файл: students.csv\")\n",
    "\n",
    "# Создание CSV с разными параметрами\n",
    "df_test.to_csv('students_semicolon.csv', sep=';', index=False, encoding='utf-8')\n",
    "print(\"Создан файл: students_semicolon.csv\")"
   ]
  },
  {
   "cell_type": "markdown",
   "id": "ad8d7f9d",
   "metadata": {},
   "source": [
    "### 3.2 Чтение CSV файлов"
   ]
  },
  {
   "cell_type": "code",
   "execution_count": 37,
   "id": "eab6213b",
   "metadata": {},
   "outputs": [
    {
     "name": "stdout",
     "output_type": "stream",
     "text": [
      "=== ЧТЕНИЕ CSV (базовое) ===\n",
      "   student_id      name     faculty  age  gpa\n",
      "0           1     Алиса          ИТ   20  3.8\n",
      "1           2       Боб  Математика   22  3.5\n",
      "2           3      Вера          ИТ   19  4.0\n",
      "3           4  Григорий      Физика   23  3.2\n",
      "4           5     Дарья  Математика   21  3.9\n",
      "5           6   Евгений          ИТ   20  3.7\n",
      "6           7     Жанна      Физика   22  3.4\n",
      "7           8     Игорь  Математика   24  3.6\n",
      "8           9    Ксения          ИТ   19  3.9\n",
      "9          10    Леонид      Физика   23  3.3\n"
     ]
    }
   ],
   "source": [
    "# Базовое чтение CSV\n",
    "df_csv = pd.read_csv('students.csv')\n",
    "print(\"=== ЧТЕНИЕ CSV (базовое) ===\")\n",
    "print(df_csv)"
   ]
  },
  {
   "cell_type": "code",
   "execution_count": null,
   "id": "0dd76f8b",
   "metadata": {},
   "outputs": [
    {
     "name": "stdout",
     "output_type": "stream",
     "text": [
      "\n",
      "=== CSV с разделителем ; ===\n",
      "   student_id      name     faculty  age  gpa\n",
      "0           1     Алиса          ИТ   20  3.8\n",
      "1           2       Боб  Математика   22  3.5\n",
      "2           3      Вера          ИТ   19  4.0\n",
      "3           4  Григорий      Физика   23  3.2\n",
      "4           5     Дарья  Математика   21  3.9\n"
     ]
    }
   ],
   "source": [
    "# Чтение CSV с другим разделителем\n",
    "df_semicolon = pd.read_csv('students_semicolon.csv', sep=';')\n",
    "print(\"=== CSV с разделителем ; ===\")\n",
    "print(df_semicolon.head())"
   ]
  },
  {
   "cell_type": "code",
   "execution_count": null,
   "id": "29bddaed",
   "metadata": {},
   "outputs": [
    {
     "name": "stdout",
     "output_type": "stream",
     "text": [
      "\n",
      "=== CSV с индексом ===\n",
      "                name     faculty  age  gpa\n",
      "student_id                                \n",
      "1              Алиса          ИТ   20  3.8\n",
      "2                Боб  Математика   22  3.5\n",
      "3               Вера          ИТ   19  4.0\n",
      "4           Григорий      Физика   23  3.2\n",
      "5              Дарья  Математика   21  3.9\n"
     ]
    }
   ],
   "source": [
    "# Чтение с указанием столбца индекса\n",
    "df_indexed = pd.read_csv('students.csv', index_col='student_id')\n",
    "print(\"=== CSV с индексом ===\")\n",
    "print(df_indexed.head())"
   ]
  },
  {
   "cell_type": "code",
   "execution_count": null,
   "id": "01d54894",
   "metadata": {},
   "outputs": [
    {
     "name": "stdout",
     "output_type": "stream",
     "text": [
      "\n",
      "=== Только выбранные столбцы ===\n",
      "       name     faculty  gpa\n",
      "0     Алиса          ИТ  3.8\n",
      "1       Боб  Математика  3.5\n",
      "2      Вера          ИТ  4.0\n",
      "3  Григорий      Физика  3.2\n",
      "4     Дарья  Математика  3.9\n",
      "5   Евгений          ИТ  3.7\n",
      "6     Жанна      Физика  3.4\n",
      "7     Игорь  Математика  3.6\n",
      "8    Ксения          ИТ  3.9\n",
      "9    Леонид      Физика  3.3\n"
     ]
    }
   ],
   "source": [
    "# Чтение только определённых столбцов\n",
    "df_subset = pd.read_csv('students.csv', usecols=['name', 'faculty', 'gpa'])\n",
    "print(\"=== Только выбранные столбцы ===\")\n",
    "print(df_subset)"
   ]
  },
  {
   "cell_type": "code",
   "execution_count": null,
   "id": "73582b5d",
   "metadata": {},
   "outputs": [
    {
     "name": "stdout",
     "output_type": "stream",
     "text": [
      "\n",
      "=== С указанием типов ===\n",
      "student_id     object\n",
      "name           object\n",
      "faculty        object\n",
      "age             Int64\n",
      "gpa           float64\n",
      "dtype: object\n"
     ]
    }
   ],
   "source": [
    "# Чтение с преобразованием типов\n",
    "df_typed = pd.read_csv('students.csv', \n",
    "                       dtype={'student_id': str, 'age': 'Int64'})\n",
    "print(\"=== С указанием типов ===\")\n",
    "print(df_typed.dtypes)"
   ]
  },
  {
   "cell_type": "code",
   "execution_count": null,
   "id": "7f7c78d6",
   "metadata": {},
   "outputs": [
    {
     "name": "stdout",
     "output_type": "stream",
     "text": [
      "\n",
      "=== Первые 5 строк ===\n",
      "   student_id      name     faculty  age  gpa\n",
      "0           1     Алиса          ИТ   20  3.8\n",
      "1           2       Боб  Математика   22  3.5\n",
      "2           3      Вера          ИТ   19  4.0\n",
      "3           4  Григорий      Физика   23  3.2\n",
      "4           5     Дарья  Математика   21  3.9\n"
     ]
    }
   ],
   "source": [
    "# Чтение первых N строк\n",
    "df_nrows = pd.read_csv('students.csv', nrows=5)\n",
    "print(\"=== Первые 5 строк ===\")\n",
    "print(df_nrows)"
   ]
  },
  {
   "cell_type": "code",
   "execution_count": null,
   "id": "62f06ba9",
   "metadata": {},
   "outputs": [
    {
     "name": "stdout",
     "output_type": "stream",
     "text": [
      "\n",
      "=== С пропуском строк 1 и 2 ===\n",
      "   student_id      name     faculty  age  gpa\n",
      "0           3      Вера          ИТ   19  4.0\n",
      "1           4  Григорий      Физика   23  3.2\n",
      "2           5     Дарья  Математика   21  3.9\n",
      "3           6   Евгений          ИТ   20  3.7\n",
      "4           7     Жанна      Физика   22  3.4\n"
     ]
    }
   ],
   "source": [
    "# Пропуск строк\n",
    "df_skip = pd.read_csv('students.csv', skiprows=[1, 2])\n",
    "print(\"=== С пропуском строк 1 и 2 ===\")\n",
    "print(df_skip.head())"
   ]
  },
  {
   "cell_type": "code",
   "execution_count": null,
   "id": "6221103b",
   "metadata": {},
   "outputs": [
    {
     "name": "stdout",
     "output_type": "stream",
     "text": [
      "\n",
      "=== Файл с пропусками ===\n",
      "   student_id      name     faculty   age  gpa\n",
      "0           1     Алиса          ИТ  20.0  3.8\n",
      "1           2       Боб  Математика  22.0  3.5\n",
      "2           3      Вера          ИТ  19.0  NaN\n",
      "3           4  Григорий      Физика  23.0  3.2\n",
      "4           5     Дарья  Математика  21.0  3.9\n",
      "5           6   Евгений          ИТ   NaN  3.7\n",
      "6           7     Жанна      Физика  22.0  3.4\n",
      "7           8     Игорь  Математика  24.0  3.6\n",
      "8           9    Ксения          ИТ  19.0  3.9\n",
      "9          10    Леонид      Физика  23.0  3.3\n"
     ]
    }
   ],
   "source": [
    "# Чтение с обработкой пропусков\n",
    "# Сначала создадим файл с пропусками\n",
    "df_with_nan = df_test.copy()\n",
    "df_with_nan.loc[2, 'gpa'] = np.nan\n",
    "df_with_nan.loc[5, 'age'] = np.nan\n",
    "df_with_nan.to_csv('students_nan.csv', index=False)\n",
    "\n",
    "df_nan = pd.read_csv('students_nan.csv', na_values=['N/A', 'NULL'])\n",
    "print(\"=== Файл с пропусками ===\")\n",
    "print(df_nan)"
   ]
  },
  {
   "cell_type": "markdown",
   "id": "32262cae",
   "metadata": {},
   "source": [
    "### 3.3 Чтение других форматов"
   ]
  },
  {
   "cell_type": "code",
   "execution_count": null,
   "id": "17f817e5",
   "metadata": {},
   "outputs": [
    {
     "name": "stdout",
     "output_type": "stream",
     "text": [
      "\n",
      "Создан файл: students.xlsx\n",
      "\n",
      "=== Чтение из Excel ===\n",
      "   student_id      name     faculty  age  gpa\n",
      "0           1     Алиса          ИТ   20  3.8\n",
      "1           2       Боб  Математика   22  3.5\n",
      "2           3      Вера          ИТ   19  4.0\n",
      "3           4  Григорий      Физика   23  3.2\n",
      "4           5     Дарья  Математика   21  3.9\n"
     ]
    }
   ],
   "source": [
    "# Excel файлы\n",
    "df_test.to_excel('students.xlsx', index=False, sheet_name='Students')\n",
    "print(\"Создан файл: students.xlsx\")\n",
    "\n",
    "df_excel = pd.read_excel('students.xlsx', sheet_name='Students')\n",
    "print(\"=== Чтение из Excel ===\")\n",
    "print(df_excel.head())"
   ]
  },
  {
   "cell_type": "markdown",
   "id": "eb2c7bb9",
   "metadata": {},
   "source": [
    "### 3.4 Сохранение данных в CSV"
   ]
  },
  {
   "cell_type": "code",
   "execution_count": 47,
   "id": "88c5894c",
   "metadata": {},
   "outputs": [
    {
     "name": "stdout",
     "output_type": "stream",
     "text": [
      "=== СОХРАНЕНИЕ В CSV ===\n",
      "Данные для сохранения:\n",
      "        date    value category  count\n",
      "0 2024-01-01  10.5234        A    100\n",
      "1 2024-01-02  20.3456        B    250\n",
      "2 2024-01-03  15.7891        A    180\n",
      "3 2024-01-04  25.1234        C    320\n",
      "4 2024-01-05  30.9567        B    270\n"
     ]
    }
   ],
   "source": [
    "print(\"=== СОХРАНЕНИЕ В CSV ===\")\n",
    "\n",
    "# Создадим несколько DataFrame для демонстрации\n",
    "df_save = pd.DataFrame({\n",
    "    'date': pd.date_range('2024-01-01', periods=5),\n",
    "    'value': [10.5234, 20.3456, 15.7891, 25.1234, 30.9567],\n",
    "    'category': ['A', 'B', 'A', 'C', 'B'],\n",
    "    'count': [100, 250, 180, 320, 270]\n",
    "})\n",
    "\n",
    "print(\"Данные для сохранения:\")\n",
    "print(df_save)"
   ]
  },
  {
   "cell_type": "code",
   "execution_count": null,
   "id": "56a2b718",
   "metadata": {},
   "outputs": [
    {
     "name": "stdout",
     "output_type": "stream",
     "text": [
      "\n",
      "1. Базовое сохранение: output_basic.csv\n"
     ]
    }
   ],
   "source": [
    "# 1. Базовое сохранение (без индекса)\n",
    "df_save.to_csv('output_basic.csv', index=False)\n",
    "print(\"1. Базовое сохранение: output_basic.csv\")"
   ]
  },
  {
   "cell_type": "code",
   "execution_count": 49,
   "id": "99e0e298",
   "metadata": {},
   "outputs": [
    {
     "name": "stdout",
     "output_type": "stream",
     "text": [
      "2. С индексом: output_with_index.csv\n"
     ]
    }
   ],
   "source": [
    "# 2. Сохранение с индексом\n",
    "df_save.to_csv('output_with_index.csv', index=True)\n",
    "print(\"2. С индексом: output_with_index.csv\")"
   ]
  },
  {
   "cell_type": "code",
   "execution_count": 50,
   "id": "e1c30b5f",
   "metadata": {},
   "outputs": [
    {
     "name": "stdout",
     "output_type": "stream",
     "text": [
      "3. Разделитель ';': output_semicolon.csv\n"
     ]
    }
   ],
   "source": [
    "# 3. Другой разделитель (точка с запятой)\n",
    "df_save.to_csv('output_semicolon.csv', sep=';', index=False)\n",
    "print(\"3. Разделитель ';': output_semicolon.csv\")"
   ]
  },
  {
   "cell_type": "code",
   "execution_count": 51,
   "id": "223de66e",
   "metadata": {},
   "outputs": [
    {
     "name": "stdout",
     "output_type": "stream",
     "text": [
      "4. Форматированные числа (2 знака): output_formatted.csv\n"
     ]
    }
   ],
   "source": [
    "# 4. Форматирование чисел\n",
    "df_save.to_csv('output_formatted.csv', \n",
    "               index=False, \n",
    "               float_format='%.2f')  # 2 знака после запятой\n",
    "print(\"4. Форматированные числа (2 знака): output_formatted.csv\")"
   ]
  },
  {
   "cell_type": "code",
   "execution_count": 52,
   "id": "c0f2d0f4",
   "metadata": {},
   "outputs": [
    {
     "name": "stdout",
     "output_type": "stream",
     "text": [
      "5. Форматированные даты: output_dates.csv\n"
     ]
    }
   ],
   "source": [
    "# 5. Форматирование дат\n",
    "df_save.to_csv('output_dates.csv',\n",
    "               index=False,\n",
    "               date_format='%d.%m.%Y')  # формат: дд.мм.гггг\n",
    "print(\"5. Форматированные даты: output_dates.csv\")"
   ]
  },
  {
   "cell_type": "code",
   "execution_count": 53,
   "id": "4593629a",
   "metadata": {},
   "outputs": [
    {
     "name": "stdout",
     "output_type": "stream",
     "text": [
      "6. Полностью настроенный: output_custom.csv\n"
     ]
    }
   ],
   "source": [
    "# 6. Полный контроль форматирования\n",
    "df_save.to_csv('output_custom.csv',\n",
    "               index=False,\n",
    "               sep=';',\n",
    "               decimal=',',  # десятичный разделитель - запятая\n",
    "               encoding='utf-8-sig',  # UTF-8 с BOM (для Excel)\n",
    "               float_format='%.2f',\n",
    "               date_format='%Y-%m-%d')\n",
    "print(\"6. Полностью настроенный: output_custom.csv\")"
   ]
  },
  {
   "cell_type": "code",
   "execution_count": 54,
   "id": "18293823",
   "metadata": {},
   "outputs": [
    {
     "name": "stdout",
     "output_type": "stream",
     "text": [
      "7. Без заголовков: output_no_header.csv\n"
     ]
    }
   ],
   "source": [
    "# 7. Сохранение без заголовков\n",
    "df_save.to_csv('output_no_header.csv', \n",
    "               header=False, \n",
    "               index=False)\n",
    "print(\"7. Без заголовков: output_no_header.csv\")"
   ]
  },
  {
   "cell_type": "code",
   "execution_count": 55,
   "id": "1e621c4b",
   "metadata": {},
   "outputs": [
    {
     "name": "stdout",
     "output_type": "stream",
     "text": [
      "8. Выбранные столбцы: output_selected_columns.csv\n"
     ]
    }
   ],
   "source": [
    "# 8. Сохранение только определённых столбцов\n",
    "df_save.to_csv('output_selected_columns.csv',\n",
    "               columns=['date', 'value'],  # только эти столбцы\n",
    "               index=False)\n",
    "print(\"8. Выбранные столбцы: output_selected_columns.csv\")"
   ]
  },
  {
   "cell_type": "markdown",
   "id": "0ab6fb02",
   "metadata": {},
   "source": [
    "### 3.5 Сохранение данных в Excel"
   ]
  },
  {
   "cell_type": "code",
   "execution_count": 58,
   "id": "3d56ad8f",
   "metadata": {},
   "outputs": [],
   "source": [
    "# Создадим несколько DataFrame для работы\n",
    "df_students = pd.DataFrame({\n",
    "    'Имя': ['Алиса', 'Боб', 'Вера', 'Григорий', 'Дарья'],\n",
    "    'Возраст': [20, 22, 19, 23, 21],\n",
    "    'Факультет': ['ИТ', 'Математика', 'ИТ', 'Физика', 'Математика'],\n",
    "    'Средний балл': [4.5, 3.8, 4.9, 3.5, 4.2]\n",
    "})\n",
    "\n",
    "df_grades = pd.DataFrame({\n",
    "    'Предмет': ['Математика', 'Физика', 'Программирование', 'Английский'],\n",
    "    'Средний балл': [4.2, 3.9, 4.5, 4.0],\n",
    "    'Студентов': [100, 85, 95, 110]\n",
    "})\n",
    "\n",
    "df_summary = pd.DataFrame({\n",
    "    'Показатель': ['Всего студентов', 'Средний возраст', 'Средний балл'],\n",
    "    'Значение': [5, 21.0, 4.18]\n",
    "})"
   ]
  },
  {
   "cell_type": "code",
   "execution_count": 60,
   "id": "64208da0",
   "metadata": {},
   "outputs": [
    {
     "name": "stdout",
     "output_type": "stream",
     "text": [
      "1. Базовое сохранение: excel_basic.xlsx\n"
     ]
    }
   ],
   "source": [
    "# 1. Простое сохранение в Excel\n",
    "df_students.to_excel('excel_basic.xlsx', \n",
    "                     index=False,\n",
    "                     sheet_name='Студенты')\n",
    "print(\"1. Базовое сохранение: excel_basic.xlsx\")"
   ]
  },
  {
   "cell_type": "code",
   "execution_count": 61,
   "id": "3cad0cd8",
   "metadata": {},
   "outputs": [
    {
     "name": "stdout",
     "output_type": "stream",
     "text": [
      "2. С индексом: excel_with_index.xlsx\n"
     ]
    }
   ],
   "source": [
    "# 2. Сохранение с индексом и форматированием\n",
    "df_students.to_excel('excel_with_index.xlsx',\n",
    "                     index=True,\n",
    "                     sheet_name='Студенты',\n",
    "                     float_format='%.2f')\n",
    "print(\"2. С индексом: excel_with_index.xlsx\")"
   ]
  },
  {
   "cell_type": "code",
   "execution_count": 62,
   "id": "3e348527",
   "metadata": {},
   "outputs": [
    {
     "name": "stdout",
     "output_type": "stream",
     "text": [
      "   Создан файл с 3 листами: excel_multiple_sheets.xlsx\n",
      "   Листы: 'Студенты', 'Оценки', 'Сводка'\n"
     ]
    }
   ],
   "source": [
    "# 3. СОХРАНЕНИЕ НА РАЗНЫЕ ЛИСТЫ - основной способ\n",
    "\n",
    "# Способ 1: Использование ExcelWriter\n",
    "with pd.ExcelWriter('excel_multiple_sheets.xlsx', \n",
    "                    engine='openpyxl') as writer:\n",
    "    df_students.to_excel(writer, sheet_name='Студенты', index=False)\n",
    "    df_grades.to_excel(writer, sheet_name='Оценки', index=False)\n",
    "    df_summary.to_excel(writer, sheet_name='Сводка', index=False)\n",
    "\n",
    "print(\"   Создан файл с 3 листами: excel_multiple_sheets.xlsx\")\n",
    "print(\"   Листы: 'Студенты', 'Оценки', 'Сводка'\")"
   ]
  },
  {
   "cell_type": "code",
   "execution_count": 63,
   "id": "5bdf788c",
   "metadata": {},
   "outputs": [
    {
     "name": "stdout",
     "output_type": "stream",
     "text": [
      "   Создан файл с листом 'Студенты'\n",
      "   Добавлен лист 'Оценки' к существующему файлу\n"
     ]
    }
   ],
   "source": [
    "# 4. Добавление листа к существующему файлу\n",
    "\n",
    "# Сначала создадим файл\n",
    "df_students.to_excel('excel_add_sheet.xlsx', \n",
    "                     sheet_name='Студенты', \n",
    "                     index=False)\n",
    "print(\"   Создан файл с листом 'Студенты'\")\n",
    "\n",
    "# Теперь добавим новый лист\n",
    "with pd.ExcelWriter('excel_add_sheet.xlsx',\n",
    "                    engine='openpyxl',\n",
    "                    mode='a') as writer:  # режим добавления!\n",
    "    df_grades.to_excel(writer, sheet_name='Оценки', index=False)\n",
    "\n",
    "print(\"   Добавлен лист 'Оценки' к существующему файлу\")\n"
   ]
  },
  {
   "cell_type": "markdown",
   "id": "e9240a44",
   "metadata": {},
   "source": [
    "## 4. Просмотр и базовая информация"
   ]
  },
  {
   "cell_type": "markdown",
   "id": "21b76d94",
   "metadata": {},
   "source": [
    "### 4.1 Быстрый просмотр данных"
   ]
  },
  {
   "cell_type": "code",
   "execution_count": 64,
   "id": "ed970e43",
   "metadata": {},
   "outputs": [],
   "source": [
    "# Загрузим данные для демонстрации\n",
    "df = pd.read_csv('students.csv')"
   ]
  },
  {
   "cell_type": "code",
   "execution_count": 65,
   "id": "18199d40",
   "metadata": {},
   "outputs": [
    {
     "data": {
      "application/vnd.microsoft.datawrangler.viewer.v0+json": {
       "columns": [
        {
         "name": "index",
         "rawType": "int64",
         "type": "integer"
        },
        {
         "name": "student_id",
         "rawType": "int64",
         "type": "integer"
        },
        {
         "name": "name",
         "rawType": "object",
         "type": "string"
        },
        {
         "name": "faculty",
         "rawType": "object",
         "type": "string"
        },
        {
         "name": "age",
         "rawType": "int64",
         "type": "integer"
        },
        {
         "name": "gpa",
         "rawType": "float64",
         "type": "float"
        }
       ],
       "ref": "567bb7a6-77ce-4594-a071-720814bfe0c3",
       "rows": [
        [
         "0",
         "1",
         "Алиса",
         "ИТ",
         "20",
         "3.8"
        ],
        [
         "1",
         "2",
         "Боб",
         "Математика",
         "22",
         "3.5"
        ],
        [
         "2",
         "3",
         "Вера",
         "ИТ",
         "19",
         "4.0"
        ],
        [
         "3",
         "4",
         "Григорий",
         "Физика",
         "23",
         "3.2"
        ],
        [
         "4",
         "5",
         "Дарья",
         "Математика",
         "21",
         "3.9"
        ]
       ],
       "shape": {
        "columns": 5,
        "rows": 5
       }
      },
      "text/html": [
       "<div>\n",
       "<style scoped>\n",
       "    .dataframe tbody tr th:only-of-type {\n",
       "        vertical-align: middle;\n",
       "    }\n",
       "\n",
       "    .dataframe tbody tr th {\n",
       "        vertical-align: top;\n",
       "    }\n",
       "\n",
       "    .dataframe thead th {\n",
       "        text-align: right;\n",
       "    }\n",
       "</style>\n",
       "<table border=\"1\" class=\"dataframe\">\n",
       "  <thead>\n",
       "    <tr style=\"text-align: right;\">\n",
       "      <th></th>\n",
       "      <th>student_id</th>\n",
       "      <th>name</th>\n",
       "      <th>faculty</th>\n",
       "      <th>age</th>\n",
       "      <th>gpa</th>\n",
       "    </tr>\n",
       "  </thead>\n",
       "  <tbody>\n",
       "    <tr>\n",
       "      <th>0</th>\n",
       "      <td>1</td>\n",
       "      <td>Алиса</td>\n",
       "      <td>ИТ</td>\n",
       "      <td>20</td>\n",
       "      <td>3.8</td>\n",
       "    </tr>\n",
       "    <tr>\n",
       "      <th>1</th>\n",
       "      <td>2</td>\n",
       "      <td>Боб</td>\n",
       "      <td>Математика</td>\n",
       "      <td>22</td>\n",
       "      <td>3.5</td>\n",
       "    </tr>\n",
       "    <tr>\n",
       "      <th>2</th>\n",
       "      <td>3</td>\n",
       "      <td>Вера</td>\n",
       "      <td>ИТ</td>\n",
       "      <td>19</td>\n",
       "      <td>4.0</td>\n",
       "    </tr>\n",
       "    <tr>\n",
       "      <th>3</th>\n",
       "      <td>4</td>\n",
       "      <td>Григорий</td>\n",
       "      <td>Физика</td>\n",
       "      <td>23</td>\n",
       "      <td>3.2</td>\n",
       "    </tr>\n",
       "    <tr>\n",
       "      <th>4</th>\n",
       "      <td>5</td>\n",
       "      <td>Дарья</td>\n",
       "      <td>Математика</td>\n",
       "      <td>21</td>\n",
       "      <td>3.9</td>\n",
       "    </tr>\n",
       "  </tbody>\n",
       "</table>\n",
       "</div>"
      ],
      "text/plain": [
       "   student_id      name     faculty  age  gpa\n",
       "0           1     Алиса          ИТ   20  3.8\n",
       "1           2       Боб  Математика   22  3.5\n",
       "2           3      Вера          ИТ   19  4.0\n",
       "3           4  Григорий      Физика   23  3.2\n",
       "4           5     Дарья  Математика   21  3.9"
      ]
     },
     "execution_count": 65,
     "metadata": {},
     "output_type": "execute_result"
    }
   ],
   "source": [
    "# Первые n строк\n",
    "df.head(n=5)"
   ]
  },
  {
   "cell_type": "code",
   "execution_count": 66,
   "id": "50687510",
   "metadata": {},
   "outputs": [
    {
     "data": {
      "application/vnd.microsoft.datawrangler.viewer.v0+json": {
       "columns": [
        {
         "name": "index",
         "rawType": "int64",
         "type": "integer"
        },
        {
         "name": "student_id",
         "rawType": "int64",
         "type": "integer"
        },
        {
         "name": "name",
         "rawType": "object",
         "type": "string"
        },
        {
         "name": "faculty",
         "rawType": "object",
         "type": "string"
        },
        {
         "name": "age",
         "rawType": "int64",
         "type": "integer"
        },
        {
         "name": "gpa",
         "rawType": "float64",
         "type": "float"
        }
       ],
       "ref": "140af383-962f-4e1c-9884-cdec706e69a6",
       "rows": [
        [
         "5",
         "6",
         "Евгений",
         "ИТ",
         "20",
         "3.7"
        ],
        [
         "6",
         "7",
         "Жанна",
         "Физика",
         "22",
         "3.4"
        ],
        [
         "7",
         "8",
         "Игорь",
         "Математика",
         "24",
         "3.6"
        ],
        [
         "8",
         "9",
         "Ксения",
         "ИТ",
         "19",
         "3.9"
        ],
        [
         "9",
         "10",
         "Леонид",
         "Физика",
         "23",
         "3.3"
        ]
       ],
       "shape": {
        "columns": 5,
        "rows": 5
       }
      },
      "text/html": [
       "<div>\n",
       "<style scoped>\n",
       "    .dataframe tbody tr th:only-of-type {\n",
       "        vertical-align: middle;\n",
       "    }\n",
       "\n",
       "    .dataframe tbody tr th {\n",
       "        vertical-align: top;\n",
       "    }\n",
       "\n",
       "    .dataframe thead th {\n",
       "        text-align: right;\n",
       "    }\n",
       "</style>\n",
       "<table border=\"1\" class=\"dataframe\">\n",
       "  <thead>\n",
       "    <tr style=\"text-align: right;\">\n",
       "      <th></th>\n",
       "      <th>student_id</th>\n",
       "      <th>name</th>\n",
       "      <th>faculty</th>\n",
       "      <th>age</th>\n",
       "      <th>gpa</th>\n",
       "    </tr>\n",
       "  </thead>\n",
       "  <tbody>\n",
       "    <tr>\n",
       "      <th>5</th>\n",
       "      <td>6</td>\n",
       "      <td>Евгений</td>\n",
       "      <td>ИТ</td>\n",
       "      <td>20</td>\n",
       "      <td>3.7</td>\n",
       "    </tr>\n",
       "    <tr>\n",
       "      <th>6</th>\n",
       "      <td>7</td>\n",
       "      <td>Жанна</td>\n",
       "      <td>Физика</td>\n",
       "      <td>22</td>\n",
       "      <td>3.4</td>\n",
       "    </tr>\n",
       "    <tr>\n",
       "      <th>7</th>\n",
       "      <td>8</td>\n",
       "      <td>Игорь</td>\n",
       "      <td>Математика</td>\n",
       "      <td>24</td>\n",
       "      <td>3.6</td>\n",
       "    </tr>\n",
       "    <tr>\n",
       "      <th>8</th>\n",
       "      <td>9</td>\n",
       "      <td>Ксения</td>\n",
       "      <td>ИТ</td>\n",
       "      <td>19</td>\n",
       "      <td>3.9</td>\n",
       "    </tr>\n",
       "    <tr>\n",
       "      <th>9</th>\n",
       "      <td>10</td>\n",
       "      <td>Леонид</td>\n",
       "      <td>Физика</td>\n",
       "      <td>23</td>\n",
       "      <td>3.3</td>\n",
       "    </tr>\n",
       "  </tbody>\n",
       "</table>\n",
       "</div>"
      ],
      "text/plain": [
       "   student_id     name     faculty  age  gpa\n",
       "5           6  Евгений          ИТ   20  3.7\n",
       "6           7    Жанна      Физика   22  3.4\n",
       "7           8    Игорь  Математика   24  3.6\n",
       "8           9   Ксения          ИТ   19  3.9\n",
       "9          10   Леонид      Физика   23  3.3"
      ]
     },
     "execution_count": 66,
     "metadata": {},
     "output_type": "execute_result"
    }
   ],
   "source": [
    "# Последние n строк\n",
    "df.tail(n=5)"
   ]
  },
  {
   "cell_type": "code",
   "execution_count": 67,
   "id": "533ac507",
   "metadata": {},
   "outputs": [
    {
     "data": {
      "application/vnd.microsoft.datawrangler.viewer.v0+json": {
       "columns": [
        {
         "name": "index",
         "rawType": "int64",
         "type": "integer"
        },
        {
         "name": "student_id",
         "rawType": "int64",
         "type": "integer"
        },
        {
         "name": "name",
         "rawType": "object",
         "type": "string"
        },
        {
         "name": "faculty",
         "rawType": "object",
         "type": "string"
        },
        {
         "name": "age",
         "rawType": "int64",
         "type": "integer"
        },
        {
         "name": "gpa",
         "rawType": "float64",
         "type": "float"
        }
       ],
       "ref": "b1c1ba30-b137-4e5d-889b-5e64bd8105ea",
       "rows": [
        [
         "1",
         "2",
         "Боб",
         "Математика",
         "22",
         "3.5"
        ],
        [
         "3",
         "4",
         "Григорий",
         "Физика",
         "23",
         "3.2"
        ],
        [
         "7",
         "8",
         "Игорь",
         "Математика",
         "24",
         "3.6"
        ],
        [
         "2",
         "3",
         "Вера",
         "ИТ",
         "19",
         "4.0"
        ],
        [
         "6",
         "7",
         "Жанна",
         "Физика",
         "22",
         "3.4"
        ]
       ],
       "shape": {
        "columns": 5,
        "rows": 5
       }
      },
      "text/html": [
       "<div>\n",
       "<style scoped>\n",
       "    .dataframe tbody tr th:only-of-type {\n",
       "        vertical-align: middle;\n",
       "    }\n",
       "\n",
       "    .dataframe tbody tr th {\n",
       "        vertical-align: top;\n",
       "    }\n",
       "\n",
       "    .dataframe thead th {\n",
       "        text-align: right;\n",
       "    }\n",
       "</style>\n",
       "<table border=\"1\" class=\"dataframe\">\n",
       "  <thead>\n",
       "    <tr style=\"text-align: right;\">\n",
       "      <th></th>\n",
       "      <th>student_id</th>\n",
       "      <th>name</th>\n",
       "      <th>faculty</th>\n",
       "      <th>age</th>\n",
       "      <th>gpa</th>\n",
       "    </tr>\n",
       "  </thead>\n",
       "  <tbody>\n",
       "    <tr>\n",
       "      <th>1</th>\n",
       "      <td>2</td>\n",
       "      <td>Боб</td>\n",
       "      <td>Математика</td>\n",
       "      <td>22</td>\n",
       "      <td>3.5</td>\n",
       "    </tr>\n",
       "    <tr>\n",
       "      <th>3</th>\n",
       "      <td>4</td>\n",
       "      <td>Григорий</td>\n",
       "      <td>Физика</td>\n",
       "      <td>23</td>\n",
       "      <td>3.2</td>\n",
       "    </tr>\n",
       "    <tr>\n",
       "      <th>7</th>\n",
       "      <td>8</td>\n",
       "      <td>Игорь</td>\n",
       "      <td>Математика</td>\n",
       "      <td>24</td>\n",
       "      <td>3.6</td>\n",
       "    </tr>\n",
       "    <tr>\n",
       "      <th>2</th>\n",
       "      <td>3</td>\n",
       "      <td>Вера</td>\n",
       "      <td>ИТ</td>\n",
       "      <td>19</td>\n",
       "      <td>4.0</td>\n",
       "    </tr>\n",
       "    <tr>\n",
       "      <th>6</th>\n",
       "      <td>7</td>\n",
       "      <td>Жанна</td>\n",
       "      <td>Физика</td>\n",
       "      <td>22</td>\n",
       "      <td>3.4</td>\n",
       "    </tr>\n",
       "  </tbody>\n",
       "</table>\n",
       "</div>"
      ],
      "text/plain": [
       "   student_id      name     faculty  age  gpa\n",
       "1           2       Боб  Математика   22  3.5\n",
       "3           4  Григорий      Физика   23  3.2\n",
       "7           8     Игорь  Математика   24  3.6\n",
       "2           3      Вера          ИТ   19  4.0\n",
       "6           7     Жанна      Физика   22  3.4"
      ]
     },
     "execution_count": 67,
     "metadata": {},
     "output_type": "execute_result"
    }
   ],
   "source": [
    "# Случайная выборка объема n\n",
    "df.sample(n=5)"
   ]
  },
  {
   "cell_type": "code",
   "execution_count": 68,
   "id": "0279fecb",
   "metadata": {},
   "outputs": [
    {
     "data": {
      "application/vnd.microsoft.datawrangler.viewer.v0+json": {
       "columns": [
        {
         "name": "index",
         "rawType": "int64",
         "type": "integer"
        },
        {
         "name": "student_id",
         "rawType": "int64",
         "type": "integer"
        },
        {
         "name": "name",
         "rawType": "object",
         "type": "string"
        },
        {
         "name": "faculty",
         "rawType": "object",
         "type": "string"
        },
        {
         "name": "age",
         "rawType": "int64",
         "type": "integer"
        },
        {
         "name": "gpa",
         "rawType": "float64",
         "type": "float"
        }
       ],
       "ref": "b4842e49-d6e9-4350-8025-5d75962804e5",
       "rows": [
        [
         "8",
         "9",
         "Ксения",
         "ИТ",
         "19",
         "3.9"
        ],
        [
         "1",
         "2",
         "Боб",
         "Математика",
         "22",
         "3.5"
        ]
       ],
       "shape": {
        "columns": 5,
        "rows": 2
       }
      },
      "text/html": [
       "<div>\n",
       "<style scoped>\n",
       "    .dataframe tbody tr th:only-of-type {\n",
       "        vertical-align: middle;\n",
       "    }\n",
       "\n",
       "    .dataframe tbody tr th {\n",
       "        vertical-align: top;\n",
       "    }\n",
       "\n",
       "    .dataframe thead th {\n",
       "        text-align: right;\n",
       "    }\n",
       "</style>\n",
       "<table border=\"1\" class=\"dataframe\">\n",
       "  <thead>\n",
       "    <tr style=\"text-align: right;\">\n",
       "      <th></th>\n",
       "      <th>student_id</th>\n",
       "      <th>name</th>\n",
       "      <th>faculty</th>\n",
       "      <th>age</th>\n",
       "      <th>gpa</th>\n",
       "    </tr>\n",
       "  </thead>\n",
       "  <tbody>\n",
       "    <tr>\n",
       "      <th>8</th>\n",
       "      <td>9</td>\n",
       "      <td>Ксения</td>\n",
       "      <td>ИТ</td>\n",
       "      <td>19</td>\n",
       "      <td>3.9</td>\n",
       "    </tr>\n",
       "    <tr>\n",
       "      <th>1</th>\n",
       "      <td>2</td>\n",
       "      <td>Боб</td>\n",
       "      <td>Математика</td>\n",
       "      <td>22</td>\n",
       "      <td>3.5</td>\n",
       "    </tr>\n",
       "  </tbody>\n",
       "</table>\n",
       "</div>"
      ],
      "text/plain": [
       "   student_id    name     faculty  age  gpa\n",
       "8           9  Ксения          ИТ   19  3.9\n",
       "1           2     Боб  Математика   22  3.5"
      ]
     },
     "execution_count": 68,
     "metadata": {},
     "output_type": "execute_result"
    }
   ],
   "source": [
    "# Случайная выборка с фиксацией seed\n",
    "df.sample(frac=0.2, random_state=42)  # 20% случайных строк"
   ]
  },
  {
   "cell_type": "markdown",
   "id": "2e403d84",
   "metadata": {},
   "source": [
    "### 4.2 Информация о структуре данных"
   ]
  },
  {
   "cell_type": "code",
   "execution_count": 69,
   "id": "3d7ad9b0",
   "metadata": {},
   "outputs": [
    {
     "name": "stdout",
     "output_type": "stream",
     "text": [
      "<class 'pandas.core.frame.DataFrame'>\n",
      "RangeIndex: 10 entries, 0 to 9\n",
      "Data columns (total 5 columns):\n",
      " #   Column      Non-Null Count  Dtype  \n",
      "---  ------      --------------  -----  \n",
      " 0   student_id  10 non-null     int64  \n",
      " 1   name        10 non-null     object \n",
      " 2   faculty     10 non-null     object \n",
      " 3   age         10 non-null     int64  \n",
      " 4   gpa         10 non-null     float64\n",
      "dtypes: float64(1), int64(2), object(2)\n",
      "memory usage: 532.0+ bytes\n"
     ]
    }
   ],
   "source": [
    "# Базовая информация о DataFrame\n",
    "df.info()"
   ]
  },
  {
   "cell_type": "code",
   "execution_count": 71,
   "id": "1e1843ba",
   "metadata": {},
   "outputs": [
    {
     "name": "stdout",
     "output_type": "stream",
     "text": [
      "Форма (shape): (10, 5)\n",
      "Размер (size): 50\n",
      "Столбцы (columns): ['student_id', 'name', 'faculty', 'age', 'gpa']\n",
      "Индекс (index): RangeIndex(start=0, stop=10, step=1)\n",
      "Типы данных (dtypes): student_id      int64\n",
      "name           object\n",
      "faculty        object\n",
      "age             int64\n",
      "gpa           float64\n",
      "dtype: object\n"
     ]
    }
   ],
   "source": [
    "print(f\"Форма (shape): {df.shape}\")\n",
    "print(f\"Размер (size): {df.size}\")\n",
    "print(f\"Столбцы (columns): {df.columns.tolist()}\")\n",
    "print(f\"Индекс (index): {df.index}\")\n",
    "print(f\"Типы данных (dtypes): {df.dtypes}\")"
   ]
  },
  {
   "cell_type": "code",
   "execution_count": 72,
   "id": "d81ed20d",
   "metadata": {},
   "outputs": [
    {
     "data": {
      "application/vnd.microsoft.datawrangler.viewer.v0+json": {
       "columns": [
        {
         "name": "index",
         "rawType": "object",
         "type": "string"
        },
        {
         "name": "0",
         "rawType": "int64",
         "type": "integer"
        }
       ],
       "ref": "bcdb077d-7ced-4604-8679-932eb5d3263d",
       "rows": [
        [
         "student_id",
         "10"
        ],
        [
         "name",
         "10"
        ],
        [
         "faculty",
         "3"
        ],
        [
         "age",
         "6"
        ],
        [
         "gpa",
         "9"
        ]
       ],
       "shape": {
        "columns": 1,
        "rows": 5
       }
      },
      "text/plain": [
       "student_id    10\n",
       "name          10\n",
       "faculty        3\n",
       "age            6\n",
       "gpa            9\n",
       "dtype: int64"
      ]
     },
     "execution_count": 72,
     "metadata": {},
     "output_type": "execute_result"
    }
   ],
   "source": [
    "# Количество уникальных значений\n",
    "df.nunique()"
   ]
  },
  {
   "cell_type": "code",
   "execution_count": 73,
   "id": "3ef5ece4",
   "metadata": {},
   "outputs": [
    {
     "name": "stdout",
     "output_type": "stream",
     "text": [
      "Уникальные факультеты:\n",
      "['ИТ' 'Математика' 'Физика']\n",
      "Количество: 3\n"
     ]
    }
   ],
   "source": [
    "# Уникальные значения для столбца\n",
    "print(\"Уникальные факультеты:\")\n",
    "print(df['faculty'].unique())\n",
    "print(f\"Количество: {df['faculty'].nunique()}\")"
   ]
  },
  {
   "cell_type": "code",
   "execution_count": 74,
   "id": "45a5a2e7",
   "metadata": {},
   "outputs": [
    {
     "name": "stdout",
     "output_type": "stream",
     "text": [
      "Распределение по факультетам:\n",
      "faculty\n",
      "ИТ            4\n",
      "Математика    3\n",
      "Физика        3\n",
      "Name: count, dtype: int64\n",
      "Распределение по факультетам (с процентами):\n",
      "faculty\n",
      "ИТ            0.4\n",
      "Математика    0.3\n",
      "Физика        0.3\n",
      "Name: proportion, dtype: float64\n"
     ]
    }
   ],
   "source": [
    "# Подсчёт значений\n",
    "print(\"Распределение по факультетам:\")\n",
    "print(df['faculty'].value_counts())\n",
    "\n",
    "print(\"Распределение по факультетам (с процентами):\")\n",
    "print(df['faculty'].value_counts(normalize=True))"
   ]
  },
  {
   "cell_type": "markdown",
   "id": "d042e0a8",
   "metadata": {},
   "source": [
    "### 4.3 Описательная статистика"
   ]
  },
  {
   "cell_type": "code",
   "execution_count": 75,
   "id": "d62e76d6",
   "metadata": {},
   "outputs": [
    {
     "data": {
      "application/vnd.microsoft.datawrangler.viewer.v0+json": {
       "columns": [
        {
         "name": "index",
         "rawType": "object",
         "type": "string"
        },
        {
         "name": "student_id",
         "rawType": "float64",
         "type": "float"
        },
        {
         "name": "age",
         "rawType": "float64",
         "type": "float"
        },
        {
         "name": "gpa",
         "rawType": "float64",
         "type": "float"
        }
       ],
       "ref": "5b808c18-189e-4a57-a81d-c19526ce10bb",
       "rows": [
        [
         "count",
         "10.0",
         "10.0",
         "10.0"
        ],
        [
         "mean",
         "5.5",
         "21.3",
         "3.63"
        ],
        [
         "std",
         "3.0276503540974917",
         "1.7669811040931427",
         "0.2750757471437034"
        ],
        [
         "min",
         "1.0",
         "19.0",
         "3.2"
        ],
        [
         "25%",
         "3.25",
         "20.0",
         "3.425"
        ],
        [
         "50%",
         "5.5",
         "21.5",
         "3.6500000000000004"
        ],
        [
         "75%",
         "7.75",
         "22.75",
         "3.875"
        ],
        [
         "max",
         "10.0",
         "24.0",
         "4.0"
        ]
       ],
       "shape": {
        "columns": 3,
        "rows": 8
       }
      },
      "text/html": [
       "<div>\n",
       "<style scoped>\n",
       "    .dataframe tbody tr th:only-of-type {\n",
       "        vertical-align: middle;\n",
       "    }\n",
       "\n",
       "    .dataframe tbody tr th {\n",
       "        vertical-align: top;\n",
       "    }\n",
       "\n",
       "    .dataframe thead th {\n",
       "        text-align: right;\n",
       "    }\n",
       "</style>\n",
       "<table border=\"1\" class=\"dataframe\">\n",
       "  <thead>\n",
       "    <tr style=\"text-align: right;\">\n",
       "      <th></th>\n",
       "      <th>student_id</th>\n",
       "      <th>age</th>\n",
       "      <th>gpa</th>\n",
       "    </tr>\n",
       "  </thead>\n",
       "  <tbody>\n",
       "    <tr>\n",
       "      <th>count</th>\n",
       "      <td>10.00000</td>\n",
       "      <td>10.000000</td>\n",
       "      <td>10.000000</td>\n",
       "    </tr>\n",
       "    <tr>\n",
       "      <th>mean</th>\n",
       "      <td>5.50000</td>\n",
       "      <td>21.300000</td>\n",
       "      <td>3.630000</td>\n",
       "    </tr>\n",
       "    <tr>\n",
       "      <th>std</th>\n",
       "      <td>3.02765</td>\n",
       "      <td>1.766981</td>\n",
       "      <td>0.275076</td>\n",
       "    </tr>\n",
       "    <tr>\n",
       "      <th>min</th>\n",
       "      <td>1.00000</td>\n",
       "      <td>19.000000</td>\n",
       "      <td>3.200000</td>\n",
       "    </tr>\n",
       "    <tr>\n",
       "      <th>25%</th>\n",
       "      <td>3.25000</td>\n",
       "      <td>20.000000</td>\n",
       "      <td>3.425000</td>\n",
       "    </tr>\n",
       "    <tr>\n",
       "      <th>50%</th>\n",
       "      <td>5.50000</td>\n",
       "      <td>21.500000</td>\n",
       "      <td>3.650000</td>\n",
       "    </tr>\n",
       "    <tr>\n",
       "      <th>75%</th>\n",
       "      <td>7.75000</td>\n",
       "      <td>22.750000</td>\n",
       "      <td>3.875000</td>\n",
       "    </tr>\n",
       "    <tr>\n",
       "      <th>max</th>\n",
       "      <td>10.00000</td>\n",
       "      <td>24.000000</td>\n",
       "      <td>4.000000</td>\n",
       "    </tr>\n",
       "  </tbody>\n",
       "</table>\n",
       "</div>"
      ],
      "text/plain": [
       "       student_id        age        gpa\n",
       "count    10.00000  10.000000  10.000000\n",
       "mean      5.50000  21.300000   3.630000\n",
       "std       3.02765   1.766981   0.275076\n",
       "min       1.00000  19.000000   3.200000\n",
       "25%       3.25000  20.000000   3.425000\n",
       "50%       5.50000  21.500000   3.650000\n",
       "75%       7.75000  22.750000   3.875000\n",
       "max      10.00000  24.000000   4.000000"
      ]
     },
     "execution_count": 75,
     "metadata": {},
     "output_type": "execute_result"
    }
   ],
   "source": [
    "# Базовая статистика для всех числовых столбцов\n",
    "df.describe()"
   ]
  },
  {
   "cell_type": "code",
   "execution_count": 76,
   "id": "a09d15ce",
   "metadata": {},
   "outputs": [
    {
     "data": {
      "application/vnd.microsoft.datawrangler.viewer.v0+json": {
       "columns": [
        {
         "name": "index",
         "rawType": "object",
         "type": "string"
        },
        {
         "name": "student_id",
         "rawType": "float64",
         "type": "float"
        },
        {
         "name": "name",
         "rawType": "object",
         "type": "unknown"
        },
        {
         "name": "faculty",
         "rawType": "object",
         "type": "unknown"
        },
        {
         "name": "age",
         "rawType": "float64",
         "type": "float"
        },
        {
         "name": "gpa",
         "rawType": "float64",
         "type": "float"
        }
       ],
       "ref": "33ed0518-64a5-49a1-9289-be62029b77d1",
       "rows": [
        [
         "count",
         "10.0",
         "10",
         "10",
         "10.0",
         "10.0"
        ],
        [
         "unique",
         null,
         "10",
         "3",
         null,
         null
        ],
        [
         "top",
         null,
         "Алиса",
         "ИТ",
         null,
         null
        ],
        [
         "freq",
         null,
         "1",
         "4",
         null,
         null
        ],
        [
         "mean",
         "5.5",
         null,
         null,
         "21.3",
         "3.63"
        ],
        [
         "std",
         "3.0276503540974917",
         null,
         null,
         "1.7669811040931427",
         "0.2750757471437034"
        ],
        [
         "min",
         "1.0",
         null,
         null,
         "19.0",
         "3.2"
        ],
        [
         "25%",
         "3.25",
         null,
         null,
         "20.0",
         "3.425"
        ],
        [
         "50%",
         "5.5",
         null,
         null,
         "21.5",
         "3.6500000000000004"
        ],
        [
         "75%",
         "7.75",
         null,
         null,
         "22.75",
         "3.875"
        ],
        [
         "max",
         "10.0",
         null,
         null,
         "24.0",
         "4.0"
        ]
       ],
       "shape": {
        "columns": 5,
        "rows": 11
       }
      },
      "text/html": [
       "<div>\n",
       "<style scoped>\n",
       "    .dataframe tbody tr th:only-of-type {\n",
       "        vertical-align: middle;\n",
       "    }\n",
       "\n",
       "    .dataframe tbody tr th {\n",
       "        vertical-align: top;\n",
       "    }\n",
       "\n",
       "    .dataframe thead th {\n",
       "        text-align: right;\n",
       "    }\n",
       "</style>\n",
       "<table border=\"1\" class=\"dataframe\">\n",
       "  <thead>\n",
       "    <tr style=\"text-align: right;\">\n",
       "      <th></th>\n",
       "      <th>student_id</th>\n",
       "      <th>name</th>\n",
       "      <th>faculty</th>\n",
       "      <th>age</th>\n",
       "      <th>gpa</th>\n",
       "    </tr>\n",
       "  </thead>\n",
       "  <tbody>\n",
       "    <tr>\n",
       "      <th>count</th>\n",
       "      <td>10.00000</td>\n",
       "      <td>10</td>\n",
       "      <td>10</td>\n",
       "      <td>10.000000</td>\n",
       "      <td>10.000000</td>\n",
       "    </tr>\n",
       "    <tr>\n",
       "      <th>unique</th>\n",
       "      <td>NaN</td>\n",
       "      <td>10</td>\n",
       "      <td>3</td>\n",
       "      <td>NaN</td>\n",
       "      <td>NaN</td>\n",
       "    </tr>\n",
       "    <tr>\n",
       "      <th>top</th>\n",
       "      <td>NaN</td>\n",
       "      <td>Алиса</td>\n",
       "      <td>ИТ</td>\n",
       "      <td>NaN</td>\n",
       "      <td>NaN</td>\n",
       "    </tr>\n",
       "    <tr>\n",
       "      <th>freq</th>\n",
       "      <td>NaN</td>\n",
       "      <td>1</td>\n",
       "      <td>4</td>\n",
       "      <td>NaN</td>\n",
       "      <td>NaN</td>\n",
       "    </tr>\n",
       "    <tr>\n",
       "      <th>mean</th>\n",
       "      <td>5.50000</td>\n",
       "      <td>NaN</td>\n",
       "      <td>NaN</td>\n",
       "      <td>21.300000</td>\n",
       "      <td>3.630000</td>\n",
       "    </tr>\n",
       "    <tr>\n",
       "      <th>std</th>\n",
       "      <td>3.02765</td>\n",
       "      <td>NaN</td>\n",
       "      <td>NaN</td>\n",
       "      <td>1.766981</td>\n",
       "      <td>0.275076</td>\n",
       "    </tr>\n",
       "    <tr>\n",
       "      <th>min</th>\n",
       "      <td>1.00000</td>\n",
       "      <td>NaN</td>\n",
       "      <td>NaN</td>\n",
       "      <td>19.000000</td>\n",
       "      <td>3.200000</td>\n",
       "    </tr>\n",
       "    <tr>\n",
       "      <th>25%</th>\n",
       "      <td>3.25000</td>\n",
       "      <td>NaN</td>\n",
       "      <td>NaN</td>\n",
       "      <td>20.000000</td>\n",
       "      <td>3.425000</td>\n",
       "    </tr>\n",
       "    <tr>\n",
       "      <th>50%</th>\n",
       "      <td>5.50000</td>\n",
       "      <td>NaN</td>\n",
       "      <td>NaN</td>\n",
       "      <td>21.500000</td>\n",
       "      <td>3.650000</td>\n",
       "    </tr>\n",
       "    <tr>\n",
       "      <th>75%</th>\n",
       "      <td>7.75000</td>\n",
       "      <td>NaN</td>\n",
       "      <td>NaN</td>\n",
       "      <td>22.750000</td>\n",
       "      <td>3.875000</td>\n",
       "    </tr>\n",
       "    <tr>\n",
       "      <th>max</th>\n",
       "      <td>10.00000</td>\n",
       "      <td>NaN</td>\n",
       "      <td>NaN</td>\n",
       "      <td>24.000000</td>\n",
       "      <td>4.000000</td>\n",
       "    </tr>\n",
       "  </tbody>\n",
       "</table>\n",
       "</div>"
      ],
      "text/plain": [
       "        student_id   name faculty        age        gpa\n",
       "count     10.00000     10      10  10.000000  10.000000\n",
       "unique         NaN     10       3        NaN        NaN\n",
       "top            NaN  Алиса      ИТ        NaN        NaN\n",
       "freq           NaN      1       4        NaN        NaN\n",
       "mean       5.50000    NaN     NaN  21.300000   3.630000\n",
       "std        3.02765    NaN     NaN   1.766981   0.275076\n",
       "min        1.00000    NaN     NaN  19.000000   3.200000\n",
       "25%        3.25000    NaN     NaN  20.000000   3.425000\n",
       "50%        5.50000    NaN     NaN  21.500000   3.650000\n",
       "75%        7.75000    NaN     NaN  22.750000   3.875000\n",
       "max       10.00000    NaN     NaN  24.000000   4.000000"
      ]
     },
     "execution_count": 76,
     "metadata": {},
     "output_type": "execute_result"
    }
   ],
   "source": [
    "# Включение всех столбцов\n",
    "df.describe(include='all')"
   ]
  },
  {
   "cell_type": "code",
   "execution_count": 77,
   "id": "dd38fd47",
   "metadata": {},
   "outputs": [
    {
     "data": {
      "application/vnd.microsoft.datawrangler.viewer.v0+json": {
       "columns": [
        {
         "name": "index",
         "rawType": "object",
         "type": "string"
        },
        {
         "name": "name",
         "rawType": "object",
         "type": "unknown"
        },
        {
         "name": "faculty",
         "rawType": "object",
         "type": "unknown"
        }
       ],
       "ref": "0ec84fc8-3970-49b0-8a97-8669da289545",
       "rows": [
        [
         "count",
         "10",
         "10"
        ],
        [
         "unique",
         "10",
         "3"
        ],
        [
         "top",
         "Алиса",
         "ИТ"
        ],
        [
         "freq",
         "1",
         "4"
        ]
       ],
       "shape": {
        "columns": 2,
        "rows": 4
       }
      },
      "text/html": [
       "<div>\n",
       "<style scoped>\n",
       "    .dataframe tbody tr th:only-of-type {\n",
       "        vertical-align: middle;\n",
       "    }\n",
       "\n",
       "    .dataframe tbody tr th {\n",
       "        vertical-align: top;\n",
       "    }\n",
       "\n",
       "    .dataframe thead th {\n",
       "        text-align: right;\n",
       "    }\n",
       "</style>\n",
       "<table border=\"1\" class=\"dataframe\">\n",
       "  <thead>\n",
       "    <tr style=\"text-align: right;\">\n",
       "      <th></th>\n",
       "      <th>name</th>\n",
       "      <th>faculty</th>\n",
       "    </tr>\n",
       "  </thead>\n",
       "  <tbody>\n",
       "    <tr>\n",
       "      <th>count</th>\n",
       "      <td>10</td>\n",
       "      <td>10</td>\n",
       "    </tr>\n",
       "    <tr>\n",
       "      <th>unique</th>\n",
       "      <td>10</td>\n",
       "      <td>3</td>\n",
       "    </tr>\n",
       "    <tr>\n",
       "      <th>top</th>\n",
       "      <td>Алиса</td>\n",
       "      <td>ИТ</td>\n",
       "    </tr>\n",
       "    <tr>\n",
       "      <th>freq</th>\n",
       "      <td>1</td>\n",
       "      <td>4</td>\n",
       "    </tr>\n",
       "  </tbody>\n",
       "</table>\n",
       "</div>"
      ],
      "text/plain": [
       "         name faculty\n",
       "count      10      10\n",
       "unique     10       3\n",
       "top     Алиса      ИТ\n",
       "freq        1       4"
      ]
     },
     "execution_count": 77,
     "metadata": {},
     "output_type": "execute_result"
    }
   ],
   "source": [
    "# Только для категориальных столбцов\n",
    "df.describe(include=['object'])"
   ]
  },
  {
   "cell_type": "markdown",
   "id": "76b1da2e",
   "metadata": {},
   "source": [
    "#### 4.3.2 Расширенная описательная статистика"
   ]
  },
  {
   "cell_type": "code",
   "execution_count": 79,
   "id": "e2f20766",
   "metadata": {},
   "outputs": [
    {
     "name": "stdout",
     "output_type": "stream",
     "text": [
      "\n",
      "Основные статистические показатели:\n",
      "Среднее                  : 100.2900\n",
      "Медиана                  : 100.3795\n",
      "Мода                     : 51.3810\n",
      "Стандартное отклонение   : 14.6882\n",
      "Дисперсия                : 215.7444\n",
      "Минимум                  : 51.3810\n",
      "Максимум                 : 157.7910\n",
      "Размах                   : 106.4100\n",
      "Квартиль 25%             : 90.2861\n",
      "Квартиль 75%             : 109.7192\n",
      "IQR                      : 19.4330\n",
      "Асимметрия (skewness)    : 0.1170\n",
      "Эксцесс (kurtosis)       : 0.0726\n"
     ]
    }
   ],
   "source": [
    "# Создадим более богатый датасет для демонстрации\n",
    "np.random.seed(42)\n",
    "rich_data = pd.DataFrame({\n",
    "    'values': np.random.normal(100, 15, 1000),\n",
    "    'category': np.random.choice(['A', 'B', 'C'], 1000),\n",
    "    'scores': np.random.uniform(0, 100, 1000)\n",
    "})\n",
    "\n",
    "print(\"\\nОсновные статистические показатели:\")\n",
    "stats_dict = {\n",
    "    'Среднее': rich_data['values'].mean(),\n",
    "    'Медиана': rich_data['values'].median(),\n",
    "    'Мода': rich_data['values'].mode()[0] if len(rich_data['values'].mode()) > 0 else None,\n",
    "    'Стандартное отклонение': rich_data['values'].std(),\n",
    "    'Дисперсия': rich_data['values'].var(),\n",
    "    'Минимум': rich_data['values'].min(),\n",
    "    'Максимум': rich_data['values'].max(),\n",
    "    'Размах': rich_data['values'].max() - rich_data['values'].min(),\n",
    "    'Квартиль 25%': rich_data['values'].quantile(0.25),\n",
    "    'Квартиль 75%': rich_data['values'].quantile(0.75),\n",
    "    'IQR': rich_data['values'].quantile(0.75) - rich_data['values'].quantile(0.25),\n",
    "    'Асимметрия (skewness)': rich_data['values'].skew(),\n",
    "    'Эксцесс (kurtosis)': rich_data['values'].kurtosis()\n",
    "}\n",
    "\n",
    "for stat, value in stats_dict.items():\n",
    "    print(f\"{stat:25}: {value:.4f}\")"
   ]
  },
  {
   "cell_type": "code",
   "execution_count": null,
   "id": "595948c7",
   "metadata": {},
   "outputs": [
    {
     "name": "stdout",
     "output_type": "stream",
     "text": [
      "\n",
      "Квантили:\n",
      "0.10     81.328553\n",
      "0.25     90.286145\n",
      "0.50    100.379509\n",
      "0.75    109.719158\n",
      "0.90    119.584678\n",
      "0.95    125.154588\n",
      "0.99    134.739543\n",
      "Name: values, dtype: float64\n"
     ]
    }
   ],
   "source": [
    "# Квантили\n",
    "print(\"Квантили:\")\n",
    "quantiles = [0.1, 0.25, 0.5, 0.75, 0.9, 0.95, 0.99]\n",
    "print(rich_data['values'].quantile(quantiles))"
   ]
  },
  {
   "cell_type": "code",
   "execution_count": null,
   "id": "9542c744",
   "metadata": {},
   "outputs": [
    {
     "name": "stdout",
     "output_type": "stream",
     "text": [
      "\n",
      "Статистика по категориям:\n",
      "          count        mean        std        min        25%         50%  \\\n",
      "category                                                                   \n",
      "A         339.0  100.290509  15.023610  51.380990  89.688296  100.153496   \n",
      "B         346.0  101.013463  14.640159  60.235453  91.592267  101.397845   \n",
      "C         315.0   99.494730  14.378127  66.832970  90.026607   99.284330   \n",
      "\n",
      "                 75%         max  \n",
      "category                          \n",
      "A         110.137191  146.183212  \n",
      "B         110.215374  157.790972  \n",
      "C         108.618548  138.401268  \n"
     ]
    }
   ],
   "source": [
    "# Статистика по группам\n",
    "print(\"Статистика по категориям:\")\n",
    "print(rich_data.groupby('category')['values'].describe())"
   ]
  },
  {
   "cell_type": "code",
   "execution_count": 82,
   "id": "9400a7b7",
   "metadata": {},
   "outputs": [
    {
     "name": "stdout",
     "output_type": "stream",
     "text": [
      "Ковариация:\n",
      "            values      scores\n",
      "values  215.744367  -38.859989\n",
      "scores  -38.859989  843.578563\n"
     ]
    }
   ],
   "source": [
    "# Ковариация\n",
    "print(\"Ковариация:\")\n",
    "print(rich_data[['values', 'scores']].cov())"
   ]
  },
  {
   "cell_type": "code",
   "execution_count": 83,
   "id": "d2796565",
   "metadata": {},
   "outputs": [
    {
     "name": "stdout",
     "output_type": "stream",
     "text": [
      "Корреляция:\n",
      "         values   scores\n",
      "values  1.00000 -0.09109\n",
      "scores -0.09109  1.00000\n"
     ]
    }
   ],
   "source": [
    "# Корреляция между числовыми столбцами\n",
    "print(\"Корреляция:\")\n",
    "print(rich_data[['values', 'scores']].corr())"
   ]
  },
  {
   "cell_type": "code",
   "execution_count": 84,
   "id": "e7e887b7",
   "metadata": {},
   "outputs": [
    {
     "name": "stdout",
     "output_type": "stream",
     "text": [
      "Пропущенные значения:\n",
      "values      100\n",
      "category      0\n",
      "scores       50\n",
      "dtype: int64\n",
      "Общее количество пропусков: 150\n",
      "Процент пропусков: 5.00%\n"
     ]
    }
   ],
   "source": [
    "# Подсчёт пропущенных значений (создадим данные с пропусками)\n",
    "data_with_nan = rich_data.copy()\n",
    "data_with_nan.loc[data_with_nan.sample(frac=0.1).index, 'values'] = np.nan\n",
    "data_with_nan.loc[data_with_nan.sample(frac=0.05).index, 'scores'] = np.nan\n",
    "\n",
    "print(\"Пропущенные значения:\")\n",
    "print(data_with_nan.isnull().sum())\n",
    "print(f\"Общее количество пропусков: {data_with_nan.isnull().sum().sum()}\")\n",
    "print(f\"Процент пропусков: {data_with_nan.isnull().sum().sum() / data_with_nan.size * 100:.2f}%\")\n"
   ]
  },
  {
   "cell_type": "markdown",
   "id": "8001dc9a",
   "metadata": {},
   "source": [
    "## 5. Индексация и выбор данных"
   ]
  },
  {
   "cell_type": "markdown",
   "id": "13eb7b43",
   "metadata": {},
   "source": [
    "### 5.1 Выбор столбцов"
   ]
  },
  {
   "cell_type": "code",
   "execution_count": 85,
   "id": "47c896d8",
   "metadata": {},
   "outputs": [
    {
     "name": "stdout",
     "output_type": "stream",
     "text": [
      "Один столбец (Series):\n",
      "0       Алиса\n",
      "1         Боб\n",
      "2        Вера\n",
      "3    Григорий\n",
      "4       Дарья\n",
      "Name: name, dtype: object\n",
      "Тип: <class 'pandas.core.series.Series'>\n"
     ]
    }
   ],
   "source": [
    "df = pd.read_csv('students.csv')\n",
    "\n",
    "# Один столбец (возвращает Series)\n",
    "names = df['name']\n",
    "print(f\"Один столбец (Series):\\n{names.head()}\")\n",
    "print(f\"Тип: {type(names)}\")"
   ]
  },
  {
   "cell_type": "code",
   "execution_count": 86,
   "id": "215250a5",
   "metadata": {},
   "outputs": [
    {
     "name": "stdout",
     "output_type": "stream",
     "text": [
      "Один столбец (DataFrame):\n",
      "       name\n",
      "0     Алиса\n",
      "1       Боб\n",
      "2      Вера\n",
      "3  Григорий\n",
      "4     Дарья\n",
      "Тип: <class 'pandas.core.frame.DataFrame'>\n"
     ]
    }
   ],
   "source": [
    "# Один столбец (возвращает DataFrame)\n",
    "names_df = df[['name']]\n",
    "print(f\"Один столбец (DataFrame):\\n{names_df.head()}\")\n",
    "print(f\"Тип: {type(names_df)}\")"
   ]
  },
  {
   "cell_type": "code",
   "execution_count": null,
   "id": "09a1ed75",
   "metadata": {},
   "outputs": [],
   "source": [
    "# Несколько столбцов\n",
    "subset = df[['name', 'faculty', 'gpa']]\n",
    "print(f\"Несколько столбцов:\\n{subset.head()}\")"
   ]
  },
  {
   "cell_type": "markdown",
   "id": "b24d5cd5",
   "metadata": {},
   "source": [
    "### 5.2 Выбор строк - Индексация: loc vs iloc - ключевые различия"
   ]
  },
  {
   "cell_type": "code",
   "execution_count": 87,
   "id": "cd55f26f",
   "metadata": {},
   "outputs": [
    {
     "name": "stdout",
     "output_type": "stream",
     "text": [
      "DataFrame с индексами [10, 20, 30]:\n",
      "     name  age\n",
      "10  Алиса   25\n",
      "20    Боб   30\n",
      "30   Вера   22\n"
     ]
    }
   ],
   "source": [
    "# Создадим DataFrame с неупорядоченным индексом для демонстрации\n",
    "df_demo = pd.DataFrame(\n",
    "    {'name': ['Алиса', 'Боб', 'Вера'],\n",
    "     'age': [25, 30, 22]},\n",
    "    index=[10, 20, 30]  # Индексы: 10, 20, 30\n",
    ")\n",
    "\n",
    "print(\"DataFrame с индексами [10, 20, 30]:\")\n",
    "print(df_demo)"
   ]
  },
  {
   "cell_type": "code",
   "execution_count": 89,
   "id": "d2c139ca",
   "metadata": {},
   "outputs": [
    {
     "name": "stdout",
     "output_type": "stream",
     "text": [
      "--- LOC: работает с МЕТКАМИ ---\n",
      "df_demo.loc[10] - обращение по метке индекса 10:\n",
      "name    Алиса\n",
      "age        25\n",
      "Name: 10, dtype: object\n"
     ]
    }
   ],
   "source": [
    "print(\"--- LOC: работает с МЕТКАМИ ---\")\n",
    "print(\"df_demo.loc[10] - обращение по метке индекса 10:\")\n",
    "print(df_demo.loc[10])"
   ]
  },
  {
   "cell_type": "code",
   "execution_count": 90,
   "id": "5c82b130",
   "metadata": {},
   "outputs": [
    {
     "name": "stdout",
     "output_type": "stream",
     "text": [
      "df_demo.loc[10:20] - срез ПО МЕТКАМ (включая конец!):\n",
      "     name  age\n",
      "10  Алиса   25\n",
      "20    Боб   30\n"
     ]
    }
   ],
   "source": [
    "print(\"df_demo.loc[10:20] - срез ПО МЕТКАМ (включая конец!):\")\n",
    "print(df_demo.loc[10:20])"
   ]
  },
  {
   "cell_type": "code",
   "execution_count": 91,
   "id": "3c14c819",
   "metadata": {},
   "outputs": [
    {
     "name": "stdout",
     "output_type": "stream",
     "text": [
      "--- ILOC: работает с ПОЗИЦИЯМИ ---\n",
      "df_demo.iloc[0] - обращение по позиции 0 (первая строка):\n",
      "name    Алиса\n",
      "age        25\n",
      "Name: 10, dtype: object\n"
     ]
    }
   ],
   "source": [
    "print(\"--- ILOC: работает с ПОЗИЦИЯМИ ---\")\n",
    "print(\"df_demo.iloc[0] - обращение по позиции 0 (первая строка):\")\n",
    "print(df_demo.iloc[0])"
   ]
  },
  {
   "cell_type": "code",
   "execution_count": 92,
   "id": "5f74e19a",
   "metadata": {},
   "outputs": [
    {
     "name": "stdout",
     "output_type": "stream",
     "text": [
      "df_demo.iloc[0:2] - срез ПО ПОЗИЦИЯМ (не включая конец!):\n",
      "     name  age\n",
      "10  Алиса   25\n",
      "20    Боб   30\n"
     ]
    }
   ],
   "source": [
    "print(\"df_demo.iloc[0:2] - срез ПО ПОЗИЦИЯМ (не включая конец!):\")\n",
    "print(df_demo.iloc[0:2])"
   ]
  },
  {
   "cell_type": "markdown",
   "id": "c8100095",
   "metadata": {},
   "source": [
    "⚠️ ВАЖНО\n",
    "- loc использует МЕТКИ индекса\n",
    "- iloc использует ПОЗИЦИИ (0, 1, 2, ...)\n",
    "- loc включает конец среза, iloc - НЕ включает\n",
    "- В большинстве случаев рекомендуется использовать loc"
   ]
  },
  {
   "cell_type": "markdown",
   "id": "abaf5b19",
   "metadata": {},
   "source": [
    "### 5.3 Индексация по меткам (loc) - основной инструмент\n",
    "\n",
    "`loc` используется для доступа по меткам индекса и названиям столбцов\n",
    "\n",
    "Синтаксис: `df.loc[rows, columns]`"
   ]
  },
  {
   "cell_type": "code",
   "execution_count": null,
   "id": "96d1ffdf",
   "metadata": {},
   "outputs": [],
   "source": [
    "# Вернёмся к нашему датасету студентов\n",
    "df = pd.read_csv('data/students.csv')"
   ]
  },
  {
   "cell_type": "code",
   "execution_count": 93,
   "id": "bf29ab5f",
   "metadata": {},
   "outputs": [
    {
     "name": "stdout",
     "output_type": "stream",
     "text": [
      "Строка с индексом 0:\n",
      "student_id        1\n",
      "name          Алиса\n",
      "faculty          ИТ\n",
      "age              20\n",
      "gpa             3.8\n",
      "Name: 0, dtype: object\n"
     ]
    }
   ],
   "source": [
    "# Одна строка по индексу (по умолчанию индексы: 0, 1, 2, ...)\n",
    "print(\"Строка с индексом 0:\")\n",
    "print(df.loc[0])"
   ]
  },
  {
   "cell_type": "code",
   "execution_count": 94,
   "id": "ca02cf2a",
   "metadata": {},
   "outputs": [
    {
     "name": "stdout",
     "output_type": "stream",
     "text": [
      "Строки 0-2:\n",
      "   student_id   name     faculty  age  gpa\n",
      "0           1  Алиса          ИТ   20  3.8\n",
      "1           2    Боб  Математика   22  3.5\n",
      "2           3   Вера          ИТ   19  4.0\n"
     ]
    }
   ],
   "source": [
    "# Несколько строк\n",
    "print(\"Строки 0-2:\")\n",
    "print(df.loc[0:2])  # включая 2!"
   ]
  },
  {
   "cell_type": "code",
   "execution_count": 99,
   "id": "5458a0b4",
   "metadata": {},
   "outputs": [
    {
     "name": "stdout",
     "output_type": "stream",
     "text": [
      "Строки с индексами 0, 3, 5:\n",
      "   student_id      name faculty  age  gpa\n",
      "0           1     Алиса      ИТ   20  3.8\n",
      "3           4  Григорий  Физика   23  3.2\n",
      "5           6   Евгений      ИТ   20  3.7\n"
     ]
    }
   ],
   "source": [
    "# Строки с определёнными индексами\n",
    "print(\"Строки с индексами 0, 3, 5:\")\n",
    "print(df.loc[[0, 3, 5]])"
   ]
  },
  {
   "cell_type": "code",
   "execution_count": 95,
   "id": "4f424017",
   "metadata": {},
   "outputs": [
    {
     "name": "stdout",
     "output_type": "stream",
     "text": [
      "Значение (row=0, col='name'): Алиса\n"
     ]
    }
   ],
   "source": [
    "# Одна ячейка\n",
    "print(f\"Значение (row=0, col='name'): {df.loc[0, 'name']}\")"
   ]
  },
  {
   "cell_type": "code",
   "execution_count": 96,
   "id": "e02f0ab0",
   "metadata": {},
   "outputs": [
    {
     "name": "stdout",
     "output_type": "stream",
     "text": [
      "Строки 0-2, столбцы name и gpa:\n",
      "    name  gpa\n",
      "0  Алиса  3.8\n",
      "1    Боб  3.5\n",
      "2   Вера  4.0\n"
     ]
    }
   ],
   "source": [
    "# Строки и столбцы\n",
    "print(\"Строки 0-2, столбцы name и gpa:\")\n",
    "print(df.loc[0:2, ['name', 'gpa']])"
   ]
  },
  {
   "cell_type": "code",
   "execution_count": 97,
   "id": "000ba691",
   "metadata": {},
   "outputs": [
    {
     "name": "stdout",
     "output_type": "stream",
     "text": [
      "Все строки, столбцы name и age:\n",
      "       name  age\n",
      "0     Алиса   20\n",
      "1       Боб   22\n",
      "2      Вера   19\n",
      "3  Григорий   23\n",
      "4     Дарья   21\n"
     ]
    }
   ],
   "source": [
    "# Все строки, определённые столбцы\n",
    "print(\"Все строки, столбцы name и age:\")\n",
    "print(df.loc[:, ['name', 'age']].head())"
   ]
  },
  {
   "cell_type": "code",
   "execution_count": 98,
   "id": "db6fb0ae",
   "metadata": {},
   "outputs": [
    {
     "name": "stdout",
     "output_type": "stream",
     "text": [
      "Срез столбцов от name до age:\n",
      "       name     faculty  age\n",
      "0     Алиса          ИТ   20\n",
      "1       Боб  Математика   22\n",
      "2      Вера          ИТ   19\n",
      "3  Григорий      Физика   23\n",
      "4     Дарья  Математика   21\n"
     ]
    }
   ],
   "source": [
    "# Срезы столбцов (работают по меткам!)\n",
    "print(\"Срез столбцов от name до age:\")\n",
    "print(df.loc[:, 'name':'age'].head())"
   ]
  },
  {
   "cell_type": "markdown",
   "id": "91b01330",
   "metadata": {},
   "source": [
    "### 5.4 Логическая индексация (булевы маски)"
   ]
  },
  {
   "cell_type": "code",
   "execution_count": 101,
   "id": "2754d8f3",
   "metadata": {},
   "outputs": [
    {
     "name": "stdout",
     "output_type": "stream",
     "text": [
      "Маска (возраст > 21):\n",
      "0    False\n",
      "1     True\n",
      "2    False\n",
      "3     True\n",
      "4    False\n",
      "5    False\n",
      "6     True\n",
      "7     True\n",
      "8    False\n",
      "9     True\n",
      "Name: age, dtype: bool\n",
      "\n",
      "Студенты старше 21 (через loc):\n",
      "   student_id      name     faculty  age  gpa\n",
      "1           2       Боб  Математика   22  3.5\n",
      "3           4  Григорий      Физика   23  3.2\n",
      "6           7     Жанна      Физика   22  3.4\n",
      "7           8     Игорь  Математика   24  3.6\n",
      "9          10    Леонид      Физика   23  3.3\n"
     ]
    }
   ],
   "source": [
    "df = pd.read_csv('students.csv')\n",
    "\n",
    "# Создание булевой маски\n",
    "age_mask = df['age'] > 21\n",
    "print(f\"Маска (возраст > 21):\\n{age_mask}\")\n",
    "\n",
    "# Применение маски с loc\n",
    "older_students = df.loc[age_mask]\n",
    "print(f\"\\nСтуденты старше 21 (через loc):\\n{older_students}\")"
   ]
  },
  {
   "cell_type": "code",
   "execution_count": 102,
   "id": "e72d0eb4",
   "metadata": {},
   "outputs": [
    {
     "name": "stdout",
     "output_type": "stream",
     "text": [
      "Студенты моложе 21:\n",
      "   student_id     name faculty  age  gpa\n",
      "0           1    Алиса      ИТ   20  3.8\n",
      "2           3     Вера      ИТ   19  4.0\n",
      "5           6  Евгений      ИТ   20  3.7\n",
      "8           9   Ксения      ИТ   19  3.9\n"
     ]
    }
   ],
   "source": [
    "# Можно делать в одну строку\n",
    "print(\"Студенты моложе 21:\")\n",
    "print(df.loc[df['age'] < 21])"
   ]
  },
  {
   "cell_type": "markdown",
   "id": "a49a18e2",
   "metadata": {},
   "source": [
    "__Множественные условия (используем & для AND, | для OR)__\n",
    "\n",
    "__ВАЖНО: каждое условие должно быть в скобках!__"
   ]
  },
  {
   "cell_type": "code",
   "execution_count": null,
   "id": "3ee56d31",
   "metadata": {},
   "outputs": [
    {
     "name": "stdout",
     "output_type": "stream",
     "text": [
      "Студенты ИТ факультета старше 19:\n",
      "   student_id     name faculty  age  gpa\n",
      "0           1    Алиса      ИТ   20  3.8\n",
      "5           6  Евгений      ИТ   20  3.7\n"
     ]
    }
   ],
   "source": [
    "print(\"Студенты ИТ факультета старше 19:\")\n",
    "print(df.loc[(df['faculty'] == 'ИТ') & (df['age'] > 19)])"
   ]
  },
  {
   "cell_type": "code",
   "execution_count": 104,
   "id": "8ef82b8e",
   "metadata": {},
   "outputs": [
    {
     "name": "stdout",
     "output_type": "stream",
     "text": [
      "Студенты с GPA > 3.8 ИЛИ возрастом < 20:\n",
      "   student_id    name     faculty  age  gpa\n",
      "2           3    Вера          ИТ   19  4.0\n",
      "4           5   Дарья  Математика   21  3.9\n",
      "8           9  Ксения          ИТ   19  3.9\n"
     ]
    }
   ],
   "source": [
    "print(\"Студенты с GPA > 3.8 ИЛИ возрастом < 20:\")\n",
    "print(df.loc[(df['gpa'] > 3.8) | (df['age'] < 20)])"
   ]
  },
  {
   "cell_type": "code",
   "execution_count": 105,
   "id": "b7301c70",
   "metadata": {},
   "outputs": [
    {
     "name": "stdout",
     "output_type": "stream",
     "text": [
      "Студенты НЕ с ИТ факультета:\n",
      "   student_id      name     faculty  age  gpa\n",
      "1           2       Боб  Математика   22  3.5\n",
      "3           4  Григорий      Физика   23  3.2\n",
      "4           5     Дарья  Математика   21  3.9\n",
      "6           7     Жанна      Физика   22  3.4\n",
      "7           8     Игорь  Математика   24  3.6\n",
      "9          10    Леонид      Физика   23  3.3\n"
     ]
    }
   ],
   "source": [
    "# Отрицание условия\n",
    "print(\"Студенты НЕ с ИТ факультета:\")\n",
    "print(df.loc[~(df['faculty'] == 'ИТ')])"
   ]
  },
  {
   "cell_type": "code",
   "execution_count": 106,
   "id": "4d6510b7",
   "metadata": {},
   "outputs": [
    {
     "name": "stdout",
     "output_type": "stream",
     "text": [
      "\n",
      "Студенты ИТ или Математики:\n",
      "   student_id     name     faculty  age  gpa\n",
      "0           1    Алиса          ИТ   20  3.8\n",
      "1           2      Боб  Математика   22  3.5\n",
      "2           3     Вера          ИТ   19  4.0\n",
      "4           5    Дарья  Математика   21  3.9\n",
      "5           6  Евгений          ИТ   20  3.7\n",
      "7           8    Игорь  Математика   24  3.6\n",
      "8           9   Ксения          ИТ   19  3.9\n"
     ]
    }
   ],
   "source": [
    "# Проверка вхождения в список\n",
    "it_math = df.loc[df['faculty'].isin(['ИТ', 'Математика'])]\n",
    "print(\"\\nСтуденты ИТ или Математики:\")\n",
    "print(it_math)"
   ]
  },
  {
   "cell_type": "code",
   "execution_count": 107,
   "id": "e6b3a022",
   "metadata": {},
   "outputs": [
    {
     "name": "stdout",
     "output_type": "stream",
     "text": [
      "Студенты с возрастом от 20 до 22:\n",
      "   student_id     name     faculty  age  gpa\n",
      "0           1    Алиса          ИТ   20  3.8\n",
      "1           2      Боб  Математика   22  3.5\n",
      "4           5    Дарья  Математика   21  3.9\n",
      "5           6  Евгений          ИТ   20  3.7\n",
      "6           7    Жанна      Физика   22  3.4\n"
     ]
    }
   ],
   "source": [
    "# between для диапазона\n",
    "print(\"Студенты с возрастом от 20 до 22:\")\n",
    "print(df.loc[df['age'].between(20, 22)])"
   ]
  },
  {
   "cell_type": "code",
   "execution_count": 108,
   "id": "a5bbfedb",
   "metadata": {},
   "outputs": [
    {
     "name": "stdout",
     "output_type": "stream",
     "text": [
      "Имена, начинающиеся с 'А':\n",
      "   student_id   name faculty  age  gpa\n",
      "0           1  Алиса      ИТ   20  3.8\n"
     ]
    }
   ],
   "source": [
    "# Проверка строк\n",
    "print(\"Имена, начинающиеся с 'А':\")\n",
    "print(df.loc[df['name'].str.startswith('А')])"
   ]
  },
  {
   "cell_type": "code",
   "execution_count": 109,
   "id": "32aecb75",
   "metadata": {},
   "outputs": [
    {
     "name": "stdout",
     "output_type": "stream",
     "text": [
      "Имена, содержащие 'е':\n",
      "   student_id     name faculty  age  gpa\n",
      "2           3     Вера      ИТ   19  4.0\n",
      "5           6  Евгений      ИТ   20  3.7\n",
      "8           9   Ксения      ИТ   19  3.9\n",
      "9          10   Леонид  Физика   23  3.3\n"
     ]
    }
   ],
   "source": [
    "print(\"Имена, содержащие 'е':\")\n",
    "print(df.loc[df['name'].str.contains('е')])"
   ]
  },
  {
   "cell_type": "code",
   "execution_count": 110,
   "id": "84f51058",
   "metadata": {},
   "outputs": [
    {
     "name": "stdout",
     "output_type": "stream",
     "text": [
      "ИТ студенты старше 19, только имя и GPA:\n",
      "      name  gpa\n",
      "0    Алиса  3.8\n",
      "5  Евгений  3.7\n"
     ]
    }
   ],
   "source": [
    "# Комбинированная фильтрация с выбором столбцов\n",
    "print(\"ИТ студенты старше 19, только имя и GPA:\")\n",
    "print(df.loc[(df['faculty'] == 'ИТ') & (df['age'] > 19), ['name', 'gpa']])"
   ]
  }
 ],
 "metadata": {
  "kernelspec": {
   "display_name": "courses",
   "language": "python",
   "name": "python3"
  },
  "language_info": {
   "codemirror_mode": {
    "name": "ipython",
    "version": 3
   },
   "file_extension": ".py",
   "mimetype": "text/x-python",
   "name": "python",
   "nbconvert_exporter": "python",
   "pygments_lexer": "ipython3",
   "version": "3.13.5"
  }
 },
 "nbformat": 4,
 "nbformat_minor": 5
}
