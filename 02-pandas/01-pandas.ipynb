{
 "cells": [
  {
   "cell_type": "markdown",
   "id": "842b89be",
   "metadata": {},
   "source": [
    "# Основы Pandas и работа с данными"
   ]
  },
  {
   "cell_type": "markdown",
   "id": "03595b75",
   "metadata": {},
   "source": [
    "## 1. Импорт библиотеки"
   ]
  },
  {
   "cell_type": "code",
   "execution_count": null,
   "id": "b756252d",
   "metadata": {},
   "outputs": [],
   "source": [
    "import pandas as pd\n",
    "import numpy as np\n",
    "\n",
    "# Проверка версии\n",
    "print(f\"Версия pandas: {pd.__version__}\")\n",
    "print(f\"Версия numpy: {np.__version__}\")"
   ]
  },
  {
   "cell_type": "markdown",
   "id": "8079133a",
   "metadata": {},
   "source": [
    "## 2. Основные структуры данных"
   ]
  },
  {
   "cell_type": "markdown",
   "id": "15c84159",
   "metadata": {},
   "source": [
    "### 2.1 Series - одномерный массив с метками\n",
    "\n",
    "Series — это одномерный массив с индексами. Можно думать о нём как о столбце Excel или словаре Python."
   ]
  },
  {
   "cell_type": "code",
   "execution_count": null,
   "id": "e5b6f4ff",
   "metadata": {},
   "outputs": [],
   "source": [
    "# Создание Series из списка\n",
    "simple_series = pd.Series([10, 20, 30, 40, 50])\n",
    "print(\"Series из списка:\")\n",
    "print(simple_series)\n",
    "print(f\"Тип: {type(simple_series)}\")"
   ]
  },
  {
   "cell_type": "code",
   "execution_count": null,
   "id": "d4d40a8c",
   "metadata": {},
   "outputs": [],
   "source": [
    "# Создание Series с явными индексами\n",
    "indexed_series = pd.Series([10, 20, 30, 40, 50], \n",
    "                           index=['a', 'b', 'c', 'd', 'e'])\n",
    "print(\"\\nSeries с индексами:\")\n",
    "print(indexed_series)"
   ]
  },
  {
   "cell_type": "code",
   "execution_count": null,
   "id": "c86444d4",
   "metadata": {},
   "outputs": [],
   "source": [
    "# Создание Series из словаря\n",
    "dict_data = {'Москва': 12_000_000, 'Санкт-Петербург': 5_000_000, \n",
    "             'Новосибирск': 1_500_000, 'Екатеринбург': 1_400_000}\n",
    "city_population = pd.Series(dict_data)\n",
    "print(\"\\nSeries из словаря (население городов):\")\n",
    "print(city_population)"
   ]
  },
  {
   "cell_type": "code",
   "execution_count": null,
   "id": "53181e77",
   "metadata": {},
   "outputs": [],
   "source": [
    "# Создание Series из NumPy массива\n",
    "np_array = np.array([1.5, 2.3, 3.7, 4.1, 5.9])\n",
    "np_series = pd.Series(np_array, index=['Jan', 'Feb', 'Mar', 'Apr', 'May'])\n",
    "print(\"\\nSeries из NumPy массива:\")\n",
    "print(np_series)"
   ]
  },
  {
   "cell_type": "markdown",
   "id": "36eab150",
   "metadata": {},
   "source": [
    "### 2.2 Свойства и методы Series"
   ]
  },
  {
   "cell_type": "code",
   "execution_count": null,
   "id": "b95048ec",
   "metadata": {},
   "outputs": [],
   "source": [
    "# Основные свойства\n",
    "print(\"=== СВОЙСТВА SERIES ===\")\n",
    "print(f\"Значения (values): {city_population.values}\")\n",
    "print(f\"Индекс (index): {city_population.index}\")\n",
    "print(f\"Тип данных (dtype): {city_population.dtype}\")\n",
    "print(f\"Форма (shape): {city_population.shape}\")\n",
    "print(f\"Размер (size): {city_population.size}\")\n",
    "print(f\"Имя Series: {city_population.name}\")"
   ]
  },
  {
   "cell_type": "code",
   "execution_count": null,
   "id": "53bb01ad",
   "metadata": {},
   "outputs": [],
   "source": [
    "# Установка имени\n",
    "city_population.name = 'Население'\n",
    "city_population.index.name = 'Город'\n",
    "print(f\"\\nSeries с именами:\")\n",
    "print(city_population)"
   ]
  },
  {
   "cell_type": "code",
   "execution_count": null,
   "id": "1eb33872",
   "metadata": {},
   "outputs": [],
   "source": [
    "# Доступ к элементам\n",
    "print(\"\\n=== ДОСТУП К ЭЛЕМЕНТАМ ===\")\n",
    "print(f\"По индексу: {city_population['Москва']:,}\")\n",
    "print(f\"По позиции: {city_population.iloc[0]:,}\")\n",
    "print(f\"Первые 2 элемента:\\n{city_population.head(2)}\")"
   ]
  },
  {
   "cell_type": "code",
   "execution_count": null,
   "id": "363743f9",
   "metadata": {},
   "outputs": [],
   "source": [
    "# Операции с Series\n",
    "print(\"\\n=== ОПЕРАЦИИ ===\")\n",
    "print(f\"Сумма: {city_population.sum():,}\")\n",
    "print(f\"Среднее: {city_population.mean():,.0f}\")\n",
    "print(f\"Максимум: {city_population.max():,}\")\n",
    "print(f\"Минимум: {city_population.min():,}\")\n",
    "print(f\"Индекс максимального значения: {city_population.idxmax()}\")"
   ]
  },
  {
   "cell_type": "code",
   "execution_count": null,
   "id": "4f823256",
   "metadata": {},
   "outputs": [],
   "source": [
    "# Арифметические операции\n",
    "population_thousands = city_population / 1000\n",
    "print(f\"\\nНаселение в тысячах:\\n{population_thousands}\")"
   ]
  },
  {
   "cell_type": "code",
   "execution_count": null,
   "id": "93b37b03",
   "metadata": {},
   "outputs": [],
   "source": [
    "# Фильтрация\n",
    "big_cities = city_population[city_population > 2_000_000]\n",
    "print(f\"\\nГорода с населением > 2 млн:\\n{big_cities}\")"
   ]
  },
  {
   "cell_type": "markdown",
   "id": "8d3d3be9",
   "metadata": {},
   "source": [
    "### 2.3 DataFrame - двумерная таблица\n",
    "DataFrame — это основная структура данных pandas. Это таблица с именованными столбцами и индексами строк."
   ]
  },
  {
   "cell_type": "code",
   "execution_count": null,
   "id": "95c6d1b5",
   "metadata": {},
   "outputs": [],
   "source": [
    "# Создание DataFrame из словаря списков\n",
    "data = {\n",
    "    'name': ['Алиса', 'Боб', 'Вера', 'Григорий', 'Дарья'],\n",
    "    'age': [25, 30, 22, 35, 28],\n",
    "    'city': ['Москва', 'СПб', 'Москва', 'Казань', 'СПб'],\n",
    "    'salary': [50000, 60000, 45000, 75000, 55000]\n",
    "}\n",
    "\n",
    "df = pd.DataFrame(data)\n",
    "print(\"DataFrame из словаря:\")\n",
    "print(df)"
   ]
  },
  {
   "cell_type": "code",
   "execution_count": null,
   "id": "cc74a5bf",
   "metadata": {},
   "outputs": [],
   "source": [
    "# Создание DataFrame из списка словарей\n",
    "list_of_dicts = [\n",
    "    {'product': 'Laptop', 'price': 50000, 'quantity': 10},\n",
    "    {'product': 'Mouse', 'price': 500, 'quantity': 50},\n",
    "    {'product': 'Keyboard', 'price': 1500, 'quantity': 30}\n",
    "]\n",
    "\n",
    "df_products = pd.DataFrame(list_of_dicts)\n",
    "print(\"DataFrame из списка словарей:\")\n",
    "print(df_products)"
   ]
  },
  {
   "cell_type": "code",
   "execution_count": null,
   "id": "9c971978",
   "metadata": {},
   "outputs": [],
   "source": [
    "# Создание DataFrame из NumPy массива\n",
    "np_data = np.random.randint(1, 100, (5, 3))\n",
    "df_numpy = pd.DataFrame(np_data, \n",
    "                        columns=['A', 'B', 'C'],\n",
    "                        index=['row1', 'row2', 'row3', 'row4', 'row5'])\n",
    "print(\"DataFrame из NumPy массива:\")\n",
    "print(df_numpy)"
   ]
  },
  {
   "cell_type": "code",
   "execution_count": null,
   "id": "71b8d920",
   "metadata": {},
   "outputs": [],
   "source": [
    "# Создание DataFrame из Series\n",
    "series1 = pd.Series([1, 2, 3], name='col1')\n",
    "series2 = pd.Series([4, 5, 6], name='col2')\n",
    "df_from_series = pd.concat([series1, series2], axis=1)\n",
    "print(\"DataFrame из Series:\")\n",
    "print(df_from_series)"
   ]
  },
  {
   "cell_type": "code",
   "execution_count": null,
   "id": "0fb80145",
   "metadata": {},
   "outputs": [],
   "source": [
    "# Создание DataFrame с указанием индекса\n",
    "df_indexed = pd.DataFrame(\n",
    "    data,\n",
    "    index=['emp001', 'emp002', 'emp003', 'emp004', 'emp005']\n",
    ")\n",
    "print(\"DataFrame с пользовательским индексом:\")\n",
    "print(df_indexed)"
   ]
  },
  {
   "cell_type": "markdown",
   "id": "f3a1d42f",
   "metadata": {},
   "source": [
    "### 2.4 Свойства и атрибуты DataFrame"
   ]
  },
  {
   "cell_type": "code",
   "execution_count": null,
   "id": "82a73115",
   "metadata": {},
   "outputs": [],
   "source": [
    "# Используем ранее созданный DataFrame\n",
    "print(\"=== ОСНОВНЫЕ СВОЙСТВА ===\")\n",
    "print(f\"Форма (rows, columns): {df.shape}\")\n",
    "print(f\"Размер (total elements): {df.size}\")\n",
    "print(f\"Количество измерений: {df.ndim}\")\n",
    "print(f\"Типы данных:\\n{df.dtypes}\")\n",
    "print(f\"\\nИндекс:\\n{df.index}\")\n",
    "print(f\"\\nСтолбцы:\\n{df.columns}\")\n",
    "print(f\"\\nЗначения (как NumPy массив):\\n{df.values}\")"
   ]
  },
  {
   "cell_type": "code",
   "execution_count": null,
   "id": "0251a118",
   "metadata": {},
   "outputs": [],
   "source": [
    "# Быстрый доступ к столбцам\n",
    "print(\"=== ДОСТУП К СТОЛБЦАМ ===\")\n",
    "print(f\"Имена: {df['name']}\\n\")  # как словарь\n",
    "print(f\"Возраст: \\n{df.age}\")     # как атрибут (только если имя столбца валидно)\n"
   ]
  },
  {
   "cell_type": "code",
   "execution_count": null,
   "id": "9e071c08",
   "metadata": {},
   "outputs": [],
   "source": [
    "# Выбор нескольких столбцов\n",
    "subset = df[['name', 'salary']]\n",
    "print(f\"Подмножество столбцов:\\n{subset}\")"
   ]
  },
  {
   "cell_type": "code",
   "execution_count": null,
   "id": "c865dcb9",
   "metadata": {},
   "outputs": [],
   "source": [
    "# Добавление нового столбца\n",
    "df['salary_usd'] = df['salary'] / 90  # курс условный\n",
    "print(f\"С новым столбцом:\\n{df}\")"
   ]
  },
  {
   "cell_type": "code",
   "execution_count": null,
   "id": "4a9cfb18",
   "metadata": {},
   "outputs": [],
   "source": [
    "# Удаление столбца (не изменяет исходный DataFrame)\n",
    "df_dropped = df.drop('salary_usd', axis=1)\n",
    "print(f\"Без столбца salary_usd:\\n{df_dropped}\")\n",
    "print(f\"\\nИсходный DataFrame не изменился:\\n{df}\")"
   ]
  },
  {
   "cell_type": "code",
   "execution_count": null,
   "id": "dd67318d",
   "metadata": {},
   "outputs": [],
   "source": [
    "# Переименование столбцов\n",
    "df_renamed = df.rename(columns={'name': 'Имя', 'age': 'Возраст'})\n",
    "print(f\"Переименованные столбцы:\\n{df_renamed}\")"
   ]
  },
  {
   "cell_type": "markdown",
   "id": "3927e68c",
   "metadata": {},
   "source": [
    "### 2.5 Index - объект индекса"
   ]
  },
  {
   "cell_type": "code",
   "execution_count": null,
   "id": "88b34bf4",
   "metadata": {},
   "outputs": [],
   "source": [
    "# Различные типы индексов\n",
    "print(\"=== ТИПЫ ИНДЕКСОВ ===\")\n",
    "\n",
    "# RangeIndex (по умолчанию)\n",
    "df_default = pd.DataFrame({'A': [1, 2, 3]})\n",
    "print(f\"RangeIndex:\\n{df_default.index}\")\n",
    "\n",
    "# Int64Index\n",
    "df_int_idx = pd.DataFrame({'A': [1, 2, 3]}, index=[10, 20, 30])\n",
    "print(f\"\\nInt64Index:\\n{df_int_idx.index}\")\n",
    "\n",
    "# DatetimeIndex\n",
    "dates = pd.date_range('2024-01-01', periods=5, freq='D')\n",
    "df_dates = pd.DataFrame({'value': [10, 20, 15, 25, 30]}, index=dates)\n",
    "print(f\"\\nDatetimeIndex:\\n{df_dates}\")\n",
    "\n",
    "# MultiIndex (иерархический индекс)\n",
    "arrays = [\n",
    "    ['A', 'A', 'B', 'B'],\n",
    "    [1, 2, 1, 2]\n",
    "]\n",
    "multi_idx = pd.MultiIndex.from_arrays(arrays, names=['letter', 'number'])\n",
    "df_multi = pd.DataFrame({'value': [10, 20, 30, 40]}, index=multi_idx)\n",
    "print(f\"\\nMultiIndex:\\n{df_multi}\")"
   ]
  },
  {
   "cell_type": "code",
   "execution_count": null,
   "id": "6743e8c2",
   "metadata": {},
   "outputs": [],
   "source": [
    "# Операции с индексом\n",
    "print(\"=== ОПЕРАЦИИ С ИНДЕКСОМ ===\")\n",
    "df_indexed = pd.DataFrame(\n",
    "    {'value': [10, 20, 30, 40, 50]},\n",
    "    index=['a', 'b', 'c', 'd', 'e']\n",
    ")\n",
    "print(f\"Исходный DataFrame:\\n{df_indexed}\")"
   ]
  },
  {
   "cell_type": "code",
   "execution_count": null,
   "id": "1d92ee7a",
   "metadata": {},
   "outputs": [],
   "source": [
    "# Сброс индекса\n",
    "df_reset = df_indexed.reset_index()\n",
    "print(f\"После reset_index():\\n{df_reset}\")"
   ]
  },
  {
   "cell_type": "code",
   "execution_count": null,
   "id": "bada1fec",
   "metadata": {},
   "outputs": [],
   "source": [
    "# Установка столбца как индекса\n",
    "df_set = df_reset.set_index('index')\n",
    "print(f\"После set_index('index'):\\n{df_set}\")"
   ]
  },
  {
   "cell_type": "code",
   "execution_count": null,
   "id": "9b840f5f",
   "metadata": {},
   "outputs": [],
   "source": [
    "# Сортировка по индексу\n",
    "df_sorted = df_indexed.sort_index(ascending=False)\n",
    "print(f\"Отсортированный по индексу:\\n{df_sorted}\")"
   ]
  },
  {
   "cell_type": "markdown",
   "id": "9e3f0cec",
   "metadata": {},
   "source": [
    "## 3. Загрузка и сохранение данных"
   ]
  },
  {
   "cell_type": "markdown",
   "id": "b2645a15",
   "metadata": {},
   "source": [
    "### 3.1 Создание тестовых файлов"
   ]
  },
  {
   "cell_type": "code",
   "execution_count": null,
   "id": "37166bb4",
   "metadata": {},
   "outputs": [],
   "source": [
    "# Создание тестового CSV файла\n",
    "test_data = {\n",
    "    'student_id': range(1, 11),\n",
    "    'name': ['Алиса', 'Боб', 'Вера', 'Григорий', 'Дарья', \n",
    "             'Евгений', 'Жанна', 'Игорь', 'Ксения', 'Леонид'],\n",
    "    'faculty': ['ИТ', 'Математика', 'ИТ', 'Физика', 'Математика',\n",
    "                'ИТ', 'Физика', 'Математика', 'ИТ', 'Физика'],\n",
    "    'age': [20, 22, 19, 23, 21, 20, 22, 24, 19, 23],\n",
    "    'gpa': [3.8, 3.5, 4.0, 3.2, 3.9, 3.7, 3.4, 3.6, 3.9, 3.3]\n",
    "}\n",
    "\n",
    "df_test = pd.DataFrame(test_data)\n",
    "df_test.to_csv('students.csv', index=False, encoding='utf-8')\n",
    "print(\"Создан файл: students.csv\")\n",
    "\n",
    "# Создание CSV с разными параметрами\n",
    "df_test.to_csv('students_semicolon.csv', sep=';', index=False, encoding='utf-8')\n",
    "print(\"Создан файл: students_semicolon.csv\")"
   ]
  },
  {
   "cell_type": "markdown",
   "id": "ad8d7f9d",
   "metadata": {},
   "source": [
    "### 3.2 Чтение CSV файлов"
   ]
  },
  {
   "cell_type": "code",
   "execution_count": null,
   "id": "eab6213b",
   "metadata": {},
   "outputs": [],
   "source": [
    "# Базовое чтение CSV\n",
    "df_csv = pd.read_csv('students.csv')\n",
    "print(\"=== ЧТЕНИЕ CSV (базовое) ===\")\n",
    "print(df_csv)"
   ]
  },
  {
   "cell_type": "code",
   "execution_count": null,
   "id": "0dd76f8b",
   "metadata": {},
   "outputs": [],
   "source": [
    "# Чтение CSV с другим разделителем\n",
    "df_semicolon = pd.read_csv('students_semicolon.csv', sep=';')\n",
    "print(\"=== CSV с разделителем ; ===\")\n",
    "print(df_semicolon.head())"
   ]
  },
  {
   "cell_type": "code",
   "execution_count": null,
   "id": "29bddaed",
   "metadata": {},
   "outputs": [],
   "source": [
    "# Чтение с указанием столбца индекса\n",
    "df_indexed = pd.read_csv('students.csv', index_col='student_id')\n",
    "print(\"=== CSV с индексом ===\")\n",
    "print(df_indexed.head())"
   ]
  },
  {
   "cell_type": "code",
   "execution_count": null,
   "id": "01d54894",
   "metadata": {},
   "outputs": [],
   "source": [
    "# Чтение только определённых столбцов\n",
    "df_subset = pd.read_csv('students.csv', usecols=['name', 'faculty', 'gpa'])\n",
    "print(\"=== Только выбранные столбцы ===\")\n",
    "print(df_subset)"
   ]
  },
  {
   "cell_type": "code",
   "execution_count": null,
   "id": "73582b5d",
   "metadata": {},
   "outputs": [],
   "source": [
    "# Чтение с преобразованием типов\n",
    "df_typed = pd.read_csv('students.csv', \n",
    "                       dtype={'student_id': str, 'age': 'Int64'})\n",
    "print(\"=== С указанием типов ===\")\n",
    "print(df_typed.dtypes)"
   ]
  },
  {
   "cell_type": "code",
   "execution_count": null,
   "id": "7f7c78d6",
   "metadata": {},
   "outputs": [],
   "source": [
    "# Чтение первых N строк\n",
    "df_nrows = pd.read_csv('students.csv', nrows=5)\n",
    "print(\"=== Первые 5 строк ===\")\n",
    "print(df_nrows)"
   ]
  },
  {
   "cell_type": "code",
   "execution_count": null,
   "id": "62f06ba9",
   "metadata": {},
   "outputs": [],
   "source": [
    "# Пропуск строк\n",
    "df_skip = pd.read_csv('students.csv', skiprows=[1, 2])\n",
    "print(\"=== С пропуском строк 1 и 2 ===\")\n",
    "print(df_skip.head())"
   ]
  },
  {
   "cell_type": "code",
   "execution_count": null,
   "id": "6221103b",
   "metadata": {},
   "outputs": [],
   "source": [
    "# Чтение с обработкой пропусков\n",
    "# Сначала создадим файл с пропусками\n",
    "df_with_nan = df_test.copy()\n",
    "df_with_nan.loc[2, 'gpa'] = np.nan\n",
    "df_with_nan.loc[5, 'age'] = np.nan\n",
    "df_with_nan.to_csv('students_nan.csv', index=False)\n",
    "\n",
    "df_nan = pd.read_csv('students_nan.csv', na_values=['N/A', 'NULL'])\n",
    "print(\"=== Файл с пропусками ===\")\n",
    "print(df_nan)"
   ]
  },
  {
   "cell_type": "markdown",
   "id": "32262cae",
   "metadata": {},
   "source": [
    "### 3.3 Чтение других форматов"
   ]
  },
  {
   "cell_type": "code",
   "execution_count": null,
   "id": "17f817e5",
   "metadata": {},
   "outputs": [],
   "source": [
    "# Excel файлы\n",
    "df_test.to_excel('students.xlsx', index=False, sheet_name='Students')\n",
    "print(\"Создан файл: students.xlsx\")\n",
    "\n",
    "df_excel = pd.read_excel('students.xlsx', sheet_name='Students')\n",
    "print(\"=== Чтение из Excel ===\")\n",
    "print(df_excel.head())"
   ]
  },
  {
   "cell_type": "markdown",
   "id": "eb2c7bb9",
   "metadata": {},
   "source": [
    "### 3.4 Сохранение данных в CSV"
   ]
  },
  {
   "cell_type": "code",
   "execution_count": null,
   "id": "88c5894c",
   "metadata": {},
   "outputs": [],
   "source": [
    "print(\"=== СОХРАНЕНИЕ В CSV ===\")\n",
    "\n",
    "# Создадим несколько DataFrame для демонстрации\n",
    "df_save = pd.DataFrame({\n",
    "    'date': pd.date_range('2024-01-01', periods=5),\n",
    "    'value': [10.5234, 20.3456, 15.7891, 25.1234, 30.9567],\n",
    "    'category': ['A', 'B', 'A', 'C', 'B'],\n",
    "    'count': [100, 250, 180, 320, 270]\n",
    "})\n",
    "\n",
    "print(\"Данные для сохранения:\")\n",
    "print(df_save)"
   ]
  },
  {
   "cell_type": "code",
   "execution_count": null,
   "id": "56a2b718",
   "metadata": {},
   "outputs": [],
   "source": [
    "# 1. Базовое сохранение (без индекса)\n",
    "df_save.to_csv('output_basic.csv', index=False)\n",
    "print(\"1. Базовое сохранение: output_basic.csv\")"
   ]
  },
  {
   "cell_type": "code",
   "execution_count": null,
   "id": "99e0e298",
   "metadata": {},
   "outputs": [],
   "source": [
    "# 2. Сохранение с индексом\n",
    "df_save.to_csv('output_with_index.csv', index=True)\n",
    "print(\"2. С индексом: output_with_index.csv\")"
   ]
  },
  {
   "cell_type": "code",
   "execution_count": null,
   "id": "e1c30b5f",
   "metadata": {},
   "outputs": [],
   "source": [
    "# 3. Другой разделитель (точка с запятой)\n",
    "df_save.to_csv('output_semicolon.csv', sep=';', index=False)\n",
    "print(\"3. Разделитель ';': output_semicolon.csv\")"
   ]
  },
  {
   "cell_type": "code",
   "execution_count": null,
   "id": "223de66e",
   "metadata": {},
   "outputs": [],
   "source": [
    "# 4. Форматирование чисел\n",
    "df_save.to_csv('output_formatted.csv', \n",
    "               index=False, \n",
    "               float_format='%.2f')  # 2 знака после запятой\n",
    "print(\"4. Форматированные числа (2 знака): output_formatted.csv\")"
   ]
  },
  {
   "cell_type": "code",
   "execution_count": null,
   "id": "c0f2d0f4",
   "metadata": {},
   "outputs": [],
   "source": [
    "# 5. Форматирование дат\n",
    "df_save.to_csv('output_dates.csv',\n",
    "               index=False,\n",
    "               date_format='%d.%m.%Y')  # формат: дд.мм.гггг\n",
    "print(\"5. Форматированные даты: output_dates.csv\")"
   ]
  },
  {
   "cell_type": "code",
   "execution_count": null,
   "id": "4593629a",
   "metadata": {},
   "outputs": [],
   "source": [
    "# 6. Полный контроль форматирования\n",
    "df_save.to_csv('output_custom.csv',\n",
    "               index=False,\n",
    "               sep=';',\n",
    "               decimal=',',  # десятичный разделитель - запятая\n",
    "               encoding='utf-8-sig',  # UTF-8 с BOM (для Excel)\n",
    "               float_format='%.2f',\n",
    "               date_format='%Y-%m-%d')\n",
    "print(\"6. Полностью настроенный: output_custom.csv\")"
   ]
  },
  {
   "cell_type": "code",
   "execution_count": null,
   "id": "18293823",
   "metadata": {},
   "outputs": [],
   "source": [
    "# 7. Сохранение без заголовков\n",
    "df_save.to_csv('output_no_header.csv', \n",
    "               header=False, \n",
    "               index=False)\n",
    "print(\"7. Без заголовков: output_no_header.csv\")"
   ]
  },
  {
   "cell_type": "code",
   "execution_count": null,
   "id": "1e621c4b",
   "metadata": {},
   "outputs": [],
   "source": [
    "# 8. Сохранение только определённых столбцов\n",
    "df_save.to_csv('output_selected_columns.csv',\n",
    "               columns=['date', 'value'],  # только эти столбцы\n",
    "               index=False)\n",
    "print(\"8. Выбранные столбцы: output_selected_columns.csv\")"
   ]
  },
  {
   "cell_type": "markdown",
   "id": "0ab6fb02",
   "metadata": {},
   "source": [
    "### 3.5 Сохранение данных в Excel"
   ]
  },
  {
   "cell_type": "code",
   "execution_count": null,
   "id": "3d56ad8f",
   "metadata": {},
   "outputs": [],
   "source": [
    "# Создадим несколько DataFrame для работы\n",
    "df_students = pd.DataFrame({\n",
    "    'Имя': ['Алиса', 'Боб', 'Вера', 'Григорий', 'Дарья'],\n",
    "    'Возраст': [20, 22, 19, 23, 21],\n",
    "    'Факультет': ['ИТ', 'Математика', 'ИТ', 'Физика', 'Математика'],\n",
    "    'Средний балл': [4.5, 3.8, 4.9, 3.5, 4.2]\n",
    "})\n",
    "\n",
    "df_grades = pd.DataFrame({\n",
    "    'Предмет': ['Математика', 'Физика', 'Программирование', 'Английский'],\n",
    "    'Средний балл': [4.2, 3.9, 4.5, 4.0],\n",
    "    'Студентов': [100, 85, 95, 110]\n",
    "})\n",
    "\n",
    "df_summary = pd.DataFrame({\n",
    "    'Показатель': ['Всего студентов', 'Средний возраст', 'Средний балл'],\n",
    "    'Значение': [5, 21.0, 4.18]\n",
    "})"
   ]
  },
  {
   "cell_type": "code",
   "execution_count": null,
   "id": "64208da0",
   "metadata": {},
   "outputs": [],
   "source": [
    "# 1. Простое сохранение в Excel\n",
    "df_students.to_excel('excel_basic.xlsx', \n",
    "                     index=False,\n",
    "                     sheet_name='Студенты')\n",
    "print(\"1. Базовое сохранение: excel_basic.xlsx\")"
   ]
  },
  {
   "cell_type": "code",
   "execution_count": null,
   "id": "3cad0cd8",
   "metadata": {},
   "outputs": [],
   "source": [
    "# 2. Сохранение с индексом и форматированием\n",
    "df_students.to_excel('excel_with_index.xlsx',\n",
    "                     index=True,\n",
    "                     sheet_name='Студенты',\n",
    "                     float_format='%.2f')\n",
    "print(\"2. С индексом: excel_with_index.xlsx\")"
   ]
  },
  {
   "cell_type": "code",
   "execution_count": null,
   "id": "3e348527",
   "metadata": {},
   "outputs": [],
   "source": [
    "# 3. СОХРАНЕНИЕ НА РАЗНЫЕ ЛИСТЫ - основной способ\n",
    "\n",
    "# Способ 1: Использование ExcelWriter\n",
    "with pd.ExcelWriter('excel_multiple_sheets.xlsx', \n",
    "                    engine='openpyxl') as writer:\n",
    "    df_students.to_excel(writer, sheet_name='Студенты', index=False)\n",
    "    df_grades.to_excel(writer, sheet_name='Оценки', index=False)\n",
    "    df_summary.to_excel(writer, sheet_name='Сводка', index=False)\n",
    "\n",
    "print(\"   Создан файл с 3 листами: excel_multiple_sheets.xlsx\")\n",
    "print(\"   Листы: 'Студенты', 'Оценки', 'Сводка'\")"
   ]
  },
  {
   "cell_type": "code",
   "execution_count": null,
   "id": "5bdf788c",
   "metadata": {},
   "outputs": [],
   "source": [
    "# 4. Добавление листа к существующему файлу\n",
    "\n",
    "# Сначала создадим файл\n",
    "df_students.to_excel('excel_add_sheet.xlsx', \n",
    "                     sheet_name='Студенты', \n",
    "                     index=False)\n",
    "print(\"   Создан файл с листом 'Студенты'\")\n",
    "\n",
    "# Теперь добавим новый лист\n",
    "with pd.ExcelWriter('excel_add_sheet.xlsx',\n",
    "                    engine='openpyxl',\n",
    "                    mode='a') as writer:  # режим добавления!\n",
    "    df_grades.to_excel(writer, sheet_name='Оценки', index=False)\n",
    "\n",
    "print(\"   Добавлен лист 'Оценки' к существующему файлу\")\n"
   ]
  },
  {
   "cell_type": "markdown",
   "id": "e9240a44",
   "metadata": {},
   "source": [
    "## 4. Просмотр и базовая информация"
   ]
  },
  {
   "cell_type": "markdown",
   "id": "21b76d94",
   "metadata": {},
   "source": [
    "### 4.1 Быстрый просмотр данных"
   ]
  },
  {
   "cell_type": "code",
   "execution_count": null,
   "id": "ed970e43",
   "metadata": {},
   "outputs": [],
   "source": [
    "# Загрузим данные для демонстрации\n",
    "df = pd.read_csv('students.csv')"
   ]
  },
  {
   "cell_type": "code",
   "execution_count": null,
   "id": "18199d40",
   "metadata": {},
   "outputs": [],
   "source": [
    "# Первые n строк\n",
    "df.head(n=5)"
   ]
  },
  {
   "cell_type": "code",
   "execution_count": null,
   "id": "50687510",
   "metadata": {},
   "outputs": [],
   "source": [
    "# Последние n строк\n",
    "df.tail(n=5)"
   ]
  },
  {
   "cell_type": "code",
   "execution_count": null,
   "id": "533ac507",
   "metadata": {},
   "outputs": [],
   "source": [
    "# Случайная выборка объема n\n",
    "df.sample(n=5)"
   ]
  },
  {
   "cell_type": "code",
   "execution_count": null,
   "id": "0279fecb",
   "metadata": {},
   "outputs": [],
   "source": [
    "# Случайная выборка с фиксацией seed\n",
    "df.sample(frac=0.2, random_state=42)  # 20% случайных строк"
   ]
  },
  {
   "cell_type": "markdown",
   "id": "2e403d84",
   "metadata": {},
   "source": [
    "### 4.2 Информация о структуре данных"
   ]
  },
  {
   "cell_type": "code",
   "execution_count": null,
   "id": "3d7ad9b0",
   "metadata": {},
   "outputs": [],
   "source": [
    "# Базовая информация о DataFrame\n",
    "df.info()"
   ]
  },
  {
   "cell_type": "code",
   "execution_count": null,
   "id": "1e1843ba",
   "metadata": {},
   "outputs": [],
   "source": [
    "print(f\"Форма (shape): {df.shape}\")\n",
    "print(f\"Размер (size): {df.size}\")\n",
    "print(f\"Столбцы (columns): {df.columns.tolist()}\")\n",
    "print(f\"Индекс (index): {df.index}\")\n",
    "print(f\"Типы данных (dtypes): {df.dtypes}\")"
   ]
  },
  {
   "cell_type": "code",
   "execution_count": null,
   "id": "d81ed20d",
   "metadata": {},
   "outputs": [],
   "source": [
    "# Количество уникальных значений\n",
    "df.nunique()"
   ]
  },
  {
   "cell_type": "code",
   "execution_count": null,
   "id": "3ef5ece4",
   "metadata": {},
   "outputs": [],
   "source": [
    "# Уникальные значения для столбца\n",
    "print(\"Уникальные факультеты:\")\n",
    "print(df['faculty'].unique())\n",
    "print(f\"Количество: {df['faculty'].nunique()}\")"
   ]
  },
  {
   "cell_type": "code",
   "execution_count": null,
   "id": "45a5a2e7",
   "metadata": {},
   "outputs": [],
   "source": [
    "# Подсчёт значений\n",
    "print(\"Распределение по факультетам:\")\n",
    "print(df['faculty'].value_counts())\n",
    "\n",
    "print(\"Распределение по факультетам (с процентами):\")\n",
    "print(df['faculty'].value_counts(normalize=True))"
   ]
  },
  {
   "cell_type": "markdown",
   "id": "d042e0a8",
   "metadata": {},
   "source": [
    "### 4.3 Описательная статистика"
   ]
  },
  {
   "cell_type": "code",
   "execution_count": null,
   "id": "d62e76d6",
   "metadata": {},
   "outputs": [],
   "source": [
    "# Базовая статистика для всех числовых столбцов\n",
    "df.describe()"
   ]
  },
  {
   "cell_type": "code",
   "execution_count": null,
   "id": "a09d15ce",
   "metadata": {},
   "outputs": [],
   "source": [
    "# Включение всех столбцов\n",
    "df.describe(include='all')"
   ]
  },
  {
   "cell_type": "code",
   "execution_count": null,
   "id": "dd38fd47",
   "metadata": {},
   "outputs": [],
   "source": [
    "# Только для категориальных столбцов\n",
    "df.describe(include=['object'])"
   ]
  },
  {
   "cell_type": "markdown",
   "id": "76b1da2e",
   "metadata": {},
   "source": [
    "#### 4.3.2 Расширенная описательная статистика"
   ]
  },
  {
   "cell_type": "code",
   "execution_count": null,
   "id": "e2f20766",
   "metadata": {},
   "outputs": [],
   "source": [
    "# Создание генератора с seed для воспроизводимости\n",
    "rng = np.random.default_rng(42)\n",
    "\n",
    "# Создадим более богатый датасет для демонстрации\n",
    "rich_data = pd.DataFrame({\n",
    "    'values': rng.normal(100, 15, 1000),\n",
    "    'category': rng.choice(['A', 'B', 'C'], 1000),\n",
    "    'scores': rng.uniform(0, 100, 1000)\n",
    "})\n",
    "\n",
    "rich_data.head()"
   ]
  },
  {
   "cell_type": "code",
   "execution_count": null,
   "id": "f713f000",
   "metadata": {},
   "outputs": [],
   "source": [
    "print(\"Основные статистические показатели:\")\n",
    "stats_dict = {\n",
    "    'Среднее': rich_data['values'].mean(),\n",
    "    'Медиана': rich_data['values'].median(),\n",
    "    'Мода': rich_data['values'].mode()[0] if len(rich_data['values'].mode()) > 0 else None,\n",
    "    'Стандартное отклонение': rich_data['values'].std(),\n",
    "    'Дисперсия': rich_data['values'].var(),\n",
    "    'Минимум': rich_data['values'].min(),\n",
    "    'Максимум': rich_data['values'].max(),\n",
    "    'Размах': rich_data['values'].max() - rich_data['values'].min(),\n",
    "    'Квартиль 25%': rich_data['values'].quantile(0.25),\n",
    "    'Квартиль 75%': rich_data['values'].quantile(0.75),\n",
    "    'IQR': rich_data['values'].quantile(0.75) - rich_data['values'].quantile(0.25),\n",
    "    'Асимметрия (skewness)': rich_data['values'].skew(),\n",
    "    'Эксцесс (kurtosis)': rich_data['values'].kurtosis()\n",
    "}\n",
    "\n",
    "for stat, value in stats_dict.items():\n",
    "    print(f\"{stat:25}: {value:.4f}\")"
   ]
  },
  {
   "cell_type": "code",
   "execution_count": null,
   "id": "595948c7",
   "metadata": {},
   "outputs": [],
   "source": [
    "# Квантили\n",
    "print(\"Квантили:\")\n",
    "quantiles = [0.1, 0.25, 0.5, 0.75, 0.9, 0.95, 0.99]\n",
    "print(rich_data['values'].quantile(quantiles))"
   ]
  },
  {
   "cell_type": "code",
   "execution_count": null,
   "id": "9542c744",
   "metadata": {},
   "outputs": [],
   "source": [
    "# Статистика по группам\n",
    "print(\"Статистика по категориям:\")\n",
    "print(rich_data.groupby('category')['values'].describe())"
   ]
  },
  {
   "cell_type": "code",
   "execution_count": null,
   "id": "9400a7b7",
   "metadata": {},
   "outputs": [],
   "source": [
    "# Ковариация\n",
    "print(\"Ковариация:\")\n",
    "print(rich_data[['values', 'scores']].cov())"
   ]
  },
  {
   "cell_type": "code",
   "execution_count": null,
   "id": "d2796565",
   "metadata": {},
   "outputs": [],
   "source": [
    "# Корреляция между числовыми столбцами\n",
    "print(\"Корреляция:\")\n",
    "print(rich_data[['values', 'scores']].corr())"
   ]
  },
  {
   "cell_type": "code",
   "execution_count": null,
   "id": "e7e887b7",
   "metadata": {},
   "outputs": [],
   "source": [
    "# Подсчёт пропущенных значений (создадим данные с пропусками)\n",
    "data_with_nan = rich_data.copy()\n",
    "data_with_nan.loc[data_with_nan.sample(frac=0.1).index, 'values'] = np.nan\n",
    "data_with_nan.loc[data_with_nan.sample(frac=0.05).index, 'scores'] = np.nan\n",
    "\n",
    "print(\"Пропущенные значения:\")\n",
    "print(data_with_nan.isnull().sum())\n",
    "print(f\"Общее количество пропусков: {data_with_nan.isnull().sum().sum()}\")\n",
    "print(f\"Процент пропусков: {data_with_nan.isnull().sum().sum() / data_with_nan.size * 100:.2f}%\")\n"
   ]
  },
  {
   "cell_type": "markdown",
   "id": "8001dc9a",
   "metadata": {},
   "source": [
    "## 5. Индексация и выбор данных"
   ]
  },
  {
   "cell_type": "markdown",
   "id": "13eb7b43",
   "metadata": {},
   "source": [
    "### 5.1 Выбор столбцов"
   ]
  },
  {
   "cell_type": "code",
   "execution_count": null,
   "id": "47c896d8",
   "metadata": {},
   "outputs": [],
   "source": [
    "df = pd.read_csv('students.csv')\n",
    "\n",
    "# Один столбец (возвращает Series)\n",
    "names = df['name']\n",
    "print(f\"Один столбец (Series):\\n{names.head()}\")\n",
    "print(f\"Тип: {type(names)}\")"
   ]
  },
  {
   "cell_type": "code",
   "execution_count": null,
   "id": "215250a5",
   "metadata": {},
   "outputs": [],
   "source": [
    "# Один столбец (возвращает DataFrame)\n",
    "names_df = df[['name']]\n",
    "print(f\"Один столбец (DataFrame):\\n{names_df.head()}\")\n",
    "print(f\"Тип: {type(names_df)}\")"
   ]
  },
  {
   "cell_type": "code",
   "execution_count": null,
   "id": "09a1ed75",
   "metadata": {},
   "outputs": [],
   "source": [
    "# Несколько столбцов\n",
    "subset = df[['name', 'faculty', 'gpa']]\n",
    "print(f\"Несколько столбцов:\\n{subset.head()}\")"
   ]
  },
  {
   "cell_type": "markdown",
   "id": "b24d5cd5",
   "metadata": {},
   "source": [
    "### 5.2 Выбор строк - Индексация: loc vs iloc - ключевые различия"
   ]
  },
  {
   "cell_type": "code",
   "execution_count": null,
   "id": "cd55f26f",
   "metadata": {},
   "outputs": [],
   "source": [
    "# Создадим DataFrame с неупорядоченным индексом для демонстрации\n",
    "df_demo = pd.DataFrame(\n",
    "    {'name': ['Алиса', 'Боб', 'Вера'],\n",
    "     'age': [25, 30, 22]},\n",
    "    index=[10, 20, 30]  # Индексы: 10, 20, 30\n",
    ")\n",
    "\n",
    "print(\"DataFrame с индексами [10, 20, 30]:\")\n",
    "print(df_demo)"
   ]
  },
  {
   "cell_type": "code",
   "execution_count": null,
   "id": "d2c139ca",
   "metadata": {},
   "outputs": [],
   "source": [
    "print(\"--- LOC: работает с МЕТКАМИ ---\")\n",
    "print(\"df_demo.loc[10] - обращение по метке индекса 10:\")\n",
    "print(df_demo.loc[10])"
   ]
  },
  {
   "cell_type": "code",
   "execution_count": null,
   "id": "5c82b130",
   "metadata": {},
   "outputs": [],
   "source": [
    "print(\"df_demo.loc[10:20] - срез ПО МЕТКАМ (включая конец!):\")\n",
    "print(df_demo.loc[10:20])"
   ]
  },
  {
   "cell_type": "code",
   "execution_count": null,
   "id": "3c14c819",
   "metadata": {},
   "outputs": [],
   "source": [
    "print(\"--- ILOC: работает с ПОЗИЦИЯМИ ---\")\n",
    "print(\"df_demo.iloc[0] - обращение по позиции 0 (первая строка):\")\n",
    "print(df_demo.iloc[0])"
   ]
  },
  {
   "cell_type": "code",
   "execution_count": null,
   "id": "5f74e19a",
   "metadata": {},
   "outputs": [],
   "source": [
    "print(\"df_demo.iloc[0:2] - срез ПО ПОЗИЦИЯМ (не включая конец!):\")\n",
    "print(df_demo.iloc[0:2])"
   ]
  },
  {
   "cell_type": "markdown",
   "id": "c8100095",
   "metadata": {},
   "source": [
    "⚠️ ВАЖНО\n",
    "- loc использует МЕТКИ индекса\n",
    "- iloc использует ПОЗИЦИИ (0, 1, 2, ...)\n",
    "- loc включает конец среза, iloc - НЕ включает\n",
    "- В большинстве случаев рекомендуется использовать loc"
   ]
  },
  {
   "cell_type": "markdown",
   "id": "abaf5b19",
   "metadata": {},
   "source": [
    "### 5.3 Индексация по меткам (loc) - основной инструмент\n",
    "\n",
    "`loc` используется для доступа по меткам индекса и названиям столбцов\n",
    "\n",
    "Синтаксис: `df.loc[rows, columns]`"
   ]
  },
  {
   "cell_type": "code",
   "execution_count": null,
   "id": "96d1ffdf",
   "metadata": {},
   "outputs": [],
   "source": [
    "# Вернёмся к нашему датасету студентов\n",
    "df = pd.read_csv('data/students.csv')"
   ]
  },
  {
   "cell_type": "code",
   "execution_count": null,
   "id": "bf29ab5f",
   "metadata": {},
   "outputs": [],
   "source": [
    "# Одна строка по индексу (по умолчанию индексы: 0, 1, 2, ...)\n",
    "print(\"Строка с индексом 0:\")\n",
    "print(df.loc[0])"
   ]
  },
  {
   "cell_type": "code",
   "execution_count": null,
   "id": "ca02cf2a",
   "metadata": {},
   "outputs": [],
   "source": [
    "# Несколько строк\n",
    "print(\"Строки 0-2:\")\n",
    "print(df.loc[0:2])  # включая 2!"
   ]
  },
  {
   "cell_type": "code",
   "execution_count": null,
   "id": "5458a0b4",
   "metadata": {},
   "outputs": [],
   "source": [
    "# Строки с определёнными индексами\n",
    "print(\"Строки с индексами 0, 3, 5:\")\n",
    "print(df.loc[[0, 3, 5]])"
   ]
  },
  {
   "cell_type": "code",
   "execution_count": null,
   "id": "4f424017",
   "metadata": {},
   "outputs": [],
   "source": [
    "# Одна ячейка\n",
    "print(f\"Значение (row=0, col='name'): {df.loc[0, 'name']}\")"
   ]
  },
  {
   "cell_type": "code",
   "execution_count": null,
   "id": "e02f0ab0",
   "metadata": {},
   "outputs": [],
   "source": [
    "# Строки и столбцы\n",
    "print(\"Строки 0-2, столбцы name и gpa:\")\n",
    "print(df.loc[0:2, ['name', 'gpa']])"
   ]
  },
  {
   "cell_type": "code",
   "execution_count": null,
   "id": "000ba691",
   "metadata": {},
   "outputs": [],
   "source": [
    "# Все строки, определённые столбцы\n",
    "print(\"Все строки, столбцы name и age:\")\n",
    "print(df.loc[:, ['name', 'age']].head())"
   ]
  },
  {
   "cell_type": "code",
   "execution_count": null,
   "id": "db6fb0ae",
   "metadata": {},
   "outputs": [],
   "source": [
    "# Срезы столбцов (работают по меткам!)\n",
    "print(\"Срез столбцов от name до age:\")\n",
    "print(df.loc[:, 'name':'age'].head())"
   ]
  },
  {
   "cell_type": "markdown",
   "id": "91b01330",
   "metadata": {},
   "source": [
    "### 5.4 Логическая индексация (булевы маски)"
   ]
  },
  {
   "cell_type": "code",
   "execution_count": null,
   "id": "2754d8f3",
   "metadata": {},
   "outputs": [],
   "source": [
    "df = pd.read_csv('students.csv')\n",
    "\n",
    "# Создание булевой маски\n",
    "age_mask = df['age'] > 21\n",
    "print(f\"Маска (возраст > 21):\\n{age_mask}\")\n",
    "\n",
    "# Применение маски с loc\n",
    "older_students = df.loc[age_mask]\n",
    "print(f\"\\nСтуденты старше 21 (через loc):\\n{older_students}\")"
   ]
  },
  {
   "cell_type": "code",
   "execution_count": null,
   "id": "e72d0eb4",
   "metadata": {},
   "outputs": [],
   "source": [
    "# Можно делать в одну строку\n",
    "print(\"Студенты моложе 21:\")\n",
    "print(df.loc[df['age'] < 21])"
   ]
  },
  {
   "cell_type": "markdown",
   "id": "a49a18e2",
   "metadata": {},
   "source": [
    "__Множественные условия (используем & для AND, | для OR)__\n",
    "\n",
    "__ВАЖНО: каждое условие должно быть в скобках!__"
   ]
  },
  {
   "cell_type": "code",
   "execution_count": null,
   "id": "3ee56d31",
   "metadata": {},
   "outputs": [],
   "source": [
    "print(\"Студенты ИТ факультета старше 19:\")\n",
    "print(df.loc[(df['faculty'] == 'ИТ') & (df['age'] > 19)])"
   ]
  },
  {
   "cell_type": "code",
   "execution_count": null,
   "id": "8ef82b8e",
   "metadata": {},
   "outputs": [],
   "source": [
    "print(\"Студенты с GPA > 3.8 ИЛИ возрастом < 20:\")\n",
    "print(df.loc[(df['gpa'] > 3.8) | (df['age'] < 20)])"
   ]
  },
  {
   "cell_type": "code",
   "execution_count": null,
   "id": "b7301c70",
   "metadata": {},
   "outputs": [],
   "source": [
    "# Отрицание условия\n",
    "print(\"Студенты НЕ с ИТ факультета:\")\n",
    "print(df.loc[~(df['faculty'] == 'ИТ')])"
   ]
  },
  {
   "cell_type": "code",
   "execution_count": null,
   "id": "4d6510b7",
   "metadata": {},
   "outputs": [],
   "source": [
    "# Проверка вхождения в список\n",
    "it_math = df.loc[df['faculty'].isin(['ИТ', 'Математика'])]\n",
    "print(\"\\nСтуденты ИТ или Математики:\")\n",
    "print(it_math)"
   ]
  },
  {
   "cell_type": "code",
   "execution_count": null,
   "id": "e6b3a022",
   "metadata": {},
   "outputs": [],
   "source": [
    "# between для диапазона\n",
    "print(\"Студенты с возрастом от 20 до 22:\")\n",
    "print(df.loc[df['age'].between(20, 22)])"
   ]
  },
  {
   "cell_type": "code",
   "execution_count": null,
   "id": "a5bbfedb",
   "metadata": {},
   "outputs": [],
   "source": [
    "# Проверка строк\n",
    "print(\"Имена, начинающиеся с 'А':\")\n",
    "print(df.loc[df['name'].str.startswith('А')])"
   ]
  },
  {
   "cell_type": "code",
   "execution_count": null,
   "id": "32aecb75",
   "metadata": {},
   "outputs": [],
   "source": [
    "print(\"Имена, содержащие 'е':\")\n",
    "print(df.loc[df['name'].str.contains('е')])"
   ]
  },
  {
   "cell_type": "code",
   "execution_count": null,
   "id": "84f51058",
   "metadata": {},
   "outputs": [],
   "source": [
    "# Комбинированная фильтрация с выбором столбцов\n",
    "print(\"ИТ студенты старше 19, только имя и GPA:\")\n",
    "print(df.loc[(df['faculty'] == 'ИТ') & (df['age'] > 19), ['name', 'gpa']])"
   ]
  }
 ],
 "metadata": {
  "kernelspec": {
   "display_name": "courses",
   "language": "python",
   "name": "python3"
  },
  "language_info": {
   "codemirror_mode": {
    "name": "ipython",
    "version": 3
   },
   "file_extension": ".py",
   "mimetype": "text/x-python",
   "name": "python",
   "nbconvert_exporter": "python",
   "pygments_lexer": "ipython3",
   "version": "3.13.9"
  }
 },
 "nbformat": 4,
 "nbformat_minor": 5
}
