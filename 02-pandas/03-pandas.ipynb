{
 "cells": [
  {
   "cell_type": "markdown",
   "id": "39c5c0d5",
   "metadata": {},
   "source": [
    "# Анализ качества вина"
   ]
  },
  {
   "cell_type": "markdown",
   "id": "1ac8c4ce",
   "metadata": {},
   "source": [
    "## Описание данных\n",
    "\n",
    "Датасет содержит результаты физико-химического анализа португальского вина сорта \"Vinho Verde\" (Зелёное вино) и экспертные оценки качества. Включает два отдельных файла для красного и белого вина.\n",
    "\n",
    "**Название**: Wine Quality Dataset  \n",
    "**Источник**: UCI Machine Learning Repository  \n",
    "**URL**: https://archive.ics.uci.edu/dataset/186/wine+quality  \n",
    "**Прямое скачивание**: https://archive.ics.uci.edu/static/public/186/wine+quality.zip  \n",
    "**Лицензия**: CC BY 4.0  \n",
    "**Авторы**: Paulo Cortez, António Cerdeira, Fernando Almeida, Telmo Matos, José Reis  \n",
    "**Год публикации**: 2009  \n",
    "**Статья**: \"Modeling wine preferences by data mining from physicochemical properties\"\n",
    "\n",
    "## Состав датасета\n",
    "\n",
    "### Файлы\n",
    "\n",
    "| Файл | Размер | Описание |\n",
    "|------|--------|----------|\n",
    "| **winequality-red.csv** | 1,599 записей | Красное вино \"Vinho Verde\" |\n",
    "| **winequality-white.csv** | 4,898 записей | Белое вино \"Vinho Verde\" |\n",
    "| **Всего** | 6,497 записей | Объединенный датасет |\n",
    "\n",
    "**Формат**: CSV с разделителем \"точка с запятой\" (;)\n",
    "\n",
    "## Структура данных\n",
    "\n",
    "### Входные переменные (физико-химические параметры)\n",
    "\n",
    "| № | Столбец | Единицы измерения | Описание |\n",
    "|---|---------|-------------------|----------|\n",
    "| 1 | **fixed acidity** | г/дм³ | Фиксированная кислотность (винная кислота) |\n",
    "| 2 | **volatile acidity** | г/дм³ | Летучая кислотность (уксусная кислота) |\n",
    "| 3 | **citric acid** | г/дм³ | Лимонная кислота |\n",
    "| 4 | **residual sugar** | г/дм³ | Остаточный сахар после ферментации |\n",
    "| 5 | **chlorides** | г/дм³ | Содержание хлоридов (соли) |\n",
    "| 6 | **free sulfur dioxide** | мг/дм³ | Свободный диоксид серы (SO₂) |\n",
    "| 7 | **total sulfur dioxide** | мг/дм³ | Общий диоксид серы |\n",
    "| 8 | **density** | г/см³ | Плотность вина |\n",
    "| 9 | **pH** | — | Уровень кислотности (0-14 шкала) |\n",
    "| 10 | **sulphates** | г/дм³ | Сульфаты (добавка, консервант) |\n",
    "| 11 | **alcohol** | % vol | Содержание алкоголя |\n",
    "\n",
    "### Выходная переменная\n",
    "\n",
    "| Столбец | Тип | Диапазон | Описание |\n",
    "|---------|-----|----------|----------|\n",
    "| **quality** | int | 0-10 | Экспертная оценка качества (медиана минимум 3 оценок) |"
   ]
  },
  {
   "cell_type": "markdown",
   "id": "c740541e",
   "metadata": {},
   "source": [
    "## ИМПОРТ БИБЛИОТЕК"
   ]
  },
  {
   "cell_type": "code",
   "execution_count": null,
   "id": "5b4df5a2",
   "metadata": {},
   "outputs": [],
   "source": [
    "import pandas as pd\n",
    "import numpy as np"
   ]
  },
  {
   "cell_type": "markdown",
   "id": "eef3fdd6",
   "metadata": {},
   "source": [
    "## ЗАГРУЗКА И ПЕРВИЧНЫЙ АНАЛИЗ"
   ]
  },
  {
   "cell_type": "code",
   "execution_count": null,
   "id": "1cb0d642",
   "metadata": {},
   "outputs": [],
   "source": [
    "# 1. Загрузка датасета красного вина\n",
    "url_red = 'https://archive.ics.uci.edu/ml/machine-learning-databases/wine-quality/winequality-red.csv'\n",
    "df_red = pd.read_csv(url_red, sep=';')"
   ]
  },
  {
   "cell_type": "code",
   "execution_count": null,
   "id": "a666aa14",
   "metadata": {},
   "outputs": [],
   "source": [
    "# 2. Первые 10 строк\n",
    "df_red.head(10)"
   ]
  },
  {
   "cell_type": "code",
   "execution_count": null,
   "id": "43a56af3",
   "metadata": {},
   "outputs": [],
   "source": [
    "# 3. Информация о структуре данных\n",
    "df_red.info()"
   ]
  },
  {
   "cell_type": "code",
   "execution_count": null,
   "id": "39bcefdc",
   "metadata": {},
   "outputs": [],
   "source": [
    "# 4. Описательная статистика\n",
    "df_red.describe()"
   ]
  },
  {
   "cell_type": "code",
   "execution_count": null,
   "id": "f4b6d2d1",
   "metadata": {},
   "outputs": [],
   "source": [
    "# 5. Список всех колонок\n",
    "df_red.columns.tolist()"
   ]
  },
  {
   "cell_type": "code",
   "execution_count": null,
   "id": "c5d51fd7",
   "metadata": {},
   "outputs": [],
   "source": [
    "# 6. Размер датасета\n",
    "print(f\"Строк: {df_red.shape[0]}, Столбцов: {df_red.shape[1]}\")"
   ]
  },
  {
   "cell_type": "markdown",
   "id": "93cee160",
   "metadata": {},
   "source": [
    "## ОБРАБОТКА ПРОПУСКОВ И ДУБЛИКАТОВ"
   ]
  },
  {
   "cell_type": "code",
   "execution_count": null,
   "id": "4973d534",
   "metadata": {},
   "outputs": [],
   "source": [
    "# 7. Количество пропущенных значений\n",
    "df_red.isnull().sum()"
   ]
  },
  {
   "cell_type": "code",
   "execution_count": null,
   "id": "19202d45",
   "metadata": {},
   "outputs": [],
   "source": [
    "# 8. Процент пропущенных значений\n",
    "(df_red.isnull().sum() / len(df_red) * 100).round(2)"
   ]
  },
  {
   "cell_type": "code",
   "execution_count": null,
   "id": "6a9c4b8a",
   "metadata": {},
   "outputs": [],
   "source": [
    "# 9. Проверка полных дубликатов\n",
    "full_duplicates = df_red.duplicated().sum()\n",
    "print(f\"Количество полных дубликатов: {full_duplicates}\")"
   ]
  },
  {
   "cell_type": "code",
   "execution_count": null,
   "id": "0dc469a9",
   "metadata": {},
   "outputs": [],
   "source": [
    "# 10. Дубликаты по всем столбцам кроме quality\n",
    "cols_without_quality = [col for col in df_red.columns if col != 'quality']\n",
    "partial_duplicates = df_red.duplicated(subset=cols_without_quality).sum()\n",
    "print(f\"Дубликаты без учета quality: {partial_duplicates}\")"
   ]
  },
  {
   "cell_type": "code",
   "execution_count": null,
   "id": "ed5da046",
   "metadata": {},
   "outputs": [],
   "source": [
    "# 11. Удаление дубликатов\n",
    "df_red = df_red.drop_duplicates()\n",
    "print(f\"\\nРазмер после удаления дубликатов: {df_red.shape}\")"
   ]
  },
  {
   "cell_type": "code",
   "execution_count": null,
   "id": "f3fadf3d",
   "metadata": {},
   "outputs": [],
   "source": [
    "# 12. Распределение оценок quality\n",
    "df_red['quality'].value_counts().sort_index()"
   ]
  },
  {
   "cell_type": "markdown",
   "id": "559644d7",
   "metadata": {},
   "source": [
    "## ПРЕОБРАЗОВАНИЕ ТИПОВ ДАННЫХ"
   ]
  },
  {
   "cell_type": "code",
   "execution_count": null,
   "id": "5d5d4a96",
   "metadata": {},
   "outputs": [],
   "source": [
    "# 13. Убедимся, что химические параметры имеют тип float\n",
    "chemical_cols = [col for col in df_red.columns if col != 'quality']\n",
    "for col in chemical_cols:\n",
    "    df_red[col] = df_red[col].astype(float)"
   ]
  },
  {
   "cell_type": "code",
   "execution_count": null,
   "id": "722ad799",
   "metadata": {},
   "outputs": [],
   "source": [
    "# 14. quality в int\n",
    "df_red['quality'] = df_red['quality'].astype(int)"
   ]
  },
  {
   "cell_type": "code",
   "execution_count": null,
   "id": "bc86d1d0",
   "metadata": {},
   "outputs": [],
   "source": [
    "# 15. Создание копии датасета\n",
    "df = df_red.copy()"
   ]
  },
  {
   "cell_type": "code",
   "execution_count": null,
   "id": "0e8d95bc",
   "metadata": {},
   "outputs": [],
   "source": [
    "# Проверка типов данных\n",
    "df.dtypes"
   ]
  },
  {
   "cell_type": "markdown",
   "id": "90aefcaa",
   "metadata": {},
   "source": [
    "## СОЗДАНИЕ НОВЫХ ПРИЗНАКОВ"
   ]
  },
  {
   "cell_type": "code",
   "execution_count": null,
   "id": "3a2c6f13",
   "metadata": {},
   "outputs": [],
   "source": [
    "# 16. quality_category\n",
    "def categorize_quality(quality):\n",
    "    if quality <= 4:\n",
    "        return 'Poor'\n",
    "    elif quality <= 6:\n",
    "        return 'Average'\n",
    "    elif quality <= 8:\n",
    "        return 'Good'\n",
    "    else:\n",
    "        return 'Excellent'\n",
    "\n",
    "df['quality_category'] = df['quality'].apply(categorize_quality)"
   ]
  },
  {
   "cell_type": "code",
   "execution_count": null,
   "id": "e1f83ff4",
   "metadata": {},
   "outputs": [],
   "source": [
    "# 17. alcohol_level\n",
    "def categorize_alcohol(alcohol):\n",
    "    if alcohol < 10:\n",
    "        return 'Low'\n",
    "    elif alcohol <= 12:\n",
    "        return 'Medium'\n",
    "    else:\n",
    "        return 'High'\n",
    "\n",
    "df['alcohol_level'] = df['alcohol'].apply(categorize_alcohol)"
   ]
  },
  {
   "cell_type": "code",
   "execution_count": null,
   "id": "a9064684",
   "metadata": {},
   "outputs": [],
   "source": [
    "# 18. total_acidity\n",
    "df['total_acidity'] = df['fixed acidity'] + df['volatile acidity'] + df['citric acid']"
   ]
  },
  {
   "cell_type": "code",
   "execution_count": null,
   "id": "598c6cbe",
   "metadata": {},
   "outputs": [],
   "source": [
    "# 19. sulfur_ratio\n",
    "df['sulfur_ratio'] = df['free sulfur dioxide'] / df['total sulfur dioxide']"
   ]
  },
  {
   "cell_type": "code",
   "execution_count": null,
   "id": "91de24c4",
   "metadata": {},
   "outputs": [],
   "source": [
    "# 20. sweetness_category\n",
    "def categorize_sweetness(sugar):\n",
    "    if sugar < 4:\n",
    "        return 'Dry'\n",
    "    elif sugar <= 12:\n",
    "        return 'Off-Dry'\n",
    "    else:\n",
    "        return 'Sweet'\n",
    "\n",
    "df['sweetness_category'] = df['residual sugar'].apply(categorize_sweetness)"
   ]
  },
  {
   "cell_type": "code",
   "execution_count": null,
   "id": "8dbf013e",
   "metadata": {},
   "outputs": [],
   "source": [
    "# 21. acidity_level\n",
    "def categorize_ph(ph):\n",
    "    if ph < 3.0:\n",
    "        return 'Low_pH'\n",
    "    elif ph <= 3.4:\n",
    "        return 'Medium_pH'\n",
    "    else:\n",
    "        return 'High_pH'\n",
    "\n",
    "df['acidity_level'] = df['pH'].apply(categorize_ph)"
   ]
  },
  {
   "cell_type": "code",
   "execution_count": null,
   "id": "e5429b57",
   "metadata": {},
   "outputs": [],
   "source": [
    "# 22. chlorides_category (на основе квартилей)\n",
    "q25 = df['chlorides'].quantile(0.25)\n",
    "q75 = df['chlorides'].quantile(0.75)\n",
    "\n",
    "def categorize_chlorides(value):\n",
    "    if value <= q25:\n",
    "        return 'Low'\n",
    "    elif value <= q75:\n",
    "        return 'Medium'\n",
    "    else:\n",
    "        return 'High'\n",
    "\n",
    "df['chlorides_category'] = df['chlorides'].apply(categorize_chlorides)"
   ]
  },
  {
   "cell_type": "code",
   "execution_count": null,
   "id": "2b428250",
   "metadata": {},
   "outputs": [],
   "source": [
    "# 23. is_high_quality\n",
    "df['is_high_quality'] = df['quality'] >= 7"
   ]
  },
  {
   "cell_type": "code",
   "execution_count": null,
   "id": "ee1242d4",
   "metadata": {},
   "outputs": [],
   "source": [
    "# 24. balance_score (нормализация и комбинация параметров)\n",
    "from sklearn.preprocessing import MinMaxScaler\n",
    "\n",
    "scaler = MinMaxScaler()\n",
    "balance_features = ['alcohol', 'pH', 'total_acidity', 'residual sugar']\n",
    "normalized = scaler.fit_transform(df[balance_features])\n",
    "df['balance_score'] = normalized.mean(axis=1)"
   ]
  },
  {
   "cell_type": "code",
   "execution_count": null,
   "id": "21f5ec22",
   "metadata": {},
   "outputs": [],
   "source": [
    "# 25. Первые 10 строк с новыми столбцами\n",
    "df.head(10)"
   ]
  },
  {
   "cell_type": "markdown",
   "id": "de71ef7a",
   "metadata": {},
   "source": [
    "## ФИЛЬТРАЦИЯ И СОРТИРОВКА ДАННЫХ"
   ]
  },
  {
   "cell_type": "code",
   "execution_count": null,
   "id": "1ff3b652",
   "metadata": {},
   "outputs": [],
   "source": [
    "# 26-27. Вина высокого качества\n",
    "high_quality_wines = df[df['quality'] >= 7]\n",
    "print(f\"Количество: {len(high_quality_wines)}\")"
   ]
  },
  {
   "cell_type": "code",
   "execution_count": null,
   "id": "91139995",
   "metadata": {},
   "outputs": [],
   "source": [
    "# 28. Высокий алкоголь и низкая кислотность\n",
    "high_alc_low_acid = df[(df['alcohol'] > 12) & (df['pH'] > 3.4)]\n",
    "print(\"ВЫСОКИЙ АЛКОГОЛЬ И НИЗКАЯ КИСЛОТНОСТЬ\")\n",
    "print(f\"Количество: {len(high_alc_low_acid)}\")"
   ]
  },
  {
   "cell_type": "code",
   "execution_count": null,
   "id": "faf0c483",
   "metadata": {},
   "outputs": [],
   "source": [
    "# 29. Query\n",
    "premium_wines = df.query('alcohol > 12 and quality >= 7 and pH < 3.5')\n",
    "print(\"ПРЕМИУМ ВИНА (алкоголь > 12, качество >= 7, pH < 3.5)\")\n",
    "print(f\"Количество премиальных вин: {len(premium_wines)}\")"
   ]
  },
  {
   "cell_type": "code",
   "execution_count": null,
   "id": "57e03844",
   "metadata": {},
   "outputs": [],
   "source": [
    "# 30. Сортировка по качеству\n",
    "sorted_by_quality = df.sort_values('quality', ascending=False)\n",
    "sorted_by_quality.head(10)"
   ]
  },
  {
   "cell_type": "code",
   "execution_count": null,
   "id": "befaff14",
   "metadata": {},
   "outputs": [],
   "source": [
    "# 31. Сортировка по alcohol, затем quality\n",
    "sorted_multi = df.sort_values(['alcohol', 'quality'], ascending=[False, False])\n",
    "sorted_multi.head(10)"
   ]
  },
  {
   "cell_type": "code",
   "execution_count": null,
   "id": "5e1d092b",
   "metadata": {},
   "outputs": [],
   "source": [
    "# 32. Топ-50 по содержанию алкоголя\n",
    "top_50_alcohol = df.nlargest(50, 'alcohol')\n",
    "top_50_alcohol[['alcohol', 'quality', 'pH']].head(10)"
   ]
  },
  {
   "cell_type": "markdown",
   "id": "b622dce1",
   "metadata": {},
   "source": [
    "## ГРУППИРОВКА И АГРЕГАЦИЯ"
   ]
  },
  {
   "cell_type": "code",
   "execution_count": null,
   "id": "a0e8a9c2",
   "metadata": {},
   "outputs": [],
   "source": [
    "# 33. Количество вин по quality\n",
    "wines_by_quality = df.groupby('quality').size()\n",
    "wines_by_quality"
   ]
  },
  {
   "cell_type": "code",
   "execution_count": null,
   "id": "29533d0f",
   "metadata": {},
   "outputs": [],
   "source": [
    "# 34. Средние значения химических параметров по качеству\n",
    "chemical_cols_only = ['fixed acidity', 'volatile acidity', 'citric acid', \n",
    "                      'residual sugar', 'chlorides', 'free sulfur dioxide', \n",
    "                      'total sulfur dioxide', 'density', 'pH', 'sulphates', 'alcohol']\n",
    "avg_by_quality = df.groupby('quality')[chemical_cols_only].mean()\n",
    "avg_by_quality.round(2)"
   ]
  },
  {
   "cell_type": "code",
   "execution_count": null,
   "id": "614ca0f3",
   "metadata": {},
   "outputs": [],
   "source": [
    "# 35. Оценка с наибольшим количеством образцов\n",
    "most_common_quality = wines_by_quality.idxmax()\n",
    "print(f\"Наиболее распространенная оценка качества: {most_common_quality}, Количество: {wines_by_quality[most_common_quality]}\")"
   ]
  },
  {
   "cell_type": "code",
   "execution_count": null,
   "id": "ccd06ad0",
   "metadata": {},
   "outputs": [],
   "source": [
    "# 36. Группировка по quality_category\n",
    "category_stats = df.groupby('quality_category').agg({\n",
    "    'quality': 'count',\n",
    "    'alcohol': ['mean', 'std'],\n",
    "    'pH': 'mean',\n",
    "    'total_acidity': 'mean'\n",
    "})\n",
    "category_stats.columns = ['Количество', 'Средний алкоголь', 'СКО алкоголя', \n",
    "                          'Средний pH', 'Средняя кислотность']\n",
    "\n",
    "category_stats.round(2)"
   ]
  },
  {
   "cell_type": "code",
   "execution_count": null,
   "id": "35b72992",
   "metadata": {},
   "outputs": [],
   "source": [
    "# 37. Агрегация по alcohol_level\n",
    "alcohol_level_agg = df.groupby('alcohol_level').agg({\n",
    "    'quality': ['mean', 'min', 'max', 'std'],\n",
    "    'fixed acidity': ['mean', 'std'],\n",
    "    'volatile acidity': ['mean', 'std'],\n",
    "    'pH': 'mean',\n",
    "    'sulphates': 'mean'\n",
    "})\n",
    "\n",
    "alcohol_level_agg.round(2)"
   ]
  },
  {
   "cell_type": "code",
   "execution_count": null,
   "id": "372a87ff",
   "metadata": {},
   "outputs": [],
   "source": [
    "# 38. Корреляция с качеством\n",
    "correlation_with_quality = df[chemical_cols_only].corrwith(df['quality']).sort_values(ascending=False)\n",
    "correlation_with_quality.round(3)"
   ]
  },
  {
   "cell_type": "markdown",
   "id": "9d0c7ed1",
   "metadata": {},
   "source": [
    "## СВОДНЫЕ ТАБЛИЦЫ"
   ]
  },
  {
   "cell_type": "code",
   "execution_count": null,
   "id": "b8f21c62",
   "metadata": {},
   "outputs": [],
   "source": [
    "# 39. Сводная таблица: quality_category × alcohol_level\n",
    "pivot_quality_alcohol = pd.pivot_table(\n",
    "    df,\n",
    "    values='quality',\n",
    "    index='quality_category',\n",
    "    columns='alcohol_level',\n",
    "    aggfunc='count',\n",
    "    fill_value=0\n",
    ")\n",
    "\n",
    "pivot_quality_alcohol.round(2)"
   ]
  },
  {
   "cell_type": "code",
   "execution_count": null,
   "id": "3fe026b3",
   "metadata": {},
   "outputs": [],
   "source": [
    "# 40. Средний alcohol: sweetness_category × acidity_level\n",
    "pivot_sweet_acid = pd.pivot_table(\n",
    "    df,\n",
    "    values='alcohol',\n",
    "    index='sweetness_category',\n",
    "    columns='acidity_level',\n",
    "    aggfunc='mean'\n",
    ")\n",
    "\n",
    "pivot_sweet_acid.round(2)"
   ]
  },
  {
   "cell_type": "code",
   "execution_count": null,
   "id": "32644747",
   "metadata": {},
   "outputs": [],
   "source": [
    "# 41. Процент high_quality: alcohol_level × acidity_level\n",
    "pivot_high_quality = pd.pivot_table(\n",
    "    df,\n",
    "    values='is_high_quality',\n",
    "    index='alcohol_level',\n",
    "    columns='acidity_level',\n",
    "    aggfunc='mean'\n",
    ") * 100\n",
    "\n",
    "pivot_high_quality.round(2)"
   ]
  },
  {
   "cell_type": "code",
   "execution_count": null,
   "id": "e5eb29a4",
   "metadata": {},
   "outputs": [],
   "source": [
    "# 42. С итоговыми значениями\n",
    "pivot_with_margins = pd.pivot_table(\n",
    "    df,\n",
    "    values='quality',\n",
    "    index='alcohol_level',\n",
    "    columns='quality_category',\n",
    "    aggfunc='mean',\n",
    "    margins=True\n",
    ")\n",
    "\n",
    "pivot_with_margins.round(2)"
   ]
  },
  {
   "cell_type": "code",
   "execution_count": null,
   "id": "54f241a3",
   "metadata": {},
   "outputs": [],
   "source": [
    "# 43. Crosstab: УРОВЕНЬ АЛКОГОЛЯ × КАТЕГОРИЯ КАЧЕСТВА\n",
    "crosstab_result = pd.crosstab(df['alcohol_level'], df['quality_category'])\n",
    "crosstab_result"
   ]
  },
  {
   "cell_type": "markdown",
   "id": "29bb164b",
   "metadata": {},
   "source": [
    "## ОБЪЕДИНЕНИЕ ДАТАФРЕЙМОВ"
   ]
  },
  {
   "cell_type": "code",
   "execution_count": null,
   "id": "ec38496f",
   "metadata": {},
   "outputs": [],
   "source": [
    "# 44. Загрузка белого вина\n",
    "url_white = 'https://archive.ics.uci.edu/ml/machine-learning-databases/wine-quality/winequality-white.csv'\n",
    "df_white = pd.read_csv(url_white, sep=';')"
   ]
  },
  {
   "cell_type": "code",
   "execution_count": null,
   "id": "297f6f3c",
   "metadata": {},
   "outputs": [],
   "source": [
    "# 45. Добавление столбца wine_type\n",
    "df['wine_type'] = 'red'\n",
    "df_white['wine_type'] = 'white'"
   ]
  },
  {
   "cell_type": "code",
   "execution_count": null,
   "id": "a8d49432",
   "metadata": {},
   "outputs": [],
   "source": [
    "# Применим те же преобразования к белому вину\n",
    "df_white['quality'] = df_white['quality'].astype(int)\n",
    "df_white['quality_category'] = df_white['quality'].apply(categorize_quality)\n",
    "df_white['alcohol_level'] = df_white['alcohol'].apply(categorize_alcohol)\n",
    "df_white['total_acidity'] = df_white['fixed acidity'] + df_white['volatile acidity'] + df_white['citric acid']\n",
    "df_white['sulfur_ratio'] = df_white['free sulfur dioxide'] / df_white['total sulfur dioxide']\n",
    "df_white['sweetness_category'] = df_white['residual sugar'].apply(categorize_sweetness)\n",
    "df_white['acidity_level'] = df_white['pH'].apply(categorize_ph)\n",
    "df_white['is_high_quality'] = df_white['quality'] >= 7"
   ]
  },
  {
   "cell_type": "code",
   "execution_count": null,
   "id": "b6e5e06c",
   "metadata": {},
   "outputs": [],
   "source": [
    "# 46. Объединение красных и белых вин\n",
    "df_combined = pd.concat([df, df_white], ignore_index=True)\n",
    "print(f\"Всего вин: {len(df_combined)}\")\n",
    "print(f\"Красных: {len(df_combined[df_combined['wine_type'] == 'red'])}\")\n",
    "print(f\"Белых: {len(df_combined[df_combined['wine_type'] == 'white'])}\")"
   ]
  },
  {
   "cell_type": "code",
   "execution_count": null,
   "id": "d9493564",
   "metadata": {},
   "outputs": [],
   "source": [
    "# 47. Эталонные значения для каждой категории\n",
    "quality_benchmarks = df_combined.groupby('quality_category')[chemical_cols_only].mean().reset_index()\n",
    "quality_benchmarks.columns = ['quality_category'] + [f'benchmark_{col}' for col in chemical_cols_only]\n",
    "quality_benchmarks.round(2)"
   ]
  },
  {
   "cell_type": "code",
   "execution_count": null,
   "id": "758b9166",
   "metadata": {},
   "outputs": [],
   "source": [
    "# 48. Статистика по химическим параметрам\n",
    "chemical_stats = pd.DataFrame({\n",
    "    'parameter': chemical_cols_only,\n",
    "    'mean': df_combined[chemical_cols_only].mean(),\n",
    "    'std': df_combined[chemical_cols_only].std(),\n",
    "    'min': df_combined[chemical_cols_only].min(),\n",
    "    'max': df_combined[chemical_cols_only].max()\n",
    "})\n",
    "\n",
    "chemical_stats.round(2)"
   ]
  },
  {
   "cell_type": "code",
   "execution_count": null,
   "id": "dc58a2a0",
   "metadata": {},
   "outputs": [],
   "source": [
    "# 49. Объединение с эталонными значениями\n",
    "df_with_benchmarks = df_combined.merge(quality_benchmarks, on='quality_category', how='left')\n",
    "df_with_benchmarks.head(10)"
   ]
  },
  {
   "cell_type": "code",
   "execution_count": null,
   "id": "998c2577",
   "metadata": {},
   "outputs": [],
   "source": [
    "# 50. Разделение обратно по типу вина\n",
    "df_red_enriched = df_with_benchmarks[df_with_benchmarks['wine_type'] == 'red']\n",
    "df_white_enriched = df_with_benchmarks[df_with_benchmarks['wine_type'] == 'white']"
   ]
  },
  {
   "cell_type": "code",
   "execution_count": null,
   "id": "c384814a",
   "metadata": {},
   "outputs": [],
   "source": [
    "# 51. Сравнение красных и белых вин\n",
    "comparison = df_combined.groupby('wine_type')[chemical_cols_only + ['quality']].mean()\n",
    "comparison.round(2)"
   ]
  },
  {
   "cell_type": "markdown",
   "id": "4c2b2b1c",
   "metadata": {},
   "source": [
    "## КОРРЕЛЯЦИОННЫЙ АНАЛИЗ"
   ]
  },
  {
   "cell_type": "code",
   "execution_count": null,
   "id": "5499f439",
   "metadata": {},
   "outputs": [],
   "source": [
    "# 52. Корреляционная матрица\n",
    "correlation_matrix = df[chemical_cols_only + ['quality']].corr()\n",
    "correlation_matrix.round(3)"
   ]
  },
  {
   "cell_type": "code",
   "execution_count": null,
   "id": "d2a7dcd5",
   "metadata": {},
   "outputs": [],
   "source": [
    "# 53. Наибольшая положительная корреляция с quality\n",
    "positive_corr = correlation_matrix['quality'].drop('quality').sort_values(ascending=False)\n",
    "positive_corr.head(5).round(3)"
   ]
  },
  {
   "cell_type": "code",
   "execution_count": null,
   "id": "4b0858d8",
   "metadata": {},
   "outputs": [],
   "source": [
    "# 54. Наибольшая отрицательная корреляция с quality\n",
    "negative_corr = correlation_matrix['quality'].drop('quality').sort_values()\n",
    "negative_corr.head(5).round(3)"
   ]
  },
  {
   "cell_type": "markdown",
   "id": "90122876",
   "metadata": {},
   "source": [
    "## СОХРАНЕНИЕ РЕЗУЛЬТАТОВ"
   ]
  },
  {
   "cell_type": "code",
   "execution_count": null,
   "id": "fe9807be",
   "metadata": {},
   "outputs": [],
   "source": [
    "# 55. Сохранение в Excel\n",
    "with pd.ExcelWriter('wine_quality_analysis.xlsx', engine='openpyxl') as writer:\n",
    "    # Лист 1: Красные вина с новыми признаками\n",
    "    df.to_excel(writer, sheet_name='Red_Wine', index=False)\n",
    "    \n",
    "    # Лист 2: Вина высокого качества\n",
    "    high_quality_wines.to_excel(writer, sheet_name='High_Quality', index=False)\n",
    "    \n",
    "    # Лист 3: Группировка по качеству\n",
    "    avg_by_quality.to_excel(writer, sheet_name='By_Quality')\n",
    "    \n",
    "    # Лист 4: Группировка по алкоголю\n",
    "    alcohol_level_agg.to_excel(writer, sheet_name='By_Alcohol')\n",
    "    \n",
    "    # Лист 5: Анализ химических параметров\n",
    "    chemical_stats.to_excel(writer, sheet_name='Chemical_Analysis', index=False)\n",
    "    \n",
    "    # Лист 6: Корреляционная матрица\n",
    "    correlation_matrix.to_excel(writer, sheet_name='Correlation_Matrix')\n",
    "    \n",
    "    # Лист 7: Профиль качественного вина\n",
    "    quality_profile = df[df['is_high_quality']][chemical_cols_only].describe()\n",
    "    quality_profile.to_excel(writer, sheet_name='Quality_Profile')\n",
    "    \n",
    "    # Лист 8: Сравнение красных и белых вин\n",
    "    comparison.to_excel(writer, sheet_name='Red_vs_White')"
   ]
  }
 ],
 "metadata": {
  "kernelspec": {
   "display_name": "courses",
   "language": "python",
   "name": "python3"
  },
  "language_info": {
   "name": "python",
   "version": "3.13.9"
  }
 },
 "nbformat": 4,
 "nbformat_minor": 5
}
