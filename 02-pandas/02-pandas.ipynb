{
 "cells": [
  {
   "cell_type": "markdown",
   "id": "11d8f974",
   "metadata": {},
   "source": [
    "# Анализ пассажиров Титаника"
   ]
  },
  {
   "cell_type": "markdown",
   "id": "64ff1714",
   "metadata": {},
   "source": [
    "## Описание данных\n",
    "\n",
    "Датасет `titanic.csv`, содержащит информацию о пассажирах легендарного лайнера \"Титаник\", затонувшего в ночь с 14 на 15 апреля 1912 года после столкновения с айсбергом. \n",
    "\n",
    "Датасет включает демографические данные пассажиров, информацию о билетах и главное — данные о выживаемости.\n",
    "\n",
    "**Датасет**: Titanic Dataset  \n",
    "**Источник**: Stanford CS109  \n",
    "**Прямая ссылка**: https://web.stanford.edu/class/archive/cs/cs109/cs109.1166/stuff/titanic.csv  \n",
    "**Лицензия**: Public Domain\n",
    "\n",
    "\n",
    "### Столбцы датасета\n",
    "\n",
    "| Столбец | Тип данных | Описание | Пример значений |\n",
    "|---------|-----------|----------|-----------------|\n",
    "| **Survived** | int (0/1) | Выжил ли пассажир | 0 = Нет, 1 = Да |\n",
    "| **Pclass** | int (1-3) | Класс пассажира | 1 = Первый, 2 = Второй, 3 = Третий |\n",
    "| **Name** | string | Полное имя пассажира | \"Braund, Mr. Owen Harris\" |\n",
    "| **Sex** | string | Пол пассажира | \"male\" / \"female\" |\n",
    "| **Age** | float | Возраст в годах | 22.0, 38.0, 26.0 |\n",
    "| **Siblings/Spouses Aboard** | int | Количество братьев/сестер/супругов на борту | 0, 1, 2, ... |\n",
    "| **Parents/Children Aboard** | int | Количество родителей/детей на борту | 0, 1, 2, ... |\n",
    "| **Fare** | float | Стоимость билета в фунтах стерлингов | 7.25, 71.28, 0.0 |\n"
   ]
  },
  {
   "cell_type": "markdown",
   "id": "a7ff1d15",
   "metadata": {},
   "source": [
    "## ИМПОРТ БИБЛИОТЕК"
   ]
  },
  {
   "cell_type": "code",
   "execution_count": null,
   "id": "b6d5c9b6",
   "metadata": {},
   "outputs": [],
   "source": [
    "import pandas as pd\n",
    "import numpy as np"
   ]
  },
  {
   "cell_type": "markdown",
   "id": "29a71a01",
   "metadata": {},
   "source": [
    "## ЗАГРУЗКА И ПЕРВИЧНЫЙ АНАЛИЗ"
   ]
  },
  {
   "cell_type": "code",
   "execution_count": null,
   "id": "e5262700",
   "metadata": {},
   "outputs": [],
   "source": [
    "# 1. Загрузка датасета\n",
    "url = 'https://web.stanford.edu/class/archive/cs/cs109/cs109.1166/stuff/titanic.csv'\n",
    "df = pd.read_csv(url)"
   ]
  },
  {
   "cell_type": "code",
   "execution_count": null,
   "id": "48aaa7a8",
   "metadata": {},
   "outputs": [],
   "source": [
    "# 2. Первые 10 строк\n",
    "df.head(10)"
   ]
  },
  {
   "cell_type": "code",
   "execution_count": null,
   "id": "24119426",
   "metadata": {},
   "outputs": [],
   "source": [
    "# 3. Информация о структуре данных\n",
    "df.info()"
   ]
  },
  {
   "cell_type": "code",
   "execution_count": null,
   "id": "3fe5539c",
   "metadata": {},
   "outputs": [],
   "source": [
    "# 4. Описательная статистика\n",
    "df.describe()"
   ]
  },
  {
   "cell_type": "code",
   "execution_count": null,
   "id": "12c6c246",
   "metadata": {},
   "outputs": [],
   "source": [
    "# 5. Список всех колонок\n",
    "df.columns.tolist()"
   ]
  },
  {
   "cell_type": "code",
   "execution_count": null,
   "id": "e15d1923",
   "metadata": {},
   "outputs": [],
   "source": [
    "# 6. Размер датасета\n",
    "df.shape\n",
    "print(f\"Строк: {df.shape[0]}, Столбцов: {df.shape[1]}\")"
   ]
  },
  {
   "cell_type": "markdown",
   "id": "e70d52e7",
   "metadata": {},
   "source": [
    "## ОБРАБОТКА ПРОПУСКОВ И ДУБЛИКАТОВ"
   ]
  },
  {
   "cell_type": "code",
   "execution_count": null,
   "id": "e3214698",
   "metadata": {},
   "outputs": [],
   "source": [
    "# 7. Количество пропущенных значений\n",
    "df.isnull().sum()"
   ]
  },
  {
   "cell_type": "code",
   "execution_count": null,
   "id": "8f2233ee",
   "metadata": {},
   "outputs": [],
   "source": [
    "# 8. Процент пропусков\n",
    "(df.isnull().sum() / len(df) * 100).round(2)"
   ]
  },
  {
   "cell_type": "code",
   "execution_count": null,
   "id": "bec4e5b4",
   "metadata": {},
   "outputs": [],
   "source": [
    "# 9. Заполнение пропусков в Age медианой\n",
    "df['Age'].fillna(df['Age'].median(), inplace=True)"
   ]
  },
  {
   "cell_type": "code",
   "execution_count": null,
   "id": "954d52f7",
   "metadata": {},
   "outputs": [],
   "source": [
    "# 10. Проверка полных дубликатов\n",
    "duplicates = df.duplicated().sum()\n",
    "print(f\"Количество полных дубликатов: {duplicates}\")"
   ]
  },
  {
   "cell_type": "code",
   "execution_count": null,
   "id": "904807cb",
   "metadata": {},
   "outputs": [],
   "source": [
    "# 11. Удаление строк с пропущенным Fare\n",
    "df.dropna(subset=['Fare'], inplace=True)"
   ]
  },
  {
   "cell_type": "code",
   "execution_count": null,
   "id": "05bf9452",
   "metadata": {},
   "outputs": [],
   "source": [
    "# 12. Проверка оставшихся пропусков\n",
    "df.isnull().sum()"
   ]
  },
  {
   "cell_type": "markdown",
   "id": "7f413e18",
   "metadata": {},
   "source": [
    "## ПРЕОБРАЗОВАНИЕ ТИПОВ ДАННЫХ"
   ]
  },
  {
   "cell_type": "code",
   "execution_count": null,
   "id": "6d22aa42",
   "metadata": {},
   "outputs": [],
   "source": [
    "# 13. Survived в булевый тип\n",
    "df['Survived'] = df['Survived'].astype(bool)"
   ]
  },
  {
   "cell_type": "code",
   "execution_count": null,
   "id": "e43c4b58",
   "metadata": {},
   "outputs": [],
   "source": [
    "# 14. Age в float\n",
    "df['Age'] = df['Age'].astype(float)"
   ]
  },
  {
   "cell_type": "code",
   "execution_count": null,
   "id": "ffbea7c2",
   "metadata": {},
   "outputs": [],
   "source": [
    "# 15. Pclass в категориальный тип\n",
    "df['Pclass'] = df['Pclass'].astype('category')"
   ]
  },
  {
   "cell_type": "code",
   "execution_count": null,
   "id": "163ab41d",
   "metadata": {},
   "outputs": [],
   "source": [
    "# Проверка типов данных\n",
    "df.dtypes"
   ]
  },
  {
   "cell_type": "markdown",
   "id": "deab34dc",
   "metadata": {},
   "source": [
    "## СОЗДАНИЕ НОВЫХ ПРИЗНАКОВ"
   ]
  },
  {
   "cell_type": "code",
   "execution_count": null,
   "id": "5b2a2354",
   "metadata": {},
   "outputs": [],
   "source": [
    "# 16. family_size\n",
    "df['family_size'] = df['Siblings/Spouses Aboard'] + df['Parents/Children Aboard']"
   ]
  },
  {
   "cell_type": "code",
   "execution_count": null,
   "id": "e63f2e17",
   "metadata": {},
   "outputs": [],
   "source": [
    "# 17. is_alone\n",
    "df['is_alone'] = df['family_size'] == 0"
   ]
  },
  {
   "cell_type": "code",
   "execution_count": null,
   "id": "7c940774",
   "metadata": {},
   "outputs": [],
   "source": [
    "# 18. age_group\n",
    "def categorize_age(age):\n",
    "    if age < 18:\n",
    "        return 'child'\n",
    "    elif age <= 60:\n",
    "        return 'adult'\n",
    "    else:\n",
    "        return 'senior'\n",
    "\n",
    "df['age_group'] = df['Age'].apply(categorize_age)"
   ]
  },
  {
   "cell_type": "code",
   "execution_count": null,
   "id": "c1bfd430",
   "metadata": {},
   "outputs": [],
   "source": [
    "# 19. fare_category\n",
    "def categorize_fare(fare):\n",
    "    if fare < 10:\n",
    "        return 'cheap'\n",
    "    elif fare <= 30:\n",
    "        return 'medium'\n",
    "    else:\n",
    "        return 'expensive'\n",
    "\n",
    "df['fare_category'] = df['Fare'].apply(categorize_fare)"
   ]
  },
  {
   "cell_type": "code",
   "execution_count": null,
   "id": "3cba43ef",
   "metadata": {},
   "outputs": [],
   "source": [
    "# 20. Извлечение титула из имени\n",
    "df['title'] = df['Name'].str.extract(r' ([A-Za-z]+)\\.', expand=False)"
   ]
  },
  {
   "cell_type": "code",
   "execution_count": null,
   "id": "2e256df9",
   "metadata": {},
   "outputs": [],
   "source": [
    "# 21. Первые 10 строк с новыми столбцами\n",
    "df.head(10)"
   ]
  },
  {
   "cell_type": "markdown",
   "id": "9ebb6b9e",
   "metadata": {},
   "source": [
    "## ФИЛЬТРАЦИЯ И СОРТИРОВКА ДАННЫХ"
   ]
  },
  {
   "cell_type": "code",
   "execution_count": null,
   "id": "f3cb75cb",
   "metadata": {},
   "outputs": [],
   "source": [
    "# 22-23. Пассажиры первого класса\n",
    "first_class = df[df['Pclass'] == 1]\n",
    "print(f\"Количество пассажиров первого класса: {len(first_class)}\")"
   ]
  },
  {
   "cell_type": "code",
   "execution_count": null,
   "id": "323d16b2",
   "metadata": {},
   "outputs": [],
   "source": [
    "# 24. Выжившие женщины\n",
    "survived_women = df[(df['Survived'] == True) & (df['Sex'] == 'female')]\n",
    "print(f\"Количество выживших женщин: {len(survived_women)}\")"
   ]
  },
  {
   "cell_type": "code",
   "execution_count": null,
   "id": "f59c380d",
   "metadata": {},
   "outputs": [],
   "source": [
    "# 25. Query: 3 класс, возраст < 18\n",
    "young_third_class = df.query('Pclass == 3 and Age < 18')\n",
    "print(f\"Количество: {len(young_third_class)}\")"
   ]
  },
  {
   "cell_type": "code",
   "execution_count": null,
   "id": "a50466c5",
   "metadata": {},
   "outputs": [],
   "source": [
    "# 26. Сортировка по Fare (убывание)\n",
    "sorted_by_fare = df.sort_values('Fare', ascending=False)\n",
    "sorted_by_fare[['Name', 'Fare', 'Pclass']].head(10)"
   ]
  },
  {
   "cell_type": "code",
   "execution_count": null,
   "id": "ef9e7ffa",
   "metadata": {},
   "outputs": [],
   "source": [
    "# 27. Сортировка по Pclass, затем Age\n",
    "sorted_multi = df.sort_values(['Pclass', 'Age'])\n",
    "sorted_multi[['Name', 'Pclass', 'Age']].head(10)"
   ]
  },
  {
   "cell_type": "code",
   "execution_count": null,
   "id": "5bb5fd68",
   "metadata": {},
   "outputs": [],
   "source": [
    "# 28. Топ-20 самых дорогих билетов\n",
    "top_20_expensive = df.nlargest(20, 'Fare')\n",
    "top_20_expensive[['Name', 'Fare', 'Pclass']]"
   ]
  },
  {
   "cell_type": "markdown",
   "id": "5da58ff5",
   "metadata": {},
   "source": [
    "## ГРУППИРОВКА И АГРЕГАЦИЯ"
   ]
  },
  {
   "cell_type": "code",
   "execution_count": null,
   "id": "19a62689",
   "metadata": {},
   "outputs": [],
   "source": [
    "# 29. Количество пассажиров по классам\n",
    "passengers_by_class = df.groupby('Pclass').size()\n",
    "passengers_by_class"
   ]
  },
  {
   "cell_type": "code",
   "execution_count": null,
   "id": "bc1fb1e4",
   "metadata": {},
   "outputs": [],
   "source": [
    "# 30. Процент выживших по классам\n",
    "survival_by_class = df.groupby('Pclass')['Survived'].mean() * 100\n",
    "survival_by_class.round(2)"
   ]
  },
  {
   "cell_type": "code",
   "execution_count": null,
   "id": "792f46df",
   "metadata": {},
   "outputs": [],
   "source": [
    "# 31. Класс с наибольшей выживаемостью\n",
    "best_class = survival_by_class.idxmax()\n",
    "print(f\"Класс с наибольшей выживаемостью: {best_class}, Выживаемость: {survival_by_class[best_class]:.2f}%\")"
   ]
  },
  {
   "cell_type": "code",
   "execution_count": null,
   "id": "b68bad4b",
   "metadata": {},
   "outputs": [],
   "source": [
    "# 32. Группировка по полу\n",
    "sex_stats = df.groupby('Sex').agg({\n",
    "    'Name': 'count',\n",
    "    'Age': 'mean',\n",
    "    'Survived': 'mean'\n",
    "})\n",
    "sex_stats.columns = ['Количество', 'Средний возраст', 'Процент выживших']\n",
    "sex_stats['Процент выживших'] *= 100\n",
    "\n",
    "sex_stats.round(2)"
   ]
  },
  {
   "cell_type": "code",
   "execution_count": null,
   "id": "b57ef1f3",
   "metadata": {},
   "outputs": [],
   "source": [
    "# 33. Агрегация по классам\n",
    "class_agg = df.groupby('Pclass').agg({\n",
    "    'Age': ['mean', 'min', 'max'],\n",
    "    'Fare': ['mean', 'median'],\n",
    "    'Survived': 'mean'\n",
    "})\n",
    "\n",
    "class_agg.round(2)"
   ]
  },
  {
   "cell_type": "code",
   "execution_count": null,
   "id": "42229e53",
   "metadata": {},
   "outputs": [],
   "source": [
    "# 34. Топ-5 титулов по количеству выживших\n",
    "title_survivors = df[df['Survived'] == True].groupby('title').size().nlargest(5)\n",
    "\n",
    "title_survivors"
   ]
  },
  {
   "cell_type": "markdown",
   "id": "562ee509",
   "metadata": {},
   "source": [
    "## СВОДНЫЕ ТАБЛИЦЫ"
   ]
  },
  {
   "cell_type": "code",
   "execution_count": null,
   "id": "22953a79",
   "metadata": {},
   "outputs": [],
   "source": [
    "# 35. Сводная таблица: Pclass × Sex, процент выживших\n",
    "pivot_class_sex = pd.pivot_table(\n",
    "    df,\n",
    "    values='Survived',\n",
    "    index='Pclass',\n",
    "    columns='Sex',\n",
    "    aggfunc='mean'\n",
    ") * 100\n",
    "\n",
    "pivot_class_sex.round(2)"
   ]
  },
  {
   "cell_type": "code",
   "execution_count": null,
   "id": "9335b9b1",
   "metadata": {},
   "outputs": [],
   "source": [
    "# 36. Средний Fare: age_group × Pclass\n",
    "pivot_age_class = pd.pivot_table(\n",
    "    df,\n",
    "    values='Fare',\n",
    "    index='age_group',\n",
    "    columns='Pclass',\n",
    "    aggfunc='mean'\n",
    ")\n",
    "\n",
    "pivot_age_class.round(2)"
   ]
  },
  {
   "cell_type": "code",
   "execution_count": null,
   "id": "0ffd09a6",
   "metadata": {},
   "outputs": [],
   "source": [
    "# 37. С итоговыми значениями\n",
    "pivot_with_margins = pd.pivot_table(\n",
    "    df,\n",
    "    values='Fare',\n",
    "    index='age_group',\n",
    "    columns='Pclass',\n",
    "    aggfunc='mean',\n",
    "    margins=True\n",
    ")\n",
    "\n",
    "pivot_with_margins.round(2)"
   ]
  },
  {
   "cell_type": "code",
   "execution_count": null,
   "id": "c373535e",
   "metadata": {},
   "outputs": [],
   "source": [
    "# 38. Crosstab для Pclass и Survived\n",
    "crosstab_result = pd.crosstab(df['Pclass'], df['Survived'])\n",
    "\n",
    "crosstab_result"
   ]
  },
  {
   "cell_type": "markdown",
   "id": "8b89d6ea",
   "metadata": {},
   "source": [
    "## ОБЪЕДИНЕНИЕ ДАТАФРЕЙМОВ"
   ]
  },
  {
   "cell_type": "code",
   "execution_count": null,
   "id": "2eed0e2b",
   "metadata": {},
   "outputs": [],
   "source": [
    "# 39. Датафрейм со статистикой по классам\n",
    "class_stats = df.groupby('Pclass').agg({\n",
    "    'Survived': 'mean',\n",
    "    'Age': 'mean',\n",
    "    'Fare': 'mean'\n",
    "}).reset_index()\n",
    "\n",
    "class_stats.columns = ['Pclass', 'survival_rate', 'avg_age', 'avg_fare']"
   ]
  },
  {
   "cell_type": "code",
   "execution_count": null,
   "id": "f8003ec4",
   "metadata": {},
   "outputs": [],
   "source": [
    "# 40. Статистика по возрастным группам\n",
    "survival_by_age = df.groupby('age_group').agg({\n",
    "    'Survived': 'mean',\n",
    "    'Name': 'count'\n",
    "}).reset_index()\n",
    "\n",
    "survival_by_age.columns = ['age_group', 'survival_rate', 'count']"
   ]
  },
  {
   "cell_type": "code",
   "execution_count": null,
   "id": "09fb8c70",
   "metadata": {},
   "outputs": [],
   "source": [
    "# 41. Left join с class_stats ДАТАСЕТ С ДОБАВЛЕННОЙ СТАТИСТИКОЙ ПО КЛАССАМ\n",
    "df_merged = df.merge(class_stats, on='Pclass', how='left', suffixes=('', '_class'))"
   ]
  },
  {
   "cell_type": "code",
   "execution_count": null,
   "id": "8f883d29",
   "metadata": {},
   "outputs": [],
   "source": [
    "# 42. Разделение на выживших и невыживших\n",
    "survived = df[df['Survived'] == True]\n",
    "not_survived = df[df['Survived'] == False]"
   ]
  },
  {
   "cell_type": "code",
   "execution_count": null,
   "id": "066c88df",
   "metadata": {},
   "outputs": [],
   "source": [
    "# 43. Объединение обратно\n",
    "df_concat = pd.concat([survived, not_survived], ignore_index=True)\n",
    "print(f\"Размер объединенного датасета: {df_concat.shape}\")"
   ]
  },
  {
   "cell_type": "markdown",
   "id": "0747ed5c",
   "metadata": {},
   "source": [
    "## СОХРАНЕНИЕ РЕЗУЛЬТАТОВ"
   ]
  },
  {
   "cell_type": "code",
   "execution_count": null,
   "id": "e698568f",
   "metadata": {},
   "outputs": [],
   "source": [
    "# 44. Сохранение в CSV\n",
    "df.to_csv('titanic_clean.csv', index=False)"
   ]
  },
  {
   "cell_type": "code",
   "execution_count": null,
   "id": "f741ff4d",
   "metadata": {},
   "outputs": [],
   "source": [
    "# 45. Сохранение в Excel с несколькими листами\n",
    "with pd.ExcelWriter('titanic_analysis.xlsx', engine='openpyxl') as writer:\n",
    "    # Лист 1: Очищенные данные\n",
    "    df.to_excel(writer, sheet_name='Clean_Data', index=False)\n",
    "    \n",
    "    # Лист 2: Описательная статистика\n",
    "    df.describe().to_excel(writer, sheet_name='Statistics')\n",
    "    \n",
    "    # Лист 3: Группировка по классам\n",
    "    class_analysis = df.groupby('Pclass').agg({\n",
    "        'Survived': 'mean',\n",
    "        'Age': 'mean',\n",
    "        'Fare': ['mean', 'median', 'max'],\n",
    "        'Name': 'count'\n",
    "    })\n",
    "    class_analysis.to_excel(writer, sheet_name='By_Class')\n",
    "\n",
    "        \n",
    "    # Лист 4: Группировка по полу\n",
    "    sex_analysis = df.groupby('Sex').agg({\n",
    "        'Survived': 'mean',\n",
    "        'Age': 'mean',\n",
    "        'Fare': 'mean',\n",
    "        'Name': 'count'\n",
    "    })\n",
    "    sex_analysis.to_excel(writer, sheet_name='By_Sex')"
   ]
  }
 ],
 "metadata": {
  "language_info": {
   "name": "python"
  }
 },
 "nbformat": 4,
 "nbformat_minor": 5
}
